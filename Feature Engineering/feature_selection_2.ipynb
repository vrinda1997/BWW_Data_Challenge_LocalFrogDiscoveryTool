{
 "cells": [
  {
   "cell_type": "code",
   "execution_count": 1,
   "id": "5edbf816",
   "metadata": {},
   "outputs": [],
   "source": [
    "#Basic Libraries\n",
    "import pandas as pd\n",
    "import numpy as np\n",
    "import datetime as dt\n",
    "\n",
    "\n",
    "#Visualizations\n",
    "import matplotlib.pyplot as plt\n",
    "import seaborn as sns\n",
    "\n",
    "\n",
    "# ML Matrix + Performance params\n",
    "from sklearn.metrics import f1_score, accuracy_score, ConfusionMatrixDisplay\n",
    "from sklearn.model_selection import StratifiedKFold\n",
    "from sklearn.model_selection import train_test_split\n",
    "from sklearn.metrics import confusion_matrix,classification_report,plot_confusion_matrix\n",
    "from statsmodels.stats.outliers_influence import variance_inflation_factor\n",
    "\n",
    "#Fixing Balancing\n",
    "from imblearn.over_sampling import SMOTE\n",
    "from imblearn.under_sampling import RandomUnderSampler\n",
    "from imblearn.combine import SMOTETomek\n",
    "from collections import Counter\n",
    "from imblearn.pipeline import Pipeline\n",
    "\n",
    "\n",
    "#Load the ML Algos\n",
    "from sklearn.ensemble import RandomForestClassifier, AdaBoostClassifier, GradientBoostingClassifier, ExtraTreesClassifier, VotingClassifier\n",
    "from sklearn.discriminant_analysis import LinearDiscriminantAnalysis\n",
    "from sklearn.linear_model import LogisticRegression\n",
    "from sklearn.neighbors import KNeighborsClassifier\n",
    "from sklearn.tree import DecisionTreeClassifier\n",
    "from sklearn.neural_network import MLPClassifier\n",
    "from sklearn.svm import SVC\n",
    "from sklearn.svm import LinearSVC\n",
    "from xgboost import XGBClassifier\n",
    "from sklearn.model_selection import GridSearchCV, cross_val_score, StratifiedKFold\n",
    "from sklearn.naive_bayes import MultinomialNB\n",
    "\n",
    "# Other\n",
    "import os\n",
    "from itertools import cycle"
   ]
  },
  {
   "cell_type": "code",
   "execution_count": 2,
   "id": "9224940e",
   "metadata": {},
   "outputs": [],
   "source": [
    "df = pd.read_csv('terraclimate2000_2021_18_features.csv').drop('Unnamed: 0',axis=1)"
   ]
  },
  {
   "cell_type": "code",
   "execution_count": 3,
   "id": "35f69243",
   "metadata": {
    "scrolled": true
   },
   "outputs": [
    {
     "data": {
      "text/html": [
       "<div>\n",
       "<style scoped>\n",
       "    .dataframe tbody tr th:only-of-type {\n",
       "        vertical-align: middle;\n",
       "    }\n",
       "\n",
       "    .dataframe tbody tr th {\n",
       "        vertical-align: top;\n",
       "    }\n",
       "\n",
       "    .dataframe thead th {\n",
       "        text-align: right;\n",
       "    }\n",
       "</style>\n",
       "<table border=\"1\" class=\"dataframe\">\n",
       "  <thead>\n",
       "    <tr style=\"text-align: right;\">\n",
       "      <th></th>\n",
       "      <th>decimalLatitude</th>\n",
       "      <th>decimalLongitude</th>\n",
       "      <th>cluster</th>\n",
       "      <th>occurrenceStatus</th>\n",
       "      <th>key</th>\n",
       "      <th>aet_mean</th>\n",
       "      <th>def_mean</th>\n",
       "      <th>pdsi_mean</th>\n",
       "      <th>pet_mean</th>\n",
       "      <th>ppt_mean</th>\n",
       "      <th>...</th>\n",
       "      <th>soil_mean</th>\n",
       "      <th>srad_mean</th>\n",
       "      <th>tmax_mean</th>\n",
       "      <th>tmax_station_influence_mean</th>\n",
       "      <th>tmin_mean</th>\n",
       "      <th>tmin_station_influence_mean</th>\n",
       "      <th>vap_mean</th>\n",
       "      <th>vap_station_influence_mean</th>\n",
       "      <th>vpd_mean</th>\n",
       "      <th>ws_mean</th>\n",
       "    </tr>\n",
       "  </thead>\n",
       "  <tbody>\n",
       "    <tr>\n",
       "      <th>0</th>\n",
       "      <td>-38.045122</td>\n",
       "      <td>145.326047</td>\n",
       "      <td>0</td>\n",
       "      <td>0</td>\n",
       "      <td>0</td>\n",
       "      <td>57.445833</td>\n",
       "      <td>44.995833</td>\n",
       "      <td>-3.376250</td>\n",
       "      <td>102.412500</td>\n",
       "      <td>60.545833</td>\n",
       "      <td>...</td>\n",
       "      <td>62.204167</td>\n",
       "      <td>178.504167</td>\n",
       "      <td>20.057085</td>\n",
       "      <td>6.4</td>\n",
       "      <td>10.082502</td>\n",
       "      <td>6.4</td>\n",
       "      <td>1.177583</td>\n",
       "      <td>6.391667</td>\n",
       "      <td>0.656333</td>\n",
       "      <td>4.845417</td>\n",
       "    </tr>\n",
       "    <tr>\n",
       "      <th>1</th>\n",
       "      <td>-38.030947</td>\n",
       "      <td>145.432053</td>\n",
       "      <td>0</td>\n",
       "      <td>0</td>\n",
       "      <td>1</td>\n",
       "      <td>67.095833</td>\n",
       "      <td>31.216667</td>\n",
       "      <td>-3.432083</td>\n",
       "      <td>98.287500</td>\n",
       "      <td>72.254167</td>\n",
       "      <td>...</td>\n",
       "      <td>115.916667</td>\n",
       "      <td>178.379167</td>\n",
       "      <td>19.570835</td>\n",
       "      <td>6.4</td>\n",
       "      <td>9.317085</td>\n",
       "      <td>6.4</td>\n",
       "      <td>1.147042</td>\n",
       "      <td>6.391667</td>\n",
       "      <td>0.614333</td>\n",
       "      <td>4.658750</td>\n",
       "    </tr>\n",
       "    <tr>\n",
       "      <th>2</th>\n",
       "      <td>-38.088716</td>\n",
       "      <td>145.722909</td>\n",
       "      <td>0</td>\n",
       "      <td>0</td>\n",
       "      <td>2</td>\n",
       "      <td>62.287500</td>\n",
       "      <td>36.450000</td>\n",
       "      <td>-3.549583</td>\n",
       "      <td>98.691667</td>\n",
       "      <td>66.000000</td>\n",
       "      <td>...</td>\n",
       "      <td>90.233333</td>\n",
       "      <td>179.412500</td>\n",
       "      <td>20.120418</td>\n",
       "      <td>6.4</td>\n",
       "      <td>9.410002</td>\n",
       "      <td>6.4</td>\n",
       "      <td>1.169000</td>\n",
       "      <td>6.391667</td>\n",
       "      <td>0.644417</td>\n",
       "      <td>4.260000</td>\n",
       "    </tr>\n",
       "    <tr>\n",
       "      <th>3</th>\n",
       "      <td>-37.807553</td>\n",
       "      <td>145.263607</td>\n",
       "      <td>0</td>\n",
       "      <td>0</td>\n",
       "      <td>3</td>\n",
       "      <td>62.966667</td>\n",
       "      <td>41.016667</td>\n",
       "      <td>-2.847500</td>\n",
       "      <td>103.991667</td>\n",
       "      <td>67.729167</td>\n",
       "      <td>...</td>\n",
       "      <td>69.966667</td>\n",
       "      <td>178.550000</td>\n",
       "      <td>20.280001</td>\n",
       "      <td>6.4</td>\n",
       "      <td>9.713335</td>\n",
       "      <td>6.4</td>\n",
       "      <td>1.131250</td>\n",
       "      <td>6.391667</td>\n",
       "      <td>0.708958</td>\n",
       "      <td>4.435833</td>\n",
       "    </tr>\n",
       "    <tr>\n",
       "      <th>4</th>\n",
       "      <td>-37.991842</td>\n",
       "      <td>145.118825</td>\n",
       "      <td>0</td>\n",
       "      <td>0</td>\n",
       "      <td>4</td>\n",
       "      <td>49.912500</td>\n",
       "      <td>58.070833</td>\n",
       "      <td>-3.313750</td>\n",
       "      <td>107.987500</td>\n",
       "      <td>52.570833</td>\n",
       "      <td>...</td>\n",
       "      <td>28.270833</td>\n",
       "      <td>179.416667</td>\n",
       "      <td>20.377918</td>\n",
       "      <td>6.4</td>\n",
       "      <td>10.522502</td>\n",
       "      <td>6.4</td>\n",
       "      <td>1.195583</td>\n",
       "      <td>6.391667</td>\n",
       "      <td>0.677208</td>\n",
       "      <td>5.472083</td>\n",
       "    </tr>\n",
       "  </tbody>\n",
       "</table>\n",
       "<p>5 rows × 22 columns</p>\n",
       "</div>"
      ],
      "text/plain": [
       "   decimalLatitude  decimalLongitude  cluster  occurrenceStatus  key  \\\n",
       "0       -38.045122        145.326047        0                 0    0   \n",
       "1       -38.030947        145.432053        0                 0    1   \n",
       "2       -38.088716        145.722909        0                 0    2   \n",
       "3       -37.807553        145.263607        0                 0    3   \n",
       "4       -37.991842        145.118825        0                 0    4   \n",
       "\n",
       "    aet_mean   def_mean  pdsi_mean    pet_mean   ppt_mean  ...   soil_mean  \\\n",
       "0  57.445833  44.995833  -3.376250  102.412500  60.545833  ...   62.204167   \n",
       "1  67.095833  31.216667  -3.432083   98.287500  72.254167  ...  115.916667   \n",
       "2  62.287500  36.450000  -3.549583   98.691667  66.000000  ...   90.233333   \n",
       "3  62.966667  41.016667  -2.847500  103.991667  67.729167  ...   69.966667   \n",
       "4  49.912500  58.070833  -3.313750  107.987500  52.570833  ...   28.270833   \n",
       "\n",
       "    srad_mean  tmax_mean  tmax_station_influence_mean  tmin_mean  \\\n",
       "0  178.504167  20.057085                          6.4  10.082502   \n",
       "1  178.379167  19.570835                          6.4   9.317085   \n",
       "2  179.412500  20.120418                          6.4   9.410002   \n",
       "3  178.550000  20.280001                          6.4   9.713335   \n",
       "4  179.416667  20.377918                          6.4  10.522502   \n",
       "\n",
       "   tmin_station_influence_mean  vap_mean  vap_station_influence_mean  \\\n",
       "0                          6.4  1.177583                    6.391667   \n",
       "1                          6.4  1.147042                    6.391667   \n",
       "2                          6.4  1.169000                    6.391667   \n",
       "3                          6.4  1.131250                    6.391667   \n",
       "4                          6.4  1.195583                    6.391667   \n",
       "\n",
       "   vpd_mean   ws_mean  \n",
       "0  0.656333  4.845417  \n",
       "1  0.614333  4.658750  \n",
       "2  0.644417  4.260000  \n",
       "3  0.708958  4.435833  \n",
       "4  0.677208  5.472083  \n",
       "\n",
       "[5 rows x 22 columns]"
      ]
     },
     "execution_count": 3,
     "metadata": {},
     "output_type": "execute_result"
    }
   ],
   "source": [
    "df.head()"
   ]
  },
  {
   "cell_type": "code",
   "execution_count": 4,
   "id": "fdacce8d",
   "metadata": {},
   "outputs": [
    {
     "name": "stdout",
     "output_type": "stream",
     "text": [
      "33690\n",
      "33649\n"
     ]
    }
   ],
   "source": [
    "print(len(df))\n",
    "df.drop_duplicates(inplace=True)\n",
    "df.dropna(inplace=True)\n",
    "print(len(df))"
   ]
  },
  {
   "cell_type": "code",
   "execution_count": 5,
   "id": "69b66d01",
   "metadata": {
    "scrolled": false
   },
   "outputs": [
    {
     "data": {
      "text/plain": [
       "cluster  occurrenceStatus\n",
       "0        0                   6886\n",
       "         1                    156\n",
       "1        0                   7868\n",
       "         1                   7693\n",
       "2        0                    784\n",
       "         1                   2204\n",
       "3        0                    206\n",
       "         1                   1138\n",
       "4        0                   6714\n",
       "Name: key, dtype: int64"
      ]
     },
     "execution_count": 5,
     "metadata": {},
     "output_type": "execute_result"
    }
   ],
   "source": [
    "df.groupby(['cluster','occurrenceStatus']).count()['key']"
   ]
  },
  {
   "cell_type": "code",
   "execution_count": 8,
   "id": "e23629a5",
   "metadata": {},
   "outputs": [
    {
     "data": {
      "text/plain": [
       "array([0, 1, 2, 3, 4], dtype=int64)"
      ]
     },
     "execution_count": 8,
     "metadata": {},
     "output_type": "execute_result"
    }
   ],
   "source": [
    "df.cluster.unique()"
   ]
  },
  {
   "cell_type": "code",
   "execution_count": 23,
   "id": "4f6a88fb",
   "metadata": {},
   "outputs": [],
   "source": [
    "def cluster_wise_smote(x):\n",
    "    final_df = pd.DataFrame()\n",
    "    smt = SMOTETomek(sampling_strategy = 'auto')\n",
    "    for cluster_num in x.cluster.unique():\n",
    "        temp_df = x.loc[x.cluster == cluster_num]\n",
    "        if len(temp_df.occurrenceStatus.unique()) > 1:\n",
    "            temp_df_X = temp_df[['decimalLatitude', 'decimalLongitude',\n",
    "                                 'aet_mean', 'def_mean', 'pdsi_mean', 'pet_mean', 'ppt_mean',\n",
    "                                 'ppt_station_influence_mean', 'q_mean', 'soil_mean', 'srad_mean',\n",
    "                                 'tmax_mean', 'tmax_station_influence_mean', 'tmin_mean',\n",
    "                                 'tmin_station_influence_mean', 'vap_mean', 'vap_station_influence_mean',\n",
    "                                 'vpd_mean', 'ws_mean']]\n",
    "            temp_df_Y = temp_df[['occurrenceStatus']]\n",
    "            print(f'Cluster {cluster_num} in progress....')\n",
    "            print(f'Value counts of Cluster {cluster_num} before SMOTE : {temp_df_Y.value_counts()}')\n",
    "            #Balancing\n",
    "            X_res, y_res = smt.fit_resample(temp_df_X, temp_df_Y)\n",
    "            X_res['cluster'] = cluster_num\n",
    "            print(f'Value counts of Cluster {cluster_num}  After SMOTE : {y_res.value_counts()}')\n",
    "            new_temp = pd.concat([X_res,y_res],axis=1)\n",
    "            final_df = pd.concat([final_df, new_temp],axis=0)\n",
    "    return final_df\n",
    "        \n",
    "        \n",
    "        \n",
    "    "
   ]
  },
  {
   "cell_type": "code",
   "execution_count": 24,
   "id": "8da21779",
   "metadata": {
    "scrolled": true
   },
   "outputs": [
    {
     "name": "stdout",
     "output_type": "stream",
     "text": [
      "Cluster 0 in progress....\n",
      "Value counts of Cluster 0 before SMOTE : occurrenceStatus\n",
      "0                   6868\n",
      "1                   6868\n",
      "dtype: int64\n",
      "Value counts of Cluster 0  After SMOTE : occurrenceStatus\n",
      "0                   6866\n",
      "1                   6866\n",
      "dtype: int64\n",
      "Cluster 1 in progress....\n",
      "Value counts of Cluster 1 before SMOTE : occurrenceStatus\n",
      "0                   7739\n",
      "1                   7739\n",
      "dtype: int64\n",
      "Value counts of Cluster 1  After SMOTE : occurrenceStatus\n",
      "0                   7736\n",
      "1                   7736\n",
      "dtype: int64\n",
      "Cluster 2 in progress....\n",
      "Value counts of Cluster 2 before SMOTE : occurrenceStatus\n",
      "0                   2166\n",
      "1                   2166\n",
      "dtype: int64\n",
      "Value counts of Cluster 2  After SMOTE : occurrenceStatus\n",
      "0                   2165\n",
      "1                   2165\n",
      "dtype: int64\n",
      "Cluster 3 in progress....\n",
      "Value counts of Cluster 3 before SMOTE : occurrenceStatus\n",
      "0                   1131\n",
      "1                   1131\n",
      "dtype: int64\n",
      "Value counts of Cluster 3  After SMOTE : occurrenceStatus\n",
      "0                   1131\n",
      "1                   1131\n",
      "dtype: int64\n"
     ]
    }
   ],
   "source": [
    "df = cluster_wise_smote(df)"
   ]
  },
  {
   "cell_type": "code",
   "execution_count": 22,
   "id": "11a790b5",
   "metadata": {
    "scrolled": false
   },
   "outputs": [
    {
     "data": {
      "text/plain": [
       "Index(['decimalLatitude', 'decimalLongitude', 'aet_mean', 'def_mean',\n",
       "       'pdsi_mean', 'pet_mean', 'ppt_mean', 'ppt_station_influence_mean',\n",
       "       'q_mean', 'soil_mean', 'srad_mean', 'tmax_mean',\n",
       "       'tmax_station_influence_mean', 'tmin_mean',\n",
       "       'tmin_station_influence_mean', 'vap_mean', 'vap_station_influence_mean',\n",
       "       'vpd_mean', 'ws_mean', 'cluster', 'occurrenceStatus'],\n",
       "      dtype='object')"
      ]
     },
     "execution_count": 22,
     "metadata": {},
     "output_type": "execute_result"
    }
   ],
   "source": [
    "df.columns"
   ]
  },
  {
   "cell_type": "code",
   "execution_count": 51,
   "id": "a016850b",
   "metadata": {},
   "outputs": [],
   "source": [
    "# # X = df[['cluster', 'aet_mean', 'def_mean', 'pdsi_mean', 'pet_mean', 'ppt_mean',\n",
    "# #        'ppt_station_influence_mean', 'q_mean', 'soil_mean', 'srad_mean',\n",
    "# #        'tmax_mean', 'tmax_station_influence_mean', 'tmin_mean',\n",
    "# #        'tmin_station_influence_mean', 'vap_mean', 'vap_station_influence_mean',\n",
    "# #        'vpd_mean', 'ws_mean']]\n",
    "# # y = df.occurrenceStatus\n",
    "# # print(y.value_counts())\n",
    "\n",
    "# X = df[['def_mean','tmin_mean']]\n",
    "# y = df.occurrenceStatus\n",
    "# print(y.value_counts())\n"
   ]
  },
  {
   "cell_type": "code",
   "execution_count": 52,
   "id": "2dbe9f9b",
   "metadata": {},
   "outputs": [],
   "source": [
    "# # define pipeline\n",
    "# over = SMOTE(sampling_strategy=0.9)\n",
    "# under = RandomUnderSampler(sampling_strategy=0.8)\n",
    "# steps = [('u', under), ('o',over)]\n",
    "# pipeline = Pipeline(steps=steps)\n",
    "# # transform the dataset\n",
    "# X, y = pipeline.fit_resample(X, y)\n",
    "\n",
    "# temp_df = pd.concat([X,y],axis=1)\n",
    "# print(y.value_counts())"
   ]
  },
  {
   "cell_type": "code",
   "execution_count": 53,
   "id": "6f02eec2",
   "metadata": {},
   "outputs": [],
   "source": [
    "# temp_df.groupby(['cluster','occurrenceStatus']).count()['aet_mean']"
   ]
  },
  {
   "cell_type": "code",
   "execution_count": 54,
   "id": "592c24c2",
   "metadata": {},
   "outputs": [],
   "source": [
    "# import seaborn as sns\n",
    "\n",
    "# sns.pairplot(df[['aet_mean','ppt_mean']])"
   ]
  },
  {
   "cell_type": "code",
   "execution_count": 55,
   "id": "1d16a78e",
   "metadata": {},
   "outputs": [],
   "source": [
    "df.dropna(inplace=True)"
   ]
  },
  {
   "cell_type": "code",
   "execution_count": 56,
   "id": "18e9e5f7",
   "metadata": {},
   "outputs": [],
   "source": [
    "df.drop_duplicates(inplace=True)"
   ]
  },
  {
   "cell_type": "code",
   "execution_count": 25,
   "id": "2a626843",
   "metadata": {},
   "outputs": [],
   "source": [
    "#Predictor Variables\n",
    "X = df[['vap_mean','vpd_mean','ws_mean']]\n",
    "\n",
    "#Target\n",
    "y = df[['occurrenceStatus']]"
   ]
  },
  {
   "cell_type": "code",
   "execution_count": 36,
   "id": "d51197a8",
   "metadata": {
    "scrolled": true
   },
   "outputs": [
    {
     "name": "stdout",
     "output_type": "stream",
     "text": [
      "occurrenceStatus\n",
      "0                   22458\n",
      "1                   11191\n",
      "dtype: int64\n",
      "occurrenceStatus\n",
      "0                   22456\n",
      "1                   22456\n",
      "dtype: int64\n"
     ]
    }
   ],
   "source": [
    "# summarize class distribution\n",
    "print(y.value_counts())\n",
    "\n",
    "# define pipeline\n",
    "#Oversampling using smote - https://machinelearningmastery.com/smote-oversampling-for-imbalanced-classification/\n",
    "smt = SMOTETomek(sampling_strategy = 'auto')\n",
    "X_res, y_res = smt.fit_resample(X, y)\n",
    "\n",
    "\n",
    "# summarize class distribution\n",
    "print(y_res.value_counts())"
   ]
  },
  {
   "cell_type": "code",
   "execution_count": 27,
   "id": "0348f5b9",
   "metadata": {},
   "outputs": [],
   "source": [
    "X_res, y_res = X , y"
   ]
  },
  {
   "cell_type": "code",
   "execution_count": 60,
   "id": "681cae9b",
   "metadata": {
    "scrolled": true
   },
   "outputs": [
    {
     "data": {
      "text/html": [
       "<div>\n",
       "<style scoped>\n",
       "    .dataframe tbody tr th:only-of-type {\n",
       "        vertical-align: middle;\n",
       "    }\n",
       "\n",
       "    .dataframe tbody tr th {\n",
       "        vertical-align: top;\n",
       "    }\n",
       "\n",
       "    .dataframe thead th {\n",
       "        text-align: right;\n",
       "    }\n",
       "</style>\n",
       "<table border=\"1\" class=\"dataframe\">\n",
       "  <thead>\n",
       "    <tr style=\"text-align: right;\">\n",
       "      <th></th>\n",
       "      <th>vap_mean</th>\n",
       "      <th>vpd_mean</th>\n",
       "      <th>ws_mean</th>\n",
       "    </tr>\n",
       "  </thead>\n",
       "  <tbody>\n",
       "    <tr>\n",
       "      <th>count</th>\n",
       "      <td>33649.000000</td>\n",
       "      <td>33649.000000</td>\n",
       "      <td>33649.000000</td>\n",
       "    </tr>\n",
       "    <tr>\n",
       "      <th>mean</th>\n",
       "      <td>1.397772</td>\n",
       "      <td>0.799319</td>\n",
       "      <td>4.033520</td>\n",
       "    </tr>\n",
       "    <tr>\n",
       "      <th>std</th>\n",
       "      <td>0.224415</td>\n",
       "      <td>0.144665</td>\n",
       "      <td>0.665548</td>\n",
       "    </tr>\n",
       "    <tr>\n",
       "      <th>min</th>\n",
       "      <td>0.909458</td>\n",
       "      <td>0.445167</td>\n",
       "      <td>2.360417</td>\n",
       "    </tr>\n",
       "    <tr>\n",
       "      <th>25%</th>\n",
       "      <td>1.288250</td>\n",
       "      <td>0.721292</td>\n",
       "      <td>3.586250</td>\n",
       "    </tr>\n",
       "    <tr>\n",
       "      <th>50%</th>\n",
       "      <td>1.426958</td>\n",
       "      <td>0.737292</td>\n",
       "      <td>3.945417</td>\n",
       "    </tr>\n",
       "    <tr>\n",
       "      <th>75%</th>\n",
       "      <td>1.459542</td>\n",
       "      <td>0.848421</td>\n",
       "      <td>4.512917</td>\n",
       "    </tr>\n",
       "    <tr>\n",
       "      <th>max</th>\n",
       "      <td>2.424583</td>\n",
       "      <td>1.129917</td>\n",
       "      <td>5.928333</td>\n",
       "    </tr>\n",
       "  </tbody>\n",
       "</table>\n",
       "</div>"
      ],
      "text/plain": [
       "           vap_mean      vpd_mean       ws_mean\n",
       "count  33649.000000  33649.000000  33649.000000\n",
       "mean       1.397772      0.799319      4.033520\n",
       "std        0.224415      0.144665      0.665548\n",
       "min        0.909458      0.445167      2.360417\n",
       "25%        1.288250      0.721292      3.586250\n",
       "50%        1.426958      0.737292      3.945417\n",
       "75%        1.459542      0.848421      4.512917\n",
       "max        2.424583      1.129917      5.928333"
      ]
     },
     "execution_count": 60,
     "metadata": {},
     "output_type": "execute_result"
    }
   ],
   "source": [
    "X_res.describe()"
   ]
  },
  {
   "cell_type": "code",
   "execution_count": 28,
   "id": "d19d5076",
   "metadata": {},
   "outputs": [
    {
     "name": "stdout",
     "output_type": "stream",
     "text": [
      "[[0.1769656  0.34798133 0.69648488]\n",
      " [0.15680775 0.27876957 0.64416677]\n",
      " [0.1713005  0.32834386 0.53240686]\n",
      " ...\n",
      " [0.87481781 0.49322772 0.82463106]\n",
      " [0.87481781 0.49322772 0.82463106]\n",
      " [0.87481781 0.49322772 0.82463106]]\n"
     ]
    }
   ],
   "source": [
    "# example of a normalization\n",
    "from sklearn.preprocessing import MinMaxScaler\n",
    "# define data\n",
    "data = X_res\n",
    "# define min max scaler\n",
    "scaler = MinMaxScaler()\n",
    "# transform data\n",
    "X_scaled = scaler.fit_transform(data)\n",
    "print(X_scaled)"
   ]
  },
  {
   "cell_type": "code",
   "execution_count": 29,
   "id": "2be88ea4",
   "metadata": {},
   "outputs": [],
   "source": [
    "y_res = y_res.astype('category')"
   ]
  },
  {
   "cell_type": "code",
   "execution_count": 30,
   "id": "53168119",
   "metadata": {},
   "outputs": [],
   "source": [
    "X_train, X_test, y_train, y_test = train_test_split(X_scaled,y_res, test_size=0.30, random_state=1)"
   ]
  },
  {
   "cell_type": "code",
   "execution_count": 31,
   "id": "a686e4f2",
   "metadata": {},
   "outputs": [],
   "source": [
    "# Cross validate model with Kfold stratified cross val\n",
    "kfold = StratifiedKFold(n_splits=5) "
   ]
  },
  {
   "cell_type": "code",
   "execution_count": 32,
   "id": "0ff00dfa",
   "metadata": {},
   "outputs": [],
   "source": [
    "def report(model):\n",
    "    preds = model.predict(X_test)\n",
    "    print(classification_report(y_test,preds))\n",
    "    plot_confusion_matrix(model,X_test,y_test)\n",
    "    print(f\"F1 Score: {np.mean(f1_score(y_test, preds)).round(2)}\")\n",
    "    print(f\"Accuracy: {np.mean(accuracy_score(y_test, preds)).round(2)}\")"
   ]
  },
  {
   "cell_type": "code",
   "execution_count": 81,
   "id": "7144331e",
   "metadata": {},
   "outputs": [
    {
     "name": "stdout",
     "output_type": "stream",
     "text": [
      "Fitting 5 folds for each of 18 candidates, totalling 90 fits\n"
     ]
    },
    {
     "name": "stderr",
     "output_type": "stream",
     "text": [
      "[Parallel(n_jobs=-1)]: Using backend LokyBackend with 8 concurrent workers.\n",
      "[Parallel(n_jobs=-1)]: Done  34 tasks      | elapsed:    3.5s\n",
      "[Parallel(n_jobs=-1)]: Done  90 out of  90 | elapsed:    8.8s finished\n",
      "C:\\Users\\LR996GB\\Anaconda3\\envs\\frogs\\lib\\site-packages\\sklearn\\model_selection\\_search.py:765: DataConversionWarning: A column-vector y was passed when a 1d array was expected. Please change the shape of y to (n_samples,), for example using ravel().\n",
      "  self.best_estimator_.fit(X, y, **fit_params)\n"
     ]
    },
    {
     "data": {
      "text/plain": [
       "GridSearchCV(cv=StratifiedKFold(n_splits=5, random_state=None, shuffle=False),\n",
       "             estimator=RandomForestClassifier(), n_jobs=-1,\n",
       "             param_grid={'bootstrap': [True, False], 'criterion': ['gini'],\n",
       "                         'max_depth': [13, 14, 15],\n",
       "                         'n_estimators': [36, 37, 38]},\n",
       "             scoring='accuracy', verbose=1)"
      ]
     },
     "execution_count": 81,
     "metadata": {},
     "output_type": "execute_result"
    }
   ],
   "source": [
    "# Train the model\n",
    "RFC = RandomForestClassifier()\n",
    "\n",
    "\n",
    "#Parameters\n",
    "rf_param_grid = {\"max_depth\": [13,14,15],\n",
    "              \"bootstrap\": [True, False],\n",
    "              \"n_estimators\" :[36,37,38],\n",
    "              \"criterion\": [\"gini\"]}\n",
    "\n",
    "#GridSearchCV\n",
    "gsRFC = GridSearchCV(RFC,param_grid = rf_param_grid, cv=kfold, scoring=\"accuracy\", n_jobs= -1, verbose = 1)\n",
    "gsRFC.fit(X_train,y_train)"
   ]
  },
  {
   "cell_type": "code",
   "execution_count": 82,
   "id": "44a133a8",
   "metadata": {
    "scrolled": false
   },
   "outputs": [
    {
     "name": "stdout",
     "output_type": "stream",
     "text": [
      "Best : 0.7880613876994755, using {'bootstrap': True, 'criterion': 'gini', 'max_depth': 13, 'n_estimators': 38}\n",
      "              precision    recall  f1-score   support\n",
      "\n",
      "           0       0.89      0.78      0.83      6730\n",
      "           1       0.65      0.81      0.72      3365\n",
      "\n",
      "    accuracy                           0.79     10095\n",
      "   macro avg       0.77      0.79      0.77     10095\n",
      "weighted avg       0.81      0.79      0.79     10095\n",
      "\n",
      "F1 Score: 0.72\n",
      "Accuracy: 0.79\n"
     ]
    },
    {
     "data": {
      "image/png": "[encoded data removed]",
      "text/plain": [
       "<Figure size 432x288 with 2 Axes>"
      ]
     },
     "metadata": {
      "needs_background": "light"
     },
     "output_type": "display_data"
    }
   ],
   "source": [
    "# Summarize the results\n",
    "RFC_best = gsRFC.best_estimator_\n",
    "print('Best : {}, using {}'.format(gsRFC.best_score_,gsRFC.best_params_))\n",
    "report(gsRFC)"
   ]
  },
  {
   "cell_type": "code",
   "execution_count": null,
   "id": "96d81ddd",
   "metadata": {},
   "outputs": [],
   "source": [
    "#Finalize model \n",
    "RFC_final = RandomForestClassifier(bootstrap=  True, criterion = 'gini', max_depth= 14, n_estimators= 37)\n",
    "RFC_final.fit(X_res,y_res)"
   ]
  },
  {
   "cell_type": "code",
   "execution_count": 27,
   "id": "63ca3673",
   "metadata": {},
   "outputs": [
    {
     "data": {
      "text/plain": [
       "23554"
      ]
     },
     "execution_count": 27,
     "metadata": {},
     "output_type": "execute_result"
    }
   ],
   "source": [
    "len(X_train)"
   ]
  },
  {
   "cell_type": "code",
   "execution_count": 33,
   "id": "0653943f",
   "metadata": {},
   "outputs": [
    {
     "name": "stdout",
     "output_type": "stream",
     "text": [
      "Fitting 5 folds for each of 12 candidates, totalling 60 fits\n"
     ]
    },
    {
     "name": "stderr",
     "output_type": "stream",
     "text": [
      "[Parallel(n_jobs=-1)]: Using backend LokyBackend with 8 concurrent workers.\n",
      "[Parallel(n_jobs=-1)]: Done  34 tasks      | elapsed:  2.2min\n",
      "[Parallel(n_jobs=-1)]: Done  60 out of  60 | elapsed:  2.9min finished\n",
      "C:\\Users\\LR996GB\\Anaconda3\\envs\\frogs\\lib\\site-packages\\sklearn\\utils\\validation.py:72: DataConversionWarning: A column-vector y was passed when a 1d array was expected. Please change the shape of y to (n_samples, ), for example using ravel().\n",
      "  return f(**kwargs)\n"
     ]
    },
    {
     "data": {
      "text/plain": [
       "GridSearchCV(cv=StratifiedKFold(n_splits=5, random_state=None, shuffle=False),\n",
       "             estimator=MLPClassifier(max_iter=2000), n_jobs=-1,\n",
       "             param_grid={'activation': ['tanh', 'relu'],\n",
       "                         'alpha': [0.0001, 0.0005, 0.001],\n",
       "                         'hidden_layer_sizes': [6],\n",
       "                         'learning_rate': ['constant', 'adaptive'],\n",
       "                         'solver': ['adam']},\n",
       "             scoring='accuracy', verbose=True)"
      ]
     },
     "execution_count": 33,
     "metadata": {},
     "output_type": "execute_result"
    }
   ],
   "source": [
    "#MLP\n",
    "\n",
    "MLP = MLPClassifier(max_iter=2000)\n",
    "\n",
    "# mlp_param_grid = {\n",
    "#     'hidden_layer_sizes': [(50,50),(100)],\n",
    "#     'activation': ['tanh', 'relu'],\n",
    "#     'solver': ['sgd', 'adam'],\n",
    "#     'alpha': [0.0001, 0.05],\n",
    "#     'learning_rate': ['constant','adaptive']}\n",
    "\n",
    "# mlp_param_grid = {\n",
    "#     'hidden_layer_sizes': [(6,18,6)],\n",
    "#     'activation': ['tanh', 'relu'],\n",
    "#     'solver': ['adam'],\n",
    "#     'alpha': [0.0001,0.0005, 0.001],\n",
    "#     'learning_rate': ['constant','adaptive']}\n",
    "\n",
    "mlp_param_grid = {\n",
    "    'hidden_layer_sizes': [(6)],\n",
    "    'activation': ['tanh', 'relu'],\n",
    "    'solver': ['adam'],\n",
    "    'alpha': [0.0001,0.0005, 0.001],\n",
    "    'learning_rate': ['constant','adaptive']}\n",
    "\n",
    "gsMLP = GridSearchCV(MLP,param_grid = mlp_param_grid, cv=kfold, scoring=\"accuracy\", n_jobs= -1, verbose = True)\n",
    "gsMLP.fit(X_train,y_train)"
   ]
  },
  {
   "cell_type": "code",
   "execution_count": 34,
   "id": "9aa9a455",
   "metadata": {},
   "outputs": [
    {
     "name": "stdout",
     "output_type": "stream",
     "text": [
      "Best : 0.5924886558430192, using {'activation': 'tanh', 'alpha': 0.0005, 'hidden_layer_sizes': 6, 'learning_rate': 'constant', 'solver': 'adam'}\n",
      "              precision    recall  f1-score   support\n",
      "\n",
      "           0       0.59      0.56      0.58      5351\n",
      "           1       0.58      0.61      0.60      5388\n",
      "\n",
      "    accuracy                           0.59     10739\n",
      "   macro avg       0.59      0.59      0.59     10739\n",
      "weighted avg       0.59      0.59      0.59     10739\n",
      "\n",
      "F1 Score: 0.6\n",
      "Accuracy: 0.59\n"
     ]
    },
    {
     "data": {
      "image/png": "[encoded data removed]",
      "text/plain": [
       "<Figure size 432x288 with 2 Axes>"
      ]
     },
     "metadata": {
      "needs_background": "light"
     },
     "output_type": "display_data"
    }
   ],
   "source": [
    "# Summarize the results\n",
    "MLP_best = gsMLP.best_estimator_\n",
    "print('Best : {}, using {}'.format(gsMLP.best_score_,gsMLP.best_params_))\n",
    "report(gsMLP)"
   ]
  },
  {
   "cell_type": "code",
   "execution_count": 38,
   "id": "225bba1e",
   "metadata": {},
   "outputs": [
    {
     "data": {
      "text/html": [
       "<div>\n",
       "<style scoped>\n",
       "    .dataframe tbody tr th:only-of-type {\n",
       "        vertical-align: middle;\n",
       "    }\n",
       "\n",
       "    .dataframe tbody tr th {\n",
       "        vertical-align: top;\n",
       "    }\n",
       "\n",
       "    .dataframe thead th {\n",
       "        text-align: right;\n",
       "    }\n",
       "</style>\n",
       "<table border=\"1\" class=\"dataframe\">\n",
       "  <thead>\n",
       "    <tr style=\"text-align: right;\">\n",
       "      <th></th>\n",
       "      <th>id</th>\n",
       "      <th>decimalLatitude</th>\n",
       "      <th>decimalLongitude</th>\n",
       "      <th>occurrenceStatus</th>\n",
       "      <th>aet_mean</th>\n",
       "      <th>def_mean</th>\n",
       "      <th>pdsi_mean</th>\n",
       "      <th>pet_mean</th>\n",
       "      <th>ppt_mean</th>\n",
       "      <th>q_mean</th>\n",
       "      <th>soil_mean</th>\n",
       "      <th>srad_mean</th>\n",
       "      <th>tmax_mean</th>\n",
       "      <th>tmin_mean</th>\n",
       "      <th>vap_mean</th>\n",
       "      <th>vpd_mean</th>\n",
       "      <th>ws_mean</th>\n",
       "    </tr>\n",
       "  </thead>\n",
       "  <tbody>\n",
       "    <tr>\n",
       "      <th>0</th>\n",
       "      <td>0</td>\n",
       "      <td>-37.917146</td>\n",
       "      <td>145.207706</td>\n",
       "      <td>NaN</td>\n",
       "      <td>34.262500</td>\n",
       "      <td>94.183333</td>\n",
       "      <td>-1.266666</td>\n",
       "      <td>128.458333</td>\n",
       "      <td>40.008333</td>\n",
       "      <td>5.787500</td>\n",
       "      <td>19.329167</td>\n",
       "      <td>227.787500</td>\n",
       "      <td>23.284168</td>\n",
       "      <td>9.011668</td>\n",
       "      <td>1.065542</td>\n",
       "      <td>1.043167</td>\n",
       "      <td>3.337917</td>\n",
       "    </tr>\n",
       "    <tr>\n",
       "      <th>1</th>\n",
       "      <td>1</td>\n",
       "      <td>-37.750974</td>\n",
       "      <td>144.981501</td>\n",
       "      <td>NaN</td>\n",
       "      <td>34.262500</td>\n",
       "      <td>94.183333</td>\n",
       "      <td>-1.266666</td>\n",
       "      <td>128.458333</td>\n",
       "      <td>40.008333</td>\n",
       "      <td>5.787500</td>\n",
       "      <td>19.329167</td>\n",
       "      <td>227.787500</td>\n",
       "      <td>23.284168</td>\n",
       "      <td>9.011668</td>\n",
       "      <td>1.065542</td>\n",
       "      <td>1.043167</td>\n",
       "      <td>3.337917</td>\n",
       "    </tr>\n",
       "    <tr>\n",
       "      <th>2</th>\n",
       "      <td>2</td>\n",
       "      <td>-37.961600</td>\n",
       "      <td>145.348000</td>\n",
       "      <td>NaN</td>\n",
       "      <td>34.262500</td>\n",
       "      <td>94.183333</td>\n",
       "      <td>-1.266666</td>\n",
       "      <td>128.458333</td>\n",
       "      <td>40.008333</td>\n",
       "      <td>5.787500</td>\n",
       "      <td>19.329167</td>\n",
       "      <td>227.787500</td>\n",
       "      <td>23.284168</td>\n",
       "      <td>9.011668</td>\n",
       "      <td>1.065542</td>\n",
       "      <td>1.043167</td>\n",
       "      <td>3.337917</td>\n",
       "    </tr>\n",
       "    <tr>\n",
       "      <th>3</th>\n",
       "      <td>3</td>\n",
       "      <td>-37.621300</td>\n",
       "      <td>145.003000</td>\n",
       "      <td>NaN</td>\n",
       "      <td>34.262500</td>\n",
       "      <td>94.183333</td>\n",
       "      <td>-1.266666</td>\n",
       "      <td>128.458333</td>\n",
       "      <td>40.008333</td>\n",
       "      <td>5.787500</td>\n",
       "      <td>19.329167</td>\n",
       "      <td>227.787500</td>\n",
       "      <td>23.284168</td>\n",
       "      <td>9.011668</td>\n",
       "      <td>1.065542</td>\n",
       "      <td>1.043167</td>\n",
       "      <td>3.337917</td>\n",
       "    </tr>\n",
       "    <tr>\n",
       "      <th>4</th>\n",
       "      <td>4</td>\n",
       "      <td>-38.498100</td>\n",
       "      <td>145.647000</td>\n",
       "      <td>NaN</td>\n",
       "      <td>34.262500</td>\n",
       "      <td>94.183333</td>\n",
       "      <td>-1.266666</td>\n",
       "      <td>128.458333</td>\n",
       "      <td>40.008333</td>\n",
       "      <td>5.787500</td>\n",
       "      <td>19.329167</td>\n",
       "      <td>227.787500</td>\n",
       "      <td>23.284168</td>\n",
       "      <td>9.011668</td>\n",
       "      <td>1.065542</td>\n",
       "      <td>1.043167</td>\n",
       "      <td>3.337917</td>\n",
       "    </tr>\n",
       "    <tr>\n",
       "      <th>...</th>\n",
       "      <td>...</td>\n",
       "      <td>...</td>\n",
       "      <td>...</td>\n",
       "      <td>...</td>\n",
       "      <td>...</td>\n",
       "      <td>...</td>\n",
       "      <td>...</td>\n",
       "      <td>...</td>\n",
       "      <td>...</td>\n",
       "      <td>...</td>\n",
       "      <td>...</td>\n",
       "      <td>...</td>\n",
       "      <td>...</td>\n",
       "      <td>...</td>\n",
       "      <td>...</td>\n",
       "      <td>...</td>\n",
       "      <td>...</td>\n",
       "    </tr>\n",
       "    <tr>\n",
       "      <th>4046</th>\n",
       "      <td>4046</td>\n",
       "      <td>-31.884385</td>\n",
       "      <td>116.150192</td>\n",
       "      <td>NaN</td>\n",
       "      <td>50.529167</td>\n",
       "      <td>81.137500</td>\n",
       "      <td>-1.365000</td>\n",
       "      <td>131.612500</td>\n",
       "      <td>68.616667</td>\n",
       "      <td>18.204167</td>\n",
       "      <td>57.683333</td>\n",
       "      <td>231.645833</td>\n",
       "      <td>23.183335</td>\n",
       "      <td>10.612502</td>\n",
       "      <td>1.150875</td>\n",
       "      <td>1.001042</td>\n",
       "      <td>3.826250</td>\n",
       "    </tr>\n",
       "    <tr>\n",
       "      <th>4047</th>\n",
       "      <td>4047</td>\n",
       "      <td>-32.412962</td>\n",
       "      <td>115.779737</td>\n",
       "      <td>NaN</td>\n",
       "      <td>51.320833</td>\n",
       "      <td>88.137500</td>\n",
       "      <td>-2.365833</td>\n",
       "      <td>139.433333</td>\n",
       "      <td>60.000000</td>\n",
       "      <td>8.779167</td>\n",
       "      <td>61.729167</td>\n",
       "      <td>232.704167</td>\n",
       "      <td>24.072918</td>\n",
       "      <td>12.800418</td>\n",
       "      <td>1.356417</td>\n",
       "      <td>0.955208</td>\n",
       "      <td>5.162500</td>\n",
       "    </tr>\n",
       "    <tr>\n",
       "      <th>4048</th>\n",
       "      <td>4048</td>\n",
       "      <td>-32.147959</td>\n",
       "      <td>115.856628</td>\n",
       "      <td>NaN</td>\n",
       "      <td>50.991667</td>\n",
       "      <td>89.566667</td>\n",
       "      <td>-2.296666</td>\n",
       "      <td>140.491667</td>\n",
       "      <td>59.062500</td>\n",
       "      <td>8.120833</td>\n",
       "      <td>65.654167</td>\n",
       "      <td>233.208333</td>\n",
       "      <td>24.143335</td>\n",
       "      <td>12.958752</td>\n",
       "      <td>1.334000</td>\n",
       "      <td>0.995583</td>\n",
       "      <td>4.850417</td>\n",
       "    </tr>\n",
       "    <tr>\n",
       "      <th>4049</th>\n",
       "      <td>4049</td>\n",
       "      <td>-31.827000</td>\n",
       "      <td>116.238000</td>\n",
       "      <td>NaN</td>\n",
       "      <td>46.254167</td>\n",
       "      <td>86.800000</td>\n",
       "      <td>-1.086250</td>\n",
       "      <td>133.054167</td>\n",
       "      <td>60.600000</td>\n",
       "      <td>14.383333</td>\n",
       "      <td>43.779167</td>\n",
       "      <td>231.712500</td>\n",
       "      <td>23.624585</td>\n",
       "      <td>10.504168</td>\n",
       "      <td>1.139250</td>\n",
       "      <td>1.054083</td>\n",
       "      <td>3.619167</td>\n",
       "    </tr>\n",
       "    <tr>\n",
       "      <th>4050</th>\n",
       "      <td>4050</td>\n",
       "      <td>-31.582511</td>\n",
       "      <td>116.073031</td>\n",
       "      <td>NaN</td>\n",
       "      <td>45.641667</td>\n",
       "      <td>94.270833</td>\n",
       "      <td>-1.167500</td>\n",
       "      <td>139.912500</td>\n",
       "      <td>55.200000</td>\n",
       "      <td>9.616667</td>\n",
       "      <td>35.395833</td>\n",
       "      <td>232.441667</td>\n",
       "      <td>24.618335</td>\n",
       "      <td>11.668335</td>\n",
       "      <td>1.193125</td>\n",
       "      <td>1.143042</td>\n",
       "      <td>3.781250</td>\n",
       "    </tr>\n",
       "  </tbody>\n",
       "</table>\n",
       "<p>4051 rows × 17 columns</p>\n",
       "</div>"
      ],
      "text/plain": [
       "        id  decimalLatitude  decimalLongitude  occurrenceStatus   aet_mean  \\\n",
       "0        0       -37.917146        145.207706               NaN  34.262500   \n",
       "1        1       -37.750974        144.981501               NaN  34.262500   \n",
       "2        2       -37.961600        145.348000               NaN  34.262500   \n",
       "3        3       -37.621300        145.003000               NaN  34.262500   \n",
       "4        4       -38.498100        145.647000               NaN  34.262500   \n",
       "...    ...              ...               ...               ...        ...   \n",
       "4046  4046       -31.884385        116.150192               NaN  50.529167   \n",
       "4047  4047       -32.412962        115.779737               NaN  51.320833   \n",
       "4048  4048       -32.147959        115.856628               NaN  50.991667   \n",
       "4049  4049       -31.827000        116.238000               NaN  46.254167   \n",
       "4050  4050       -31.582511        116.073031               NaN  45.641667   \n",
       "\n",
       "       def_mean  pdsi_mean    pet_mean   ppt_mean     q_mean  soil_mean  \\\n",
       "0     94.183333  -1.266666  128.458333  40.008333   5.787500  19.329167   \n",
       "1     94.183333  -1.266666  128.458333  40.008333   5.787500  19.329167   \n",
       "2     94.183333  -1.266666  128.458333  40.008333   5.787500  19.329167   \n",
       "3     94.183333  -1.266666  128.458333  40.008333   5.787500  19.329167   \n",
       "4     94.183333  -1.266666  128.458333  40.008333   5.787500  19.329167   \n",
       "...         ...        ...         ...        ...        ...        ...   \n",
       "4046  81.137500  -1.365000  131.612500  68.616667  18.204167  57.683333   \n",
       "4047  88.137500  -2.365833  139.433333  60.000000   8.779167  61.729167   \n",
       "4048  89.566667  -2.296666  140.491667  59.062500   8.120833  65.654167   \n",
       "4049  86.800000  -1.086250  133.054167  60.600000  14.383333  43.779167   \n",
       "4050  94.270833  -1.167500  139.912500  55.200000   9.616667  35.395833   \n",
       "\n",
       "       srad_mean  tmax_mean  tmin_mean  vap_mean  vpd_mean   ws_mean  \n",
       "0     227.787500  23.284168   9.011668  1.065542  1.043167  3.337917  \n",
       "1     227.787500  23.284168   9.011668  1.065542  1.043167  3.337917  \n",
       "2     227.787500  23.284168   9.011668  1.065542  1.043167  3.337917  \n",
       "3     227.787500  23.284168   9.011668  1.065542  1.043167  3.337917  \n",
       "4     227.787500  23.284168   9.011668  1.065542  1.043167  3.337917  \n",
       "...          ...        ...        ...       ...       ...       ...  \n",
       "4046  231.645833  23.183335  10.612502  1.150875  1.001042  3.826250  \n",
       "4047  232.704167  24.072918  12.800418  1.356417  0.955208  5.162500  \n",
       "4048  233.208333  24.143335  12.958752  1.334000  0.995583  4.850417  \n",
       "4049  231.712500  23.624585  10.504168  1.139250  1.054083  3.619167  \n",
       "4050  232.441667  24.618335  11.668335  1.193125  1.143042  3.781250  \n",
       "\n",
       "[4051 rows x 17 columns]"
      ]
     },
     "execution_count": 38,
     "metadata": {},
     "output_type": "execute_result"
    }
   ],
   "source": [
    "test = pd.read_csv('submission_predictors_terraclimate.csv').drop('Unnamed: 0',axis=1)\n",
    "test"
   ]
  },
  {
   "cell_type": "code",
   "execution_count": 39,
   "id": "8dfff1c5",
   "metadata": {},
   "outputs": [],
   "source": [
    "data_unseen = test[['def_mean','tmin_mean', 'pdsi_mean']]"
   ]
  },
  {
   "cell_type": "code",
   "execution_count": 40,
   "id": "d4f27849",
   "metadata": {},
   "outputs": [
    {
     "name": "stdout",
     "output_type": "stream",
     "text": [
      "[[0.45815349 0.         0.84201773]\n",
      " [0.45815349 0.         0.84201773]\n",
      " [0.45815349 0.         0.84201773]\n",
      " ...\n",
      " [0.34150963 0.88615531 0.15687366]\n",
      " [0.27160754 0.3350795  0.96202883]\n",
      " [0.46036425 0.5964453  0.90798223]]\n"
     ]
    }
   ],
   "source": [
    "# transform data\n",
    "data_unseen_Scaled = scaler.fit_transform(data_unseen)\n",
    "print(data_unseen_Scaled)"
   ]
  },
  {
   "cell_type": "code",
   "execution_count": 41,
   "id": "d0854dc0",
   "metadata": {},
   "outputs": [],
   "source": [
    "def get_result(model,test_Scaled):\n",
    "    test_result = model.predict(test_Scaled)\n",
    "    test.occurrenceStatus = test_result\n",
    "    print(test.occurrenceStatus.value_counts())"
   ]
  },
  {
   "cell_type": "code",
   "execution_count": 42,
   "id": "900c471c",
   "metadata": {
    "scrolled": false
   },
   "outputs": [
    {
     "name": "stdout",
     "output_type": "stream",
     "text": [
      "0    3478\n",
      "1     573\n",
      "Name: occurrenceStatus, dtype: int64\n"
     ]
    }
   ],
   "source": [
    "get_result(gsMLP,data_unseen_Scaled)"
   ]
  },
  {
   "cell_type": "code",
   "execution_count": 45,
   "id": "e6965414",
   "metadata": {},
   "outputs": [],
   "source": [
    "test.iloc[:,:4].to_csv('feature_samp_MLP_t_min_def_pdsi_6_18_6.csv')"
   ]
  },
  {
   "cell_type": "code",
   "execution_count": 75,
   "id": "4dbb3306",
   "metadata": {
    "scrolled": true
   },
   "outputs": [
    {
     "name": "stdout",
     "output_type": "stream",
     "text": [
      "0    3540\n",
      "1     511\n",
      "Name: occurrenceStatus, dtype: int64\n"
     ]
    }
   ],
   "source": [
    "get_result(gsRFC,data_unseen_Scaled)"
   ]
  },
  {
   "cell_type": "code",
   "execution_count": 76,
   "id": "02c93a13",
   "metadata": {},
   "outputs": [],
   "source": [
    "test.iloc[:,:4].to_csv('RFC_def_tmin_pdsi_Tuned.csv')"
   ]
  },
  {
   "cell_type": "code",
   "execution_count": null,
   "id": "a0c6871a",
   "metadata": {},
   "outputs": [],
   "source": [
    "get_result(RFC_final,data_unseen_Scaled)"
   ]
  },
  {
   "cell_type": "code",
   "execution_count": null,
   "id": "0e7b966d",
   "metadata": {},
   "outputs": [],
   "source": [
    "test.iloc[:,:4].to_csv('feature_samp_MLP_SMOTE_Tuned.csv')"
   ]
  },
  {
   "cell_type": "code",
   "execution_count": null,
   "id": "59032f68",
   "metadata": {},
   "outputs": [],
   "source": []
  }
 ],
 "metadata": {
  "kernelspec": {
   "display_name": "Python [conda env:frogs]",
   "language": "python",
   "name": "conda-env-frogs-py"
  },
  "language_info": {
   "codemirror_mode": {
    "name": "ipython",
    "version": 3
   },
   "file_extension": ".py",
   "mimetype": "text/x-python",
   "name": "python",
   "nbconvert_exporter": "python",
   "pygments_lexer": "ipython3",
   "version": "3.7.11"
  }
 },
 "nbformat": 4,
 "nbformat_minor": 5
}
