{
 "cells": [
  {
   "cell_type": "code",
   "execution_count": 1,
   "id": "5edbf816",
   "metadata": {},
   "outputs": [],
   "source": [
    "#Basic Libraries\n",
    "import pandas as pd\n",
    "import numpy as np\n",
    "import datetime as dt\n",
    "\n",
    "\n",
    "#Visualizations\n",
    "import matplotlib.pyplot as plt\n",
    "import seaborn as sns\n",
    "\n",
    "\n",
    "# ML Matrix + Performance params\n",
    "from sklearn.metrics import f1_score, accuracy_score, ConfusionMatrixDisplay\n",
    "from sklearn.model_selection import StratifiedKFold\n",
    "from sklearn.model_selection import train_test_split\n",
    "from sklearn.metrics import confusion_matrix,classification_report,plot_confusion_matrix\n",
    "from statsmodels.stats.outliers_influence import variance_inflation_factor\n",
    "\n",
    "#Fixing Balancing\n",
    "from imblearn.over_sampling import SMOTE\n",
    "from imblearn.under_sampling import RandomUnderSampler\n",
    "from imblearn.combine import SMOTETomek\n",
    "from collections import Counter\n",
    "from imblearn.pipeline import Pipeline\n",
    "\n",
    "\n",
    "#Load the ML Algos\n",
    "from sklearn.ensemble import RandomForestClassifier, AdaBoostClassifier, GradientBoostingClassifier, ExtraTreesClassifier, VotingClassifier\n",
    "from sklearn.discriminant_analysis import LinearDiscriminantAnalysis\n",
    "from sklearn.linear_model import LogisticRegression\n",
    "from sklearn.neighbors import KNeighborsClassifier\n",
    "from sklearn.tree import DecisionTreeClassifier\n",
    "from sklearn.neural_network import MLPClassifier\n",
    "from sklearn.svm import SVC\n",
    "from sklearn.svm import LinearSVC\n",
    "from xgboost import XGBClassifier\n",
    "from sklearn.model_selection import GridSearchCV, cross_val_score, StratifiedKFold\n",
    "from sklearn.naive_bayes import MultinomialNB\n",
    "\n",
    "# Other\n",
    "import os\n",
    "from itertools import cycle"
   ]
  },
  {
   "cell_type": "code",
   "execution_count": 2,
   "id": "752bac16",
   "metadata": {},
   "outputs": [],
   "source": [
    "#Scaler Function\n",
    "# example of a normalization\n",
    "from sklearn.preprocessing import MinMaxScaler\n",
    "scaler = MinMaxScaler()\n",
    "\n",
    "def scaler_data(data,scale_used):\n",
    "    return scale_used.fit_transform(data)"
   ]
  },
  {
   "cell_type": "code",
   "execution_count": 3,
   "id": "9224940e",
   "metadata": {},
   "outputs": [],
   "source": [
    "df = pd.read_csv('terraclimate_Sept_Nov_2019.csv').drop('Unnamed: 0',axis=1)"
   ]
  },
  {
   "cell_type": "code",
   "execution_count": 4,
   "id": "35f69243",
   "metadata": {
    "scrolled": true
   },
   "outputs": [
    {
     "data": {
      "text/html": [
       "<div>\n",
       "<style scoped>\n",
       "    .dataframe tbody tr th:only-of-type {\n",
       "        vertical-align: middle;\n",
       "    }\n",
       "\n",
       "    .dataframe tbody tr th {\n",
       "        vertical-align: top;\n",
       "    }\n",
       "\n",
       "    .dataframe thead th {\n",
       "        text-align: right;\n",
       "    }\n",
       "</style>\n",
       "<table border=\"1\" class=\"dataframe\">\n",
       "  <thead>\n",
       "    <tr style=\"text-align: right;\">\n",
       "      <th></th>\n",
       "      <th>decimalLatitude</th>\n",
       "      <th>decimalLongitude</th>\n",
       "      <th>cluster</th>\n",
       "      <th>occurrenceStatus</th>\n",
       "      <th>key</th>\n",
       "      <th>aet_mean</th>\n",
       "      <th>def_mean</th>\n",
       "      <th>pdsi_mean</th>\n",
       "      <th>pet_mean</th>\n",
       "      <th>ppt_mean</th>\n",
       "      <th>q_mean</th>\n",
       "      <th>soil_mean</th>\n",
       "      <th>srad_mean</th>\n",
       "      <th>tmax_mean</th>\n",
       "      <th>tmin_mean</th>\n",
       "      <th>vap_mean</th>\n",
       "      <th>vpd_mean</th>\n",
       "      <th>ws_mean</th>\n",
       "    </tr>\n",
       "  </thead>\n",
       "  <tbody>\n",
       "    <tr>\n",
       "      <th>0</th>\n",
       "      <td>-37.807553</td>\n",
       "      <td>145.263607</td>\n",
       "      <td>0</td>\n",
       "      <td>0</td>\n",
       "      <td>0</td>\n",
       "      <td>97.000000</td>\n",
       "      <td>12.000000</td>\n",
       "      <td>-2.000000</td>\n",
       "      <td>109.0</td>\n",
       "      <td>89.666667</td>\n",
       "      <td>10.666667</td>\n",
       "      <td>140.333333</td>\n",
       "      <td>213.333333</td>\n",
       "      <td>18.666669</td>\n",
       "      <td>8.233335</td>\n",
       "      <td>1.020000</td>\n",
       "      <td>0.613333</td>\n",
       "      <td>5.2</td>\n",
       "    </tr>\n",
       "    <tr>\n",
       "      <th>1</th>\n",
       "      <td>-37.991842</td>\n",
       "      <td>145.118825</td>\n",
       "      <td>0</td>\n",
       "      <td>0</td>\n",
       "      <td>1</td>\n",
       "      <td>83.333333</td>\n",
       "      <td>30.000000</td>\n",
       "      <td>-2.499999</td>\n",
       "      <td>113.0</td>\n",
       "      <td>64.000000</td>\n",
       "      <td>3.000000</td>\n",
       "      <td>70.666667</td>\n",
       "      <td>216.000000</td>\n",
       "      <td>18.900002</td>\n",
       "      <td>9.166667</td>\n",
       "      <td>1.076667</td>\n",
       "      <td>0.613333</td>\n",
       "      <td>6.3</td>\n",
       "    </tr>\n",
       "    <tr>\n",
       "      <th>2</th>\n",
       "      <td>-37.839039</td>\n",
       "      <td>145.247880</td>\n",
       "      <td>0</td>\n",
       "      <td>0</td>\n",
       "      <td>2</td>\n",
       "      <td>96.666667</td>\n",
       "      <td>14.333333</td>\n",
       "      <td>-2.033333</td>\n",
       "      <td>111.0</td>\n",
       "      <td>84.000000</td>\n",
       "      <td>8.000000</td>\n",
       "      <td>134.666667</td>\n",
       "      <td>213.666667</td>\n",
       "      <td>18.833336</td>\n",
       "      <td>8.533335</td>\n",
       "      <td>1.036667</td>\n",
       "      <td>0.620000</td>\n",
       "      <td>5.4</td>\n",
       "    </tr>\n",
       "    <tr>\n",
       "      <th>3</th>\n",
       "      <td>-38.074700</td>\n",
       "      <td>145.501000</td>\n",
       "      <td>0</td>\n",
       "      <td>0</td>\n",
       "      <td>3</td>\n",
       "      <td>96.000000</td>\n",
       "      <td>8.333333</td>\n",
       "      <td>-2.833333</td>\n",
       "      <td>104.0</td>\n",
       "      <td>93.000000</td>\n",
       "      <td>4.666667</td>\n",
       "      <td>220.333333</td>\n",
       "      <td>213.333333</td>\n",
       "      <td>18.266668</td>\n",
       "      <td>8.133334</td>\n",
       "      <td>1.063333</td>\n",
       "      <td>0.540000</td>\n",
       "      <td>5.8</td>\n",
       "    </tr>\n",
       "    <tr>\n",
       "      <th>4</th>\n",
       "      <td>-37.778731</td>\n",
       "      <td>145.055068</td>\n",
       "      <td>0</td>\n",
       "      <td>0</td>\n",
       "      <td>4</td>\n",
       "      <td>83.666667</td>\n",
       "      <td>34.333333</td>\n",
       "      <td>-2.600000</td>\n",
       "      <td>118.0</td>\n",
       "      <td>67.666667</td>\n",
       "      <td>3.333333</td>\n",
       "      <td>52.000000</td>\n",
       "      <td>215.666667</td>\n",
       "      <td>19.500003</td>\n",
       "      <td>9.066668</td>\n",
       "      <td>1.046667</td>\n",
       "      <td>0.680000</td>\n",
       "      <td>5.7</td>\n",
       "    </tr>\n",
       "  </tbody>\n",
       "</table>\n",
       "</div>"
      ],
      "text/plain": [
       "   decimalLatitude  decimalLongitude  cluster  occurrenceStatus  key  \\\n",
       "0       -37.807553        145.263607        0                 0    0   \n",
       "1       -37.991842        145.118825        0                 0    1   \n",
       "2       -37.839039        145.247880        0                 0    2   \n",
       "3       -38.074700        145.501000        0                 0    3   \n",
       "4       -37.778731        145.055068        0                 0    4   \n",
       "\n",
       "    aet_mean   def_mean  pdsi_mean  pet_mean   ppt_mean     q_mean  \\\n",
       "0  97.000000  12.000000  -2.000000     109.0  89.666667  10.666667   \n",
       "1  83.333333  30.000000  -2.499999     113.0  64.000000   3.000000   \n",
       "2  96.666667  14.333333  -2.033333     111.0  84.000000   8.000000   \n",
       "3  96.000000   8.333333  -2.833333     104.0  93.000000   4.666667   \n",
       "4  83.666667  34.333333  -2.600000     118.0  67.666667   3.333333   \n",
       "\n",
       "    soil_mean   srad_mean  tmax_mean  tmin_mean  vap_mean  vpd_mean  ws_mean  \n",
       "0  140.333333  213.333333  18.666669   8.233335  1.020000  0.613333      5.2  \n",
       "1   70.666667  216.000000  18.900002   9.166667  1.076667  0.613333      6.3  \n",
       "2  134.666667  213.666667  18.833336   8.533335  1.036667  0.620000      5.4  \n",
       "3  220.333333  213.333333  18.266668   8.133334  1.063333  0.540000      5.8  \n",
       "4   52.000000  215.666667  19.500003   9.066668  1.046667  0.680000      5.7  "
      ]
     },
     "execution_count": 4,
     "metadata": {},
     "output_type": "execute_result"
    }
   ],
   "source": [
    "df.head()"
   ]
  },
  {
   "cell_type": "code",
   "execution_count": 5,
   "id": "fdacce8d",
   "metadata": {},
   "outputs": [
    {
     "name": "stdout",
     "output_type": "stream",
     "text": [
      "20008\n",
      "20008\n"
     ]
    }
   ],
   "source": [
    "print(len(df))\n",
    "df.drop_duplicates(inplace=True)\n",
    "df.dropna(inplace=True)\n",
    "print(len(df))"
   ]
  },
  {
   "cell_type": "code",
   "execution_count": 6,
   "id": "69b66d01",
   "metadata": {
    "scrolled": true
   },
   "outputs": [
    {
     "data": {
      "text/plain": [
       "cluster  occurrenceStatus\n",
       "0        0                   3299\n",
       "         1                     84\n",
       "1        0                   4687\n",
       "         1                   4761\n",
       "2        0                    352\n",
       "         1                    955\n",
       "3        0                    104\n",
       "         1                    803\n",
       "4        0                   4963\n",
       "Name: key, dtype: int64"
      ]
     },
     "execution_count": 6,
     "metadata": {},
     "output_type": "execute_result"
    }
   ],
   "source": [
    "df.groupby(['cluster','occurrenceStatus']).count()['key']"
   ]
  },
  {
   "cell_type": "code",
   "execution_count": 7,
   "id": "11a790b5",
   "metadata": {},
   "outputs": [
    {
     "data": {
      "text/plain": [
       "Index(['decimalLatitude', 'decimalLongitude', 'cluster', 'occurrenceStatus',\n",
       "       'key', 'aet_mean', 'def_mean', 'pdsi_mean', 'pet_mean', 'ppt_mean',\n",
       "       'q_mean', 'soil_mean', 'srad_mean', 'tmax_mean', 'tmin_mean',\n",
       "       'vap_mean', 'vpd_mean', 'ws_mean'],\n",
       "      dtype='object')"
      ]
     },
     "execution_count": 7,
     "metadata": {},
     "output_type": "execute_result"
    }
   ],
   "source": [
    "df.columns"
   ]
  },
  {
   "cell_type": "code",
   "execution_count": 8,
   "id": "a016850b",
   "metadata": {},
   "outputs": [],
   "source": [
    "# # X = df[['cluster', 'aet_mean', 'def_mean', 'pdsi_mean', 'pet_mean', 'ppt_mean',\n",
    "# #        'ppt_station_influence_mean', 'q_mean', 'soil_mean', 'srad_mean',\n",
    "# #        'tmax_mean', 'tmax_station_influence_mean', 'tmin_mean',\n",
    "# #        'tmin_station_influence_mean', 'vap_mean', 'vap_station_influence_mean',\n",
    "# #        'vpd_mean', 'ws_mean']]\n",
    "# # y = df.occurrenceStatus\n",
    "# # print(y.value_counts())\n",
    "\n",
    "# X = df[['def_mean','tmin_mean']]\n",
    "# y = df.occurrenceStatus\n",
    "# print(y.value_counts())\n"
   ]
  },
  {
   "cell_type": "code",
   "execution_count": 10,
   "id": "2dbe9f9b",
   "metadata": {},
   "outputs": [
    {
     "name": "stdout",
     "output_type": "stream",
     "text": [
      "occurrenceStatus\n",
      "0                   13405\n",
      "1                    6603\n",
      "dtype: int64\n",
      "occurrenceStatus\n",
      "0                   11976\n",
      "1                   11976\n",
      "dtype: int64\n"
     ]
    }
   ],
   "source": [
    "# # define pipeline\n",
    "# over = SMOTE(sampling_strategy=0.9)\n",
    "# under = RandomUnderSampler(sampling_strategy=0.8)\n",
    "# steps = [('u', under), ('o',over)]\n",
    "# pipeline = Pipeline(steps=steps)\n",
    "# # transform the dataset\n",
    "# X, y = pipeline.fit_resample(X, y)\n",
    "\n",
    "# temp_df = pd.concat([X,y],axis=1)\n",
    "# print(y.value_counts())\n",
    "\n",
    "source  = df.loc[:, df.columns != 'occurrenceStatus']\n",
    "target = df[['occurrenceStatus']]\n",
    "\n",
    "# summarize class distribution\n",
    "print(target.value_counts())\n",
    "  \n",
    "# define pipeline\n",
    "#Oversampling using smote - https://machinelearningmastery.com/smote-oversampling-for-imbalanced-classification/\n",
    "smt = SMOTETomek(sampling_strategy = 'auto')\n",
    "source_res, target_res = smt.fit_resample(source, target)\n",
    "\n",
    "\n",
    "# summarize class distribution\n",
    "print(target_res.value_counts())"
   ]
  },
  {
   "cell_type": "code",
   "execution_count": null,
   "id": "6f02eec2",
   "metadata": {},
   "outputs": [],
   "source": [
    "# temp_df.groupby(['cluster','occurrenceStatus']).count()['aet_mean']"
   ]
  },
  {
   "cell_type": "code",
   "execution_count": null,
   "id": "592c24c2",
   "metadata": {},
   "outputs": [],
   "source": [
    "# import seaborn as sns\n",
    "\n",
    "# sns.pairplot(df[['aet_mean','ppt_mean']])"
   ]
  },
  {
   "cell_type": "code",
   "execution_count": 9,
   "id": "1d16a78e",
   "metadata": {},
   "outputs": [],
   "source": [
    "df.dropna(inplace=True)"
   ]
  },
  {
   "cell_type": "code",
   "execution_count": 10,
   "id": "18e9e5f7",
   "metadata": {},
   "outputs": [],
   "source": [
    "df.drop_duplicates(inplace=True)"
   ]
  },
  {
   "cell_type": "code",
   "execution_count": 12,
   "id": "2a626843",
   "metadata": {},
   "outputs": [],
   "source": [
    "# #Predictor Variables\n",
    "# X = source_res[['def_mean', 'tmax_mean']]    #Change the same in data_unseen\n",
    "\n",
    "# #Target\n",
    "# y = target_res[['occurrenceStatus']]"
   ]
  },
  {
   "cell_type": "code",
   "execution_count": 34,
   "id": "a01f54af",
   "metadata": {},
   "outputs": [],
   "source": [
    "#Predictor Variables\n",
    "X = df[['tmin_mean','ppt_mean', 'vap_mean',\n",
    "       'vpd_mean']]    #Change the same in data_unseen\n",
    "\n",
    "#Target\n",
    "y = df[['occurrenceStatus']]"
   ]
  },
  {
   "cell_type": "code",
   "execution_count": 35,
   "id": "7d438061",
   "metadata": {},
   "outputs": [
    {
     "data": {
      "text/plain": [
       "Index(['decimalLatitude', 'decimalLongitude', 'cluster', 'occurrenceStatus',\n",
       "       'key', 'aet_mean', 'def_mean', 'pdsi_mean', 'pet_mean', 'ppt_mean',\n",
       "       'q_mean', 'soil_mean', 'srad_mean', 'tmax_mean', 'tmin_mean',\n",
       "       'vap_mean', 'vpd_mean', 'ws_mean'],\n",
       "      dtype='object')"
      ]
     },
     "execution_count": 35,
     "metadata": {},
     "output_type": "execute_result"
    }
   ],
   "source": [
    "df.columns\n"
   ]
  },
  {
   "cell_type": "code",
   "execution_count": 36,
   "id": "278ecd0a",
   "metadata": {
    "scrolled": true
   },
   "outputs": [
    {
     "data": {
      "text/html": [
       "<div>\n",
       "<style scoped>\n",
       "    .dataframe tbody tr th:only-of-type {\n",
       "        vertical-align: middle;\n",
       "    }\n",
       "\n",
       "    .dataframe tbody tr th {\n",
       "        vertical-align: top;\n",
       "    }\n",
       "\n",
       "    .dataframe thead th {\n",
       "        text-align: right;\n",
       "    }\n",
       "</style>\n",
       "<table border=\"1\" class=\"dataframe\">\n",
       "  <thead>\n",
       "    <tr style=\"text-align: right;\">\n",
       "      <th></th>\n",
       "      <th>feature</th>\n",
       "      <th>VIF</th>\n",
       "    </tr>\n",
       "  </thead>\n",
       "  <tbody>\n",
       "    <tr>\n",
       "      <th>0</th>\n",
       "      <td>ppt_mean</td>\n",
       "      <td>5.475345</td>\n",
       "    </tr>\n",
       "    <tr>\n",
       "      <th>2</th>\n",
       "      <td>vpd_mean</td>\n",
       "      <td>45.154532</td>\n",
       "    </tr>\n",
       "    <tr>\n",
       "      <th>1</th>\n",
       "      <td>vap_mean</td>\n",
       "      <td>56.116636</td>\n",
       "    </tr>\n",
       "  </tbody>\n",
       "</table>\n",
       "</div>"
      ],
      "text/plain": [
       "    feature        VIF\n",
       "0  ppt_mean   5.475345\n",
       "2  vpd_mean  45.154532\n",
       "1  vap_mean  56.116636"
      ]
     },
     "execution_count": 36,
     "metadata": {},
     "output_type": "execute_result"
    }
   ],
   "source": [
    "Z = df[['ppt_mean', 'vap_mean',\n",
    "       'vpd_mean']]  \n",
    "# VIF dataframe\n",
    "vif_data = pd.DataFrame()\n",
    "vif_data[\"feature\"] = Z.columns\n",
    "  \n",
    "# calculating VIF for each feature\n",
    "vif_data[\"VIF\"] = [variance_inflation_factor(Z.values, i)\n",
    "                          for i in range(len(Z.columns))]\n",
    "vif_data.sort_values(by='VIF')"
   ]
  },
  {
   "cell_type": "code",
   "execution_count": 37,
   "id": "c9b4dae1",
   "metadata": {
    "scrolled": true
   },
   "outputs": [],
   "source": [
    "# # summarize class distribution\n",
    "# print(y.value_counts())\n",
    "\n",
    "# # define pipeline\n",
    "# #Oversampling using smote - https://machinelearningmastery.com/smote-oversampling-for-imbalanced-classification/\n",
    "# smt = SMOTETomek(sampling_strategy = 'auto')\n",
    "# X_res, y_res = smt.fit_resample(X, y)\n",
    "\n",
    "\n",
    "# # summarize class distribution\n",
    "# print(y_res.value_counts())"
   ]
  },
  {
   "cell_type": "code",
   "execution_count": 38,
   "id": "0348f5b9",
   "metadata": {},
   "outputs": [],
   "source": [
    "X_res, y_res = X , y"
   ]
  },
  {
   "cell_type": "code",
   "execution_count": 39,
   "id": "681cae9b",
   "metadata": {
    "scrolled": true
   },
   "outputs": [
    {
     "data": {
      "text/html": [
       "<div>\n",
       "<style scoped>\n",
       "    .dataframe tbody tr th:only-of-type {\n",
       "        vertical-align: middle;\n",
       "    }\n",
       "\n",
       "    .dataframe tbody tr th {\n",
       "        vertical-align: top;\n",
       "    }\n",
       "\n",
       "    .dataframe thead th {\n",
       "        text-align: right;\n",
       "    }\n",
       "</style>\n",
       "<table border=\"1\" class=\"dataframe\">\n",
       "  <thead>\n",
       "    <tr style=\"text-align: right;\">\n",
       "      <th></th>\n",
       "      <th>tmin_mean</th>\n",
       "      <th>ppt_mean</th>\n",
       "      <th>vap_mean</th>\n",
       "      <th>vpd_mean</th>\n",
       "    </tr>\n",
       "  </thead>\n",
       "  <tbody>\n",
       "    <tr>\n",
       "      <th>count</th>\n",
       "      <td>20008.000000</td>\n",
       "      <td>20008.000000</td>\n",
       "      <td>20008.000000</td>\n",
       "      <td>20008.000000</td>\n",
       "    </tr>\n",
       "    <tr>\n",
       "      <th>mean</th>\n",
       "      <td>11.887026</td>\n",
       "      <td>52.137345</td>\n",
       "      <td>1.264916</td>\n",
       "      <td>0.850969</td>\n",
       "    </tr>\n",
       "    <tr>\n",
       "      <th>std</th>\n",
       "      <td>2.153606</td>\n",
       "      <td>19.731189</td>\n",
       "      <td>0.187031</td>\n",
       "      <td>0.144937</td>\n",
       "    </tr>\n",
       "    <tr>\n",
       "      <th>min</th>\n",
       "      <td>3.300001</td>\n",
       "      <td>1.666667</td>\n",
       "      <td>0.803333</td>\n",
       "      <td>0.340000</td>\n",
       "    </tr>\n",
       "    <tr>\n",
       "      <th>25%</th>\n",
       "      <td>11.700002</td>\n",
       "      <td>35.000000</td>\n",
       "      <td>1.210000</td>\n",
       "      <td>0.833333</td>\n",
       "    </tr>\n",
       "    <tr>\n",
       "      <th>50%</th>\n",
       "      <td>12.000000</td>\n",
       "      <td>57.333333</td>\n",
       "      <td>1.263333</td>\n",
       "      <td>0.856667</td>\n",
       "    </tr>\n",
       "    <tr>\n",
       "      <th>75%</th>\n",
       "      <td>12.600001</td>\n",
       "      <td>57.333333</td>\n",
       "      <td>1.263333</td>\n",
       "      <td>0.926667</td>\n",
       "    </tr>\n",
       "    <tr>\n",
       "      <th>max</th>\n",
       "      <td>20.100004</td>\n",
       "      <td>158.666667</td>\n",
       "      <td>2.133333</td>\n",
       "      <td>1.573333</td>\n",
       "    </tr>\n",
       "  </tbody>\n",
       "</table>\n",
       "</div>"
      ],
      "text/plain": [
       "          tmin_mean      ppt_mean      vap_mean      vpd_mean\n",
       "count  20008.000000  20008.000000  20008.000000  20008.000000\n",
       "mean      11.887026     52.137345      1.264916      0.850969\n",
       "std        2.153606     19.731189      0.187031      0.144937\n",
       "min        3.300001      1.666667      0.803333      0.340000\n",
       "25%       11.700002     35.000000      1.210000      0.833333\n",
       "50%       12.000000     57.333333      1.263333      0.856667\n",
       "75%       12.600001     57.333333      1.263333      0.926667\n",
       "max       20.100004    158.666667      2.133333      1.573333"
      ]
     },
     "execution_count": 39,
     "metadata": {},
     "output_type": "execute_result"
    }
   ],
   "source": [
    "X_res.describe()"
   ]
  },
  {
   "cell_type": "code",
   "execution_count": 40,
   "id": "9304dd97",
   "metadata": {},
   "outputs": [],
   "source": [
    "# # example of a normalization\n",
    "# from sklearn.preprocessing import MinMaxScaler\n",
    "# # define data\n",
    "# data = X_res\n",
    "# # define min max scaler\n",
    "# scaler = MinMaxScaler()\n",
    "# # transform data\n",
    "# X_scaled = scaler.fit_transform(data)\n",
    "# print(X_scaled)"
   ]
  },
  {
   "cell_type": "code",
   "execution_count": 41,
   "id": "2be88ea4",
   "metadata": {},
   "outputs": [],
   "source": [
    "y_res = y_res.astype('category')"
   ]
  },
  {
   "cell_type": "code",
   "execution_count": 42,
   "id": "53168119",
   "metadata": {},
   "outputs": [],
   "source": [
    "X_train, X_test, y_train, y_test = train_test_split(X_res,y_res, test_size=0.05, random_state=56)\n",
    "\n",
    "\n",
    "# X_train_temp, X_test_temp, y_train, y_test = train_test_split(X_res,y_res, test_size=0.30, random_state=56)\n",
    "# X_train = scaler_data(X_train_temp,scaler)\n",
    "# X_test = scaler_data(X_test_temp,scaler)"
   ]
  },
  {
   "cell_type": "code",
   "execution_count": 43,
   "id": "a686e4f2",
   "metadata": {},
   "outputs": [],
   "source": [
    "# Cross validate model with Kfold stratified cross val\n",
    "kfold = StratifiedKFold(n_splits=10) "
   ]
  },
  {
   "cell_type": "code",
   "execution_count": 44,
   "id": "0ff00dfa",
   "metadata": {},
   "outputs": [],
   "source": [
    "def report(model):\n",
    "    preds = model.predict(X_test)\n",
    "    print(classification_report(y_test,preds))\n",
    "    plot_confusion_matrix(model,X_test,y_test)\n",
    "    print(f\"F1 Score: {np.mean(f1_score(y_test, preds)).round(2)}\")\n",
    "    print(f\"Accuracy: {np.mean(accuracy_score(y_test, preds)).round(2)}\")"
   ]
  },
  {
   "cell_type": "code",
   "execution_count": 45,
   "id": "0653943f",
   "metadata": {
    "scrolled": false
   },
   "outputs": [
    {
     "name": "stdout",
     "output_type": "stream",
     "text": [
      "Fitting 10 folds for each of 12 candidates, totalling 120 fits\n"
     ]
    },
    {
     "name": "stderr",
     "output_type": "stream",
     "text": [
      "[Parallel(n_jobs=-1)]: Using backend LokyBackend with 8 concurrent workers.\n",
      "[Parallel(n_jobs=-1)]: Done  34 tasks      | elapsed:  3.3min\n",
      "[Parallel(n_jobs=-1)]: Done 120 out of 120 | elapsed:  8.0min finished\n",
      "C:\\Users\\LR996GB\\Anaconda3\\envs\\frogs\\lib\\site-packages\\sklearn\\utils\\validation.py:72: DataConversionWarning: A column-vector y was passed when a 1d array was expected. Please change the shape of y to (n_samples, ), for example using ravel().\n",
      "  return f(**kwargs)\n"
     ]
    },
    {
     "data": {
      "text/plain": [
       "GridSearchCV(cv=StratifiedKFold(n_splits=10, random_state=None, shuffle=False),\n",
       "             estimator=MLPClassifier(max_iter=1000), n_jobs=-1,\n",
       "             param_grid={'activation': ['tanh', 'relu'],\n",
       "                         'alpha': [0.0001, 0.0005, 0.001],\n",
       "                         'hidden_layer_sizes': [(6, 18, 6)],\n",
       "                         'learning_rate': ['constant', 'adaptive'],\n",
       "                         'solver': ['adam']},\n",
       "             scoring='accuracy', verbose=True)"
      ]
     },
     "execution_count": 45,
     "metadata": {},
     "output_type": "execute_result"
    }
   ],
   "source": [
    "#MLP\n",
    "\n",
    "MLP = MLPClassifier(max_iter=1000)\n",
    "\n",
    "# mlp_param_grid = {\n",
    "#     'hidden_layer_sizes': [(50,50),(100)],\n",
    "#     'activation': ['tanh', 'relu'],\n",
    "#     'solver': ['sgd', 'adam'],\n",
    "#     'alpha': [0.0001, 0.05],\n",
    "#     'learning_rate': ['constant','adaptive']}\n",
    "\n",
    "mlp_param_grid = {\n",
    "    'hidden_layer_sizes': [(6,18,6)],\n",
    "    'activation': ['tanh', 'relu'],\n",
    "    'solver': ['adam'],\n",
    "    'alpha': [0.0001,0.0005, 0.001],\n",
    "    'learning_rate': ['constant','adaptive']}\n",
    "\n",
    "# mlp_param_grid = {\n",
    "#     'hidden_layer_sizes': [(260,390,260)],\n",
    "#     'activation': ['relu'],\n",
    "#     'solver': ['adam'],\n",
    "#     'alpha': [0.00001,0.01],\n",
    "#     'learning_rate': ['constant']}\n",
    "\n",
    "gsMLP = GridSearchCV(MLP,param_grid = mlp_param_grid, cv=kfold, scoring=\"accuracy\", n_jobs= -1, verbose = True)\n",
    "gsMLP.fit(X_train,y_train)"
   ]
  },
  {
   "cell_type": "code",
   "execution_count": 46,
   "id": "9aa9a455",
   "metadata": {
    "scrolled": false
   },
   "outputs": [
    {
     "name": "stdout",
     "output_type": "stream",
     "text": [
      "Best : 0.7408313076220271, using {'activation': 'tanh', 'alpha': 0.0005, 'hidden_layer_sizes': (6, 18, 6), 'learning_rate': 'constant', 'solver': 'adam'}\n",
      "              precision    recall  f1-score   support\n",
      "\n",
      "           0       0.75      0.91      0.82       694\n",
      "           1       0.61      0.33      0.43       307\n",
      "\n",
      "    accuracy                           0.73      1001\n",
      "   macro avg       0.68      0.62      0.62      1001\n",
      "weighted avg       0.71      0.73      0.70      1001\n",
      "\n",
      "F1 Score: 0.43\n",
      "Accuracy: 0.73\n"
     ]
    },
    {
     "data": {
      "image/png": "[encoded data removed]",
      "text/plain": [
       "<Figure size 432x288 with 2 Axes>"
      ]
     },
     "metadata": {
      "needs_background": "light"
     },
     "output_type": "display_data"
    }
   ],
   "source": [
    "# Summarize the results\n",
    "MLP_best = gsMLP.best_estimator_\n",
    "print('Best : {}, using {}'.format(gsMLP.best_score_,gsMLP.best_params_))\n",
    "report(gsMLP)"
   ]
  },
  {
   "cell_type": "code",
   "execution_count": 47,
   "id": "14bdcd1b",
   "metadata": {},
   "outputs": [
    {
     "data": {
      "text/plain": [
       "MLPClassifier(activation='tanh', alpha=0.0005, hidden_layer_sizes=(6, 18, 6),\n",
       "              max_iter=1000)"
      ]
     },
     "execution_count": 47,
     "metadata": {},
     "output_type": "execute_result"
    }
   ],
   "source": [
    "gsMLP.best_estimator_"
   ]
  },
  {
   "cell_type": "code",
   "execution_count": 48,
   "id": "732fd2a8",
   "metadata": {
    "scrolled": true
   },
   "outputs": [
    {
     "name": "stderr",
     "output_type": "stream",
     "text": [
      "C:\\Users\\LR996GB\\Anaconda3\\envs\\frogs\\lib\\site-packages\\sklearn\\utils\\validation.py:72: DataConversionWarning: A column-vector y was passed when a 1d array was expected. Please change the shape of y to (n_samples, ), for example using ravel().\n",
      "  return f(**kwargs)\n"
     ]
    },
    {
     "data": {
      "text/plain": [
       "MLPClassifier(activation='tanh', alpha=0.0005, hidden_layer_sizes=(6, 18, 6),\n",
       "              max_iter=1000)"
      ]
     },
     "execution_count": 48,
     "metadata": {},
     "output_type": "execute_result"
    }
   ],
   "source": [
    "MLP_best.fit(X,y)"
   ]
  },
  {
   "cell_type": "code",
   "execution_count": 49,
   "id": "138cc979",
   "metadata": {},
   "outputs": [
    {
     "name": "stdout",
     "output_type": "stream",
     "text": [
      "              precision    recall  f1-score   support\n",
      "\n",
      "           0       0.91      0.68      0.78       694\n",
      "           1       0.54      0.86      0.66       307\n",
      "\n",
      "    accuracy                           0.73      1001\n",
      "   macro avg       0.73      0.77      0.72      1001\n",
      "weighted avg       0.80      0.73      0.74      1001\n",
      "\n",
      "F1 Score: 0.66\n",
      "Accuracy: 0.73\n"
     ]
    },
    {
     "data": {
      "image/png": "[encoded data removed]",
      "text/plain": [
       "<Figure size 432x288 with 2 Axes>"
      ]
     },
     "metadata": {
      "needs_background": "light"
     },
     "output_type": "display_data"
    }
   ],
   "source": [
    "report(MLP_best)"
   ]
  },
  {
   "cell_type": "code",
   "execution_count": 50,
   "id": "225bba1e",
   "metadata": {},
   "outputs": [
    {
     "data": {
      "text/html": [
       "<div>\n",
       "<style scoped>\n",
       "    .dataframe tbody tr th:only-of-type {\n",
       "        vertical-align: middle;\n",
       "    }\n",
       "\n",
       "    .dataframe tbody tr th {\n",
       "        vertical-align: top;\n",
       "    }\n",
       "\n",
       "    .dataframe thead th {\n",
       "        text-align: right;\n",
       "    }\n",
       "</style>\n",
       "<table border=\"1\" class=\"dataframe\">\n",
       "  <thead>\n",
       "    <tr style=\"text-align: right;\">\n",
       "      <th></th>\n",
       "      <th>id</th>\n",
       "      <th>decimalLatitude</th>\n",
       "      <th>decimalLongitude</th>\n",
       "      <th>occurrenceStatus</th>\n",
       "      <th>aet_mean</th>\n",
       "      <th>def_mean</th>\n",
       "      <th>pdsi_mean</th>\n",
       "      <th>pet_mean</th>\n",
       "      <th>ppt_mean</th>\n",
       "      <th>q_mean</th>\n",
       "      <th>soil_mean</th>\n",
       "      <th>srad_mean</th>\n",
       "      <th>tmax_mean</th>\n",
       "      <th>tmin_mean</th>\n",
       "      <th>vap_mean</th>\n",
       "      <th>vpd_mean</th>\n",
       "      <th>ws_mean</th>\n",
       "    </tr>\n",
       "  </thead>\n",
       "  <tbody>\n",
       "    <tr>\n",
       "      <th>0</th>\n",
       "      <td>0</td>\n",
       "      <td>-37.917146</td>\n",
       "      <td>145.207706</td>\n",
       "      <td>NaN</td>\n",
       "      <td>34.262500</td>\n",
       "      <td>94.183333</td>\n",
       "      <td>-1.266666</td>\n",
       "      <td>128.458333</td>\n",
       "      <td>40.008333</td>\n",
       "      <td>5.787500</td>\n",
       "      <td>19.329167</td>\n",
       "      <td>227.787500</td>\n",
       "      <td>23.284168</td>\n",
       "      <td>9.011668</td>\n",
       "      <td>1.065542</td>\n",
       "      <td>1.043167</td>\n",
       "      <td>3.337917</td>\n",
       "    </tr>\n",
       "    <tr>\n",
       "      <th>1</th>\n",
       "      <td>1</td>\n",
       "      <td>-37.750974</td>\n",
       "      <td>144.981501</td>\n",
       "      <td>NaN</td>\n",
       "      <td>34.262500</td>\n",
       "      <td>94.183333</td>\n",
       "      <td>-1.266666</td>\n",
       "      <td>128.458333</td>\n",
       "      <td>40.008333</td>\n",
       "      <td>5.787500</td>\n",
       "      <td>19.329167</td>\n",
       "      <td>227.787500</td>\n",
       "      <td>23.284168</td>\n",
       "      <td>9.011668</td>\n",
       "      <td>1.065542</td>\n",
       "      <td>1.043167</td>\n",
       "      <td>3.337917</td>\n",
       "    </tr>\n",
       "    <tr>\n",
       "      <th>2</th>\n",
       "      <td>2</td>\n",
       "      <td>-37.961600</td>\n",
       "      <td>145.348000</td>\n",
       "      <td>NaN</td>\n",
       "      <td>34.262500</td>\n",
       "      <td>94.183333</td>\n",
       "      <td>-1.266666</td>\n",
       "      <td>128.458333</td>\n",
       "      <td>40.008333</td>\n",
       "      <td>5.787500</td>\n",
       "      <td>19.329167</td>\n",
       "      <td>227.787500</td>\n",
       "      <td>23.284168</td>\n",
       "      <td>9.011668</td>\n",
       "      <td>1.065542</td>\n",
       "      <td>1.043167</td>\n",
       "      <td>3.337917</td>\n",
       "    </tr>\n",
       "    <tr>\n",
       "      <th>3</th>\n",
       "      <td>3</td>\n",
       "      <td>-37.621300</td>\n",
       "      <td>145.003000</td>\n",
       "      <td>NaN</td>\n",
       "      <td>34.262500</td>\n",
       "      <td>94.183333</td>\n",
       "      <td>-1.266666</td>\n",
       "      <td>128.458333</td>\n",
       "      <td>40.008333</td>\n",
       "      <td>5.787500</td>\n",
       "      <td>19.329167</td>\n",
       "      <td>227.787500</td>\n",
       "      <td>23.284168</td>\n",
       "      <td>9.011668</td>\n",
       "      <td>1.065542</td>\n",
       "      <td>1.043167</td>\n",
       "      <td>3.337917</td>\n",
       "    </tr>\n",
       "    <tr>\n",
       "      <th>4</th>\n",
       "      <td>4</td>\n",
       "      <td>-38.498100</td>\n",
       "      <td>145.647000</td>\n",
       "      <td>NaN</td>\n",
       "      <td>34.262500</td>\n",
       "      <td>94.183333</td>\n",
       "      <td>-1.266666</td>\n",
       "      <td>128.458333</td>\n",
       "      <td>40.008333</td>\n",
       "      <td>5.787500</td>\n",
       "      <td>19.329167</td>\n",
       "      <td>227.787500</td>\n",
       "      <td>23.284168</td>\n",
       "      <td>9.011668</td>\n",
       "      <td>1.065542</td>\n",
       "      <td>1.043167</td>\n",
       "      <td>3.337917</td>\n",
       "    </tr>\n",
       "    <tr>\n",
       "      <th>...</th>\n",
       "      <td>...</td>\n",
       "      <td>...</td>\n",
       "      <td>...</td>\n",
       "      <td>...</td>\n",
       "      <td>...</td>\n",
       "      <td>...</td>\n",
       "      <td>...</td>\n",
       "      <td>...</td>\n",
       "      <td>...</td>\n",
       "      <td>...</td>\n",
       "      <td>...</td>\n",
       "      <td>...</td>\n",
       "      <td>...</td>\n",
       "      <td>...</td>\n",
       "      <td>...</td>\n",
       "      <td>...</td>\n",
       "      <td>...</td>\n",
       "    </tr>\n",
       "    <tr>\n",
       "      <th>4046</th>\n",
       "      <td>4046</td>\n",
       "      <td>-31.884385</td>\n",
       "      <td>116.150192</td>\n",
       "      <td>NaN</td>\n",
       "      <td>50.529167</td>\n",
       "      <td>81.137500</td>\n",
       "      <td>-1.365000</td>\n",
       "      <td>131.612500</td>\n",
       "      <td>68.616667</td>\n",
       "      <td>18.204167</td>\n",
       "      <td>57.683333</td>\n",
       "      <td>231.645833</td>\n",
       "      <td>23.183335</td>\n",
       "      <td>10.612502</td>\n",
       "      <td>1.150875</td>\n",
       "      <td>1.001042</td>\n",
       "      <td>3.826250</td>\n",
       "    </tr>\n",
       "    <tr>\n",
       "      <th>4047</th>\n",
       "      <td>4047</td>\n",
       "      <td>-32.412962</td>\n",
       "      <td>115.779737</td>\n",
       "      <td>NaN</td>\n",
       "      <td>51.320833</td>\n",
       "      <td>88.137500</td>\n",
       "      <td>-2.365833</td>\n",
       "      <td>139.433333</td>\n",
       "      <td>60.000000</td>\n",
       "      <td>8.779167</td>\n",
       "      <td>61.729167</td>\n",
       "      <td>232.704167</td>\n",
       "      <td>24.072918</td>\n",
       "      <td>12.800418</td>\n",
       "      <td>1.356417</td>\n",
       "      <td>0.955208</td>\n",
       "      <td>5.162500</td>\n",
       "    </tr>\n",
       "    <tr>\n",
       "      <th>4048</th>\n",
       "      <td>4048</td>\n",
       "      <td>-32.147959</td>\n",
       "      <td>115.856628</td>\n",
       "      <td>NaN</td>\n",
       "      <td>50.991667</td>\n",
       "      <td>89.566667</td>\n",
       "      <td>-2.296666</td>\n",
       "      <td>140.491667</td>\n",
       "      <td>59.062500</td>\n",
       "      <td>8.120833</td>\n",
       "      <td>65.654167</td>\n",
       "      <td>233.208333</td>\n",
       "      <td>24.143335</td>\n",
       "      <td>12.958752</td>\n",
       "      <td>1.334000</td>\n",
       "      <td>0.995583</td>\n",
       "      <td>4.850417</td>\n",
       "    </tr>\n",
       "    <tr>\n",
       "      <th>4049</th>\n",
       "      <td>4049</td>\n",
       "      <td>-31.827000</td>\n",
       "      <td>116.238000</td>\n",
       "      <td>NaN</td>\n",
       "      <td>46.254167</td>\n",
       "      <td>86.800000</td>\n",
       "      <td>-1.086250</td>\n",
       "      <td>133.054167</td>\n",
       "      <td>60.600000</td>\n",
       "      <td>14.383333</td>\n",
       "      <td>43.779167</td>\n",
       "      <td>231.712500</td>\n",
       "      <td>23.624585</td>\n",
       "      <td>10.504168</td>\n",
       "      <td>1.139250</td>\n",
       "      <td>1.054083</td>\n",
       "      <td>3.619167</td>\n",
       "    </tr>\n",
       "    <tr>\n",
       "      <th>4050</th>\n",
       "      <td>4050</td>\n",
       "      <td>-31.582511</td>\n",
       "      <td>116.073031</td>\n",
       "      <td>NaN</td>\n",
       "      <td>45.641667</td>\n",
       "      <td>94.270833</td>\n",
       "      <td>-1.167500</td>\n",
       "      <td>139.912500</td>\n",
       "      <td>55.200000</td>\n",
       "      <td>9.616667</td>\n",
       "      <td>35.395833</td>\n",
       "      <td>232.441667</td>\n",
       "      <td>24.618335</td>\n",
       "      <td>11.668335</td>\n",
       "      <td>1.193125</td>\n",
       "      <td>1.143042</td>\n",
       "      <td>3.781250</td>\n",
       "    </tr>\n",
       "  </tbody>\n",
       "</table>\n",
       "<p>4051 rows × 17 columns</p>\n",
       "</div>"
      ],
      "text/plain": [
       "        id  decimalLatitude  decimalLongitude  occurrenceStatus   aet_mean  \\\n",
       "0        0       -37.917146        145.207706               NaN  34.262500   \n",
       "1        1       -37.750974        144.981501               NaN  34.262500   \n",
       "2        2       -37.961600        145.348000               NaN  34.262500   \n",
       "3        3       -37.621300        145.003000               NaN  34.262500   \n",
       "4        4       -38.498100        145.647000               NaN  34.262500   \n",
       "...    ...              ...               ...               ...        ...   \n",
       "4046  4046       -31.884385        116.150192               NaN  50.529167   \n",
       "4047  4047       -32.412962        115.779737               NaN  51.320833   \n",
       "4048  4048       -32.147959        115.856628               NaN  50.991667   \n",
       "4049  4049       -31.827000        116.238000               NaN  46.254167   \n",
       "4050  4050       -31.582511        116.073031               NaN  45.641667   \n",
       "\n",
       "       def_mean  pdsi_mean    pet_mean   ppt_mean     q_mean  soil_mean  \\\n",
       "0     94.183333  -1.266666  128.458333  40.008333   5.787500  19.329167   \n",
       "1     94.183333  -1.266666  128.458333  40.008333   5.787500  19.329167   \n",
       "2     94.183333  -1.266666  128.458333  40.008333   5.787500  19.329167   \n",
       "3     94.183333  -1.266666  128.458333  40.008333   5.787500  19.329167   \n",
       "4     94.183333  -1.266666  128.458333  40.008333   5.787500  19.329167   \n",
       "...         ...        ...         ...        ...        ...        ...   \n",
       "4046  81.137500  -1.365000  131.612500  68.616667  18.204167  57.683333   \n",
       "4047  88.137500  -2.365833  139.433333  60.000000   8.779167  61.729167   \n",
       "4048  89.566667  -2.296666  140.491667  59.062500   8.120833  65.654167   \n",
       "4049  86.800000  -1.086250  133.054167  60.600000  14.383333  43.779167   \n",
       "4050  94.270833  -1.167500  139.912500  55.200000   9.616667  35.395833   \n",
       "\n",
       "       srad_mean  tmax_mean  tmin_mean  vap_mean  vpd_mean   ws_mean  \n",
       "0     227.787500  23.284168   9.011668  1.065542  1.043167  3.337917  \n",
       "1     227.787500  23.284168   9.011668  1.065542  1.043167  3.337917  \n",
       "2     227.787500  23.284168   9.011668  1.065542  1.043167  3.337917  \n",
       "3     227.787500  23.284168   9.011668  1.065542  1.043167  3.337917  \n",
       "4     227.787500  23.284168   9.011668  1.065542  1.043167  3.337917  \n",
       "...          ...        ...        ...       ...       ...       ...  \n",
       "4046  231.645833  23.183335  10.612502  1.150875  1.001042  3.826250  \n",
       "4047  232.704167  24.072918  12.800418  1.356417  0.955208  5.162500  \n",
       "4048  233.208333  24.143335  12.958752  1.334000  0.995583  4.850417  \n",
       "4049  231.712500  23.624585  10.504168  1.139250  1.054083  3.619167  \n",
       "4050  232.441667  24.618335  11.668335  1.193125  1.143042  3.781250  \n",
       "\n",
       "[4051 rows x 17 columns]"
      ]
     },
     "execution_count": 50,
     "metadata": {},
     "output_type": "execute_result"
    }
   ],
   "source": [
    "test = pd.read_csv('submission_predictors_terraclimate.csv').drop('Unnamed: 0',axis=1)\n",
    "test"
   ]
  },
  {
   "cell_type": "code",
   "execution_count": 52,
   "id": "8dfff1c5",
   "metadata": {},
   "outputs": [],
   "source": [
    "data_unseen = test[['tmin_mean','ppt_mean', 'vap_mean',\n",
    "       'vpd_mean']]     #Use same column names in X"
   ]
  },
  {
   "cell_type": "code",
   "execution_count": 53,
   "id": "d4f27849",
   "metadata": {},
   "outputs": [],
   "source": [
    "# #transform data\n",
    "# data_unseen_Scaled = scaler_data(data_unseen,scaler)\n",
    "# print(data_unseen_Scaled)"
   ]
  },
  {
   "cell_type": "code",
   "execution_count": 54,
   "id": "d0854dc0",
   "metadata": {},
   "outputs": [],
   "source": [
    "def get_result(model,test_Scaled):\n",
    "    test_result = model.predict(test_Scaled)\n",
    "    test.occurrenceStatus = test_result\n",
    "    print(test.occurrenceStatus.value_counts())"
   ]
  },
  {
   "cell_type": "code",
   "execution_count": 55,
   "id": "a3d199b6",
   "metadata": {},
   "outputs": [
    {
     "data": {
      "text/html": [
       "<div>\n",
       "<style scoped>\n",
       "    .dataframe tbody tr th:only-of-type {\n",
       "        vertical-align: middle;\n",
       "    }\n",
       "\n",
       "    .dataframe tbody tr th {\n",
       "        vertical-align: top;\n",
       "    }\n",
       "\n",
       "    .dataframe thead th {\n",
       "        text-align: right;\n",
       "    }\n",
       "</style>\n",
       "<table border=\"1\" class=\"dataframe\">\n",
       "  <thead>\n",
       "    <tr style=\"text-align: right;\">\n",
       "      <th></th>\n",
       "      <th>tmin_mean</th>\n",
       "      <th>ppt_mean</th>\n",
       "      <th>vap_mean</th>\n",
       "      <th>vpd_mean</th>\n",
       "    </tr>\n",
       "  </thead>\n",
       "  <tbody>\n",
       "    <tr>\n",
       "      <th>0</th>\n",
       "      <td>9.011668</td>\n",
       "      <td>40.008333</td>\n",
       "      <td>1.065542</td>\n",
       "      <td>1.043167</td>\n",
       "    </tr>\n",
       "    <tr>\n",
       "      <th>1</th>\n",
       "      <td>9.011668</td>\n",
       "      <td>40.008333</td>\n",
       "      <td>1.065542</td>\n",
       "      <td>1.043167</td>\n",
       "    </tr>\n",
       "    <tr>\n",
       "      <th>2</th>\n",
       "      <td>9.011668</td>\n",
       "      <td>40.008333</td>\n",
       "      <td>1.065542</td>\n",
       "      <td>1.043167</td>\n",
       "    </tr>\n",
       "    <tr>\n",
       "      <th>3</th>\n",
       "      <td>9.011668</td>\n",
       "      <td>40.008333</td>\n",
       "      <td>1.065542</td>\n",
       "      <td>1.043167</td>\n",
       "    </tr>\n",
       "    <tr>\n",
       "      <th>4</th>\n",
       "      <td>9.011668</td>\n",
       "      <td>40.008333</td>\n",
       "      <td>1.065542</td>\n",
       "      <td>1.043167</td>\n",
       "    </tr>\n",
       "    <tr>\n",
       "      <th>...</th>\n",
       "      <td>...</td>\n",
       "      <td>...</td>\n",
       "      <td>...</td>\n",
       "      <td>...</td>\n",
       "    </tr>\n",
       "    <tr>\n",
       "      <th>4046</th>\n",
       "      <td>10.612502</td>\n",
       "      <td>68.616667</td>\n",
       "      <td>1.150875</td>\n",
       "      <td>1.001042</td>\n",
       "    </tr>\n",
       "    <tr>\n",
       "      <th>4047</th>\n",
       "      <td>12.800418</td>\n",
       "      <td>60.000000</td>\n",
       "      <td>1.356417</td>\n",
       "      <td>0.955208</td>\n",
       "    </tr>\n",
       "    <tr>\n",
       "      <th>4048</th>\n",
       "      <td>12.958752</td>\n",
       "      <td>59.062500</td>\n",
       "      <td>1.334000</td>\n",
       "      <td>0.995583</td>\n",
       "    </tr>\n",
       "    <tr>\n",
       "      <th>4049</th>\n",
       "      <td>10.504168</td>\n",
       "      <td>60.600000</td>\n",
       "      <td>1.139250</td>\n",
       "      <td>1.054083</td>\n",
       "    </tr>\n",
       "    <tr>\n",
       "      <th>4050</th>\n",
       "      <td>11.668335</td>\n",
       "      <td>55.200000</td>\n",
       "      <td>1.193125</td>\n",
       "      <td>1.143042</td>\n",
       "    </tr>\n",
       "  </tbody>\n",
       "</table>\n",
       "<p>4051 rows × 4 columns</p>\n",
       "</div>"
      ],
      "text/plain": [
       "      tmin_mean   ppt_mean  vap_mean  vpd_mean\n",
       "0      9.011668  40.008333  1.065542  1.043167\n",
       "1      9.011668  40.008333  1.065542  1.043167\n",
       "2      9.011668  40.008333  1.065542  1.043167\n",
       "3      9.011668  40.008333  1.065542  1.043167\n",
       "4      9.011668  40.008333  1.065542  1.043167\n",
       "...         ...        ...       ...       ...\n",
       "4046  10.612502  68.616667  1.150875  1.001042\n",
       "4047  12.800418  60.000000  1.356417  0.955208\n",
       "4048  12.958752  59.062500  1.334000  0.995583\n",
       "4049  10.504168  60.600000  1.139250  1.054083\n",
       "4050  11.668335  55.200000  1.193125  1.143042\n",
       "\n",
       "[4051 rows x 4 columns]"
      ]
     },
     "execution_count": 55,
     "metadata": {},
     "output_type": "execute_result"
    }
   ],
   "source": [
    "data_unseen"
   ]
  },
  {
   "cell_type": "code",
   "execution_count": 56,
   "id": "4f44fbc3",
   "metadata": {},
   "outputs": [
    {
     "data": {
      "text/html": [
       "<div>\n",
       "<style scoped>\n",
       "    .dataframe tbody tr th:only-of-type {\n",
       "        vertical-align: middle;\n",
       "    }\n",
       "\n",
       "    .dataframe tbody tr th {\n",
       "        vertical-align: top;\n",
       "    }\n",
       "\n",
       "    .dataframe thead th {\n",
       "        text-align: right;\n",
       "    }\n",
       "</style>\n",
       "<table border=\"1\" class=\"dataframe\">\n",
       "  <thead>\n",
       "    <tr style=\"text-align: right;\">\n",
       "      <th></th>\n",
       "      <th>tmin_mean</th>\n",
       "      <th>ppt_mean</th>\n",
       "      <th>vap_mean</th>\n",
       "      <th>vpd_mean</th>\n",
       "    </tr>\n",
       "  </thead>\n",
       "  <tbody>\n",
       "    <tr>\n",
       "      <th>0</th>\n",
       "      <td>8.233335</td>\n",
       "      <td>89.666667</td>\n",
       "      <td>1.020000</td>\n",
       "      <td>0.613333</td>\n",
       "    </tr>\n",
       "    <tr>\n",
       "      <th>1</th>\n",
       "      <td>9.166667</td>\n",
       "      <td>64.000000</td>\n",
       "      <td>1.076667</td>\n",
       "      <td>0.613333</td>\n",
       "    </tr>\n",
       "    <tr>\n",
       "      <th>2</th>\n",
       "      <td>8.533335</td>\n",
       "      <td>84.000000</td>\n",
       "      <td>1.036667</td>\n",
       "      <td>0.620000</td>\n",
       "    </tr>\n",
       "    <tr>\n",
       "      <th>3</th>\n",
       "      <td>8.133334</td>\n",
       "      <td>93.000000</td>\n",
       "      <td>1.063333</td>\n",
       "      <td>0.540000</td>\n",
       "    </tr>\n",
       "    <tr>\n",
       "      <th>4</th>\n",
       "      <td>9.066668</td>\n",
       "      <td>67.666667</td>\n",
       "      <td>1.046667</td>\n",
       "      <td>0.680000</td>\n",
       "    </tr>\n",
       "    <tr>\n",
       "      <th>...</th>\n",
       "      <td>...</td>\n",
       "      <td>...</td>\n",
       "      <td>...</td>\n",
       "      <td>...</td>\n",
       "    </tr>\n",
       "    <tr>\n",
       "      <th>20003</th>\n",
       "      <td>12.600001</td>\n",
       "      <td>35.000000</td>\n",
       "      <td>1.260000</td>\n",
       "      <td>0.926667</td>\n",
       "    </tr>\n",
       "    <tr>\n",
       "      <th>20004</th>\n",
       "      <td>12.600001</td>\n",
       "      <td>35.000000</td>\n",
       "      <td>1.260000</td>\n",
       "      <td>0.926667</td>\n",
       "    </tr>\n",
       "    <tr>\n",
       "      <th>20005</th>\n",
       "      <td>12.699999</td>\n",
       "      <td>33.333333</td>\n",
       "      <td>1.293333</td>\n",
       "      <td>0.890000</td>\n",
       "    </tr>\n",
       "    <tr>\n",
       "      <th>20006</th>\n",
       "      <td>12.600001</td>\n",
       "      <td>35.000000</td>\n",
       "      <td>1.260000</td>\n",
       "      <td>0.926667</td>\n",
       "    </tr>\n",
       "    <tr>\n",
       "      <th>20007</th>\n",
       "      <td>12.600001</td>\n",
       "      <td>35.000000</td>\n",
       "      <td>1.260000</td>\n",
       "      <td>0.926667</td>\n",
       "    </tr>\n",
       "  </tbody>\n",
       "</table>\n",
       "<p>20008 rows × 4 columns</p>\n",
       "</div>"
      ],
      "text/plain": [
       "       tmin_mean   ppt_mean  vap_mean  vpd_mean\n",
       "0       8.233335  89.666667  1.020000  0.613333\n",
       "1       9.166667  64.000000  1.076667  0.613333\n",
       "2       8.533335  84.000000  1.036667  0.620000\n",
       "3       8.133334  93.000000  1.063333  0.540000\n",
       "4       9.066668  67.666667  1.046667  0.680000\n",
       "...          ...        ...       ...       ...\n",
       "20003  12.600001  35.000000  1.260000  0.926667\n",
       "20004  12.600001  35.000000  1.260000  0.926667\n",
       "20005  12.699999  33.333333  1.293333  0.890000\n",
       "20006  12.600001  35.000000  1.260000  0.926667\n",
       "20007  12.600001  35.000000  1.260000  0.926667\n",
       "\n",
       "[20008 rows x 4 columns]"
      ]
     },
     "execution_count": 56,
     "metadata": {},
     "output_type": "execute_result"
    }
   ],
   "source": [
    "X"
   ]
  },
  {
   "cell_type": "code",
   "execution_count": 57,
   "id": "900c471c",
   "metadata": {
    "scrolled": false
   },
   "outputs": [
    {
     "name": "stdout",
     "output_type": "stream",
     "text": [
      "0    2810\n",
      "1    1241\n",
      "Name: occurrenceStatus, dtype: int64\n"
     ]
    }
   ],
   "source": [
    "get_result(gsMLP,data_unseen)\n"
   ]
  },
  {
   "cell_type": "code",
   "execution_count": null,
   "id": "e6965414",
   "metadata": {},
   "outputs": [],
   "source": [
    "test.iloc[:,:4].to_csv('feature_samp_aet_pdsi_soil_ppt_tmin_vpd_ws_18_54_18.csv')"
   ]
  },
  {
   "cell_type": "code",
   "execution_count": null,
   "id": "59032f68",
   "metadata": {},
   "outputs": [],
   "source": []
  }
 ],
 "metadata": {
  "kernelspec": {
   "display_name": "Python [conda env:frogs] *",
   "language": "python",
   "name": "conda-env-frogs-py"
  },
  "language_info": {
   "codemirror_mode": {
    "name": "ipython",
    "version": 3
   },
   "file_extension": ".py",
   "mimetype": "text/x-python",
   "name": "python",
   "nbconvert_exporter": "python",
   "pygments_lexer": "ipython3",
   "version": "3.7.11"
  }
 },
 "nbformat": 4,
 "nbformat_minor": 5
}
