{
 "cells": [
  {
   "cell_type": "code",
   "execution_count": 1,
   "id": "b33429f3",
   "metadata": {},
   "outputs": [
    {
     "name": "stderr",
     "output_type": "stream",
     "text": [
      "C:\\Users\\LR996GB\\Anaconda3\\envs\\frogs\\lib\\site-packages\\xarray\\backends\\cfgrib_.py:28: UserWarning: Failed to load cfgrib - most likely there is a problem accessing the ecCodes library. Try `import cfgrib` to get the full error message\n",
      "  \"Failed to load cfgrib - most likely there is a problem accessing the ecCodes library. \"\n"
     ]
    }
   ],
   "source": [
    "#Basic Libraries\n",
    "import pandas as pd\n",
    "import numpy as np\n",
    "import datetime as dt\n",
    "\n",
    "\n",
    "#Visualizations\n",
    "import matplotlib.pyplot as plt\n",
    "import matplotlib.patches as mpatches\n",
    "import seaborn as sns\n",
    "\n",
    "\n",
    "# ML Matrix + Performance params\n",
    "from sklearn.metrics import f1_score, accuracy_score, ConfusionMatrixDisplay\n",
    "from sklearn.model_selection import StratifiedKFold\n",
    "from sklearn.model_selection import train_test_split\n",
    "from sklearn.metrics import confusion_matrix,classification_report,plot_confusion_matrix\n",
    "\n",
    "#Fixing Balancing\n",
    "from imblearn.over_sampling import SMOTE\n",
    "from imblearn.under_sampling import RandomUnderSampler\n",
    "from imblearn.combine import SMOTETomek\n",
    "from collections import Counter\n",
    "from imblearn.pipeline import Pipeline\n",
    "\n",
    "\n",
    "#Load the ML Algos\n",
    "from sklearn.ensemble import RandomForestClassifier, AdaBoostClassifier, GradientBoostingClassifier, ExtraTreesClassifier, VotingClassifier\n",
    "from sklearn.discriminant_analysis import LinearDiscriminantAnalysis\n",
    "from sklearn.linear_model import LogisticRegression\n",
    "from sklearn.neighbors import KNeighborsClassifier\n",
    "from sklearn.tree import DecisionTreeClassifier\n",
    "from sklearn.neural_network import MLPClassifier\n",
    "from sklearn.svm import SVC\n",
    "from sklearn.svm import LinearSVC\n",
    "from xgboost import XGBClassifier\n",
    "from sklearn.model_selection import GridSearchCV, cross_val_score, StratifiedKFold\n",
    "from sklearn.cluster import DBSCAN\n",
    "\n",
    "# Geospatial\n",
    "import contextily as cx\n",
    "from shapely.geometry import Point, Polygon\n",
    "import xarray as xr\n",
    "import rasterio.features\n",
    "import rasterio as rio\n",
    "import fsspec\n",
    "\n",
    "# API\n",
    "import requests\n",
    "import json\n",
    "\n",
    "# Import Planetary Computer\n",
    "# import stackstac\n",
    "import pystac\n",
    "import pystac_client\n",
    "import planetary_computer\n",
    "\n",
    "# Other\n",
    "import os\n",
    "from itertools import cycle"
   ]
  },
  {
   "cell_type": "code",
   "execution_count": 2,
   "id": "0e5845d6",
   "metadata": {},
   "outputs": [],
   "source": [
    "df1 = pd.read_csv('Level_1_challenge_1_submission_template.csv')"
   ]
  },
  {
   "cell_type": "code",
   "execution_count": 3,
   "id": "ba93aca7",
   "metadata": {
    "scrolled": true
   },
   "outputs": [
    {
     "data": {
      "text/html": [
       "<div>\n",
       "<style scoped>\n",
       "    .dataframe tbody tr th:only-of-type {\n",
       "        vertical-align: middle;\n",
       "    }\n",
       "\n",
       "    .dataframe tbody tr th {\n",
       "        vertical-align: top;\n",
       "    }\n",
       "\n",
       "    .dataframe thead th {\n",
       "        text-align: right;\n",
       "    }\n",
       "</style>\n",
       "<table border=\"1\" class=\"dataframe\">\n",
       "  <thead>\n",
       "    <tr style=\"text-align: right;\">\n",
       "      <th></th>\n",
       "      <th>id</th>\n",
       "      <th>decimalLatitude</th>\n",
       "      <th>decimalLongitude</th>\n",
       "      <th>occurrenceStatus</th>\n",
       "    </tr>\n",
       "  </thead>\n",
       "  <tbody>\n",
       "    <tr>\n",
       "      <th>0</th>\n",
       "      <td>0</td>\n",
       "      <td>-37.917146</td>\n",
       "      <td>145.207706</td>\n",
       "      <td>NaN</td>\n",
       "    </tr>\n",
       "    <tr>\n",
       "      <th>1</th>\n",
       "      <td>1</td>\n",
       "      <td>-37.750974</td>\n",
       "      <td>144.981501</td>\n",
       "      <td>NaN</td>\n",
       "    </tr>\n",
       "    <tr>\n",
       "      <th>2</th>\n",
       "      <td>2</td>\n",
       "      <td>-37.961600</td>\n",
       "      <td>145.348000</td>\n",
       "      <td>NaN</td>\n",
       "    </tr>\n",
       "    <tr>\n",
       "      <th>3</th>\n",
       "      <td>3</td>\n",
       "      <td>-37.621300</td>\n",
       "      <td>145.003000</td>\n",
       "      <td>NaN</td>\n",
       "    </tr>\n",
       "    <tr>\n",
       "      <th>4</th>\n",
       "      <td>4</td>\n",
       "      <td>-38.498100</td>\n",
       "      <td>145.647000</td>\n",
       "      <td>NaN</td>\n",
       "    </tr>\n",
       "  </tbody>\n",
       "</table>\n",
       "</div>"
      ],
      "text/plain": [
       "   id  decimalLatitude  decimalLongitude  occurrenceStatus\n",
       "0   0       -37.917146        145.207706               NaN\n",
       "1   1       -37.750974        144.981501               NaN\n",
       "2   2       -37.961600        145.348000               NaN\n",
       "3   3       -37.621300        145.003000               NaN\n",
       "4   4       -38.498100        145.647000               NaN"
      ]
     },
     "execution_count": 3,
     "metadata": {},
     "output_type": "execute_result"
    }
   ],
   "source": [
    "df1.head()"
   ]
  },
  {
   "cell_type": "code",
   "execution_count": 4,
   "id": "a80dca13",
   "metadata": {
    "scrolled": false
   },
   "outputs": [
    {
     "data": {
      "text/plain": [
       "-16.7442"
      ]
     },
     "execution_count": 4,
     "metadata": {},
     "output_type": "execute_result"
    }
   ],
   "source": [
    "df1.decimalLatitude.max()"
   ]
  },
  {
   "cell_type": "code",
   "execution_count": 5,
   "id": "059cc306",
   "metadata": {
    "scrolled": false
   },
   "outputs": [
    {
     "data": {
      "text/html": [
       "<div>\n",
       "<style scoped>\n",
       "    .dataframe tbody tr th:only-of-type {\n",
       "        vertical-align: middle;\n",
       "    }\n",
       "\n",
       "    .dataframe tbody tr th {\n",
       "        vertical-align: top;\n",
       "    }\n",
       "\n",
       "    .dataframe thead th {\n",
       "        text-align: right;\n",
       "    }\n",
       "</style>\n",
       "<table border=\"1\" class=\"dataframe\">\n",
       "  <thead>\n",
       "    <tr style=\"text-align: right;\">\n",
       "      <th></th>\n",
       "      <th>decimalLatitude</th>\n",
       "      <th>decimalLongitude</th>\n",
       "    </tr>\n",
       "  </thead>\n",
       "  <tbody>\n",
       "    <tr>\n",
       "      <th>0</th>\n",
       "      <td>-37.917146</td>\n",
       "      <td>145.207706</td>\n",
       "    </tr>\n",
       "    <tr>\n",
       "      <th>1</th>\n",
       "      <td>-37.750974</td>\n",
       "      <td>144.981501</td>\n",
       "    </tr>\n",
       "    <tr>\n",
       "      <th>2</th>\n",
       "      <td>-37.961600</td>\n",
       "      <td>145.348000</td>\n",
       "    </tr>\n",
       "    <tr>\n",
       "      <th>3</th>\n",
       "      <td>-37.621300</td>\n",
       "      <td>145.003000</td>\n",
       "    </tr>\n",
       "    <tr>\n",
       "      <th>4</th>\n",
       "      <td>-38.498100</td>\n",
       "      <td>145.647000</td>\n",
       "    </tr>\n",
       "    <tr>\n",
       "      <th>...</th>\n",
       "      <td>...</td>\n",
       "      <td>...</td>\n",
       "    </tr>\n",
       "    <tr>\n",
       "      <th>4046</th>\n",
       "      <td>-31.884385</td>\n",
       "      <td>116.150192</td>\n",
       "    </tr>\n",
       "    <tr>\n",
       "      <th>4047</th>\n",
       "      <td>-32.412962</td>\n",
       "      <td>115.779737</td>\n",
       "    </tr>\n",
       "    <tr>\n",
       "      <th>4048</th>\n",
       "      <td>-32.147959</td>\n",
       "      <td>115.856628</td>\n",
       "    </tr>\n",
       "    <tr>\n",
       "      <th>4049</th>\n",
       "      <td>-31.827000</td>\n",
       "      <td>116.238000</td>\n",
       "    </tr>\n",
       "    <tr>\n",
       "      <th>4050</th>\n",
       "      <td>-31.582511</td>\n",
       "      <td>116.073031</td>\n",
       "    </tr>\n",
       "  </tbody>\n",
       "</table>\n",
       "<p>4051 rows × 2 columns</p>\n",
       "</div>"
      ],
      "text/plain": [
       "      decimalLatitude  decimalLongitude\n",
       "0          -37.917146        145.207706\n",
       "1          -37.750974        144.981501\n",
       "2          -37.961600        145.348000\n",
       "3          -37.621300        145.003000\n",
       "4          -38.498100        145.647000\n",
       "...               ...               ...\n",
       "4046       -31.884385        116.150192\n",
       "4047       -32.412962        115.779737\n",
       "4048       -32.147959        115.856628\n",
       "4049       -31.827000        116.238000\n",
       "4050       -31.582511        116.073031\n",
       "\n",
       "[4051 rows x 2 columns]"
      ]
     },
     "execution_count": 5,
     "metadata": {},
     "output_type": "execute_result"
    }
   ],
   "source": [
    "df1.iloc[:,1:3]"
   ]
  },
  {
   "cell_type": "code",
   "execution_count": 6,
   "id": "781b3e2f",
   "metadata": {},
   "outputs": [
    {
     "data": {
      "text/plain": [
       "DBSCAN(eps=2, min_samples=10)"
      ]
     },
     "execution_count": 6,
     "metadata": {},
     "output_type": "execute_result"
    }
   ],
   "source": [
    "dbscan = DBSCAN(eps=2, min_samples=10)\n",
    "dbscan.fit(df1.iloc[:,1:3])"
   ]
  },
  {
   "cell_type": "code",
   "execution_count": 7,
   "id": "910f1d69",
   "metadata": {
    "scrolled": true
   },
   "outputs": [
    {
     "data": {
      "text/plain": [
       "array([0, 0, 0, ..., 4, 4, 4], dtype=int64)"
      ]
     },
     "execution_count": 7,
     "metadata": {},
     "output_type": "execute_result"
    }
   ],
   "source": [
    "dbscan.labels_"
   ]
  },
  {
   "cell_type": "code",
   "execution_count": 8,
   "id": "eb3293fc",
   "metadata": {
    "scrolled": false
   },
   "outputs": [
    {
     "data": {
      "text/plain": [
       "0    1491\n",
       "1    1171\n",
       "2     663\n",
       "4     598\n",
       "3     128\n",
       "Name: clusters_dbscan, dtype: int64"
      ]
     },
     "execution_count": 8,
     "metadata": {},
     "output_type": "execute_result"
    }
   ],
   "source": [
    "data_dbscan = df1.iloc[:,1:3].copy()\n",
    "data_dbscan['clusters_dbscan'] = dbscan.labels_\n",
    "data_dbscan['clusters_dbscan'].value_counts()"
   ]
  },
  {
   "cell_type": "code",
   "execution_count": 9,
   "id": "1066e787",
   "metadata": {},
   "outputs": [
    {
     "data": {
      "text/html": [
       "<div>\n",
       "<style scoped>\n",
       "    .dataframe tbody tr th:only-of-type {\n",
       "        vertical-align: middle;\n",
       "    }\n",
       "\n",
       "    .dataframe tbody tr th {\n",
       "        vertical-align: top;\n",
       "    }\n",
       "\n",
       "    .dataframe thead th {\n",
       "        text-align: right;\n",
       "    }\n",
       "</style>\n",
       "<table border=\"1\" class=\"dataframe\">\n",
       "  <thead>\n",
       "    <tr style=\"text-align: right;\">\n",
       "      <th></th>\n",
       "      <th>decimalLatitude</th>\n",
       "      <th>decimalLongitude</th>\n",
       "      <th>clusters_dbscan</th>\n",
       "    </tr>\n",
       "  </thead>\n",
       "  <tbody>\n",
       "    <tr>\n",
       "      <th>0</th>\n",
       "      <td>-37.917146</td>\n",
       "      <td>145.207706</td>\n",
       "      <td>0</td>\n",
       "    </tr>\n",
       "    <tr>\n",
       "      <th>1</th>\n",
       "      <td>-37.750974</td>\n",
       "      <td>144.981501</td>\n",
       "      <td>0</td>\n",
       "    </tr>\n",
       "    <tr>\n",
       "      <th>2</th>\n",
       "      <td>-37.961600</td>\n",
       "      <td>145.348000</td>\n",
       "      <td>0</td>\n",
       "    </tr>\n",
       "    <tr>\n",
       "      <th>3</th>\n",
       "      <td>-37.621300</td>\n",
       "      <td>145.003000</td>\n",
       "      <td>0</td>\n",
       "    </tr>\n",
       "    <tr>\n",
       "      <th>4</th>\n",
       "      <td>-38.498100</td>\n",
       "      <td>145.647000</td>\n",
       "      <td>0</td>\n",
       "    </tr>\n",
       "    <tr>\n",
       "      <th>...</th>\n",
       "      <td>...</td>\n",
       "      <td>...</td>\n",
       "      <td>...</td>\n",
       "    </tr>\n",
       "    <tr>\n",
       "      <th>4046</th>\n",
       "      <td>-31.884385</td>\n",
       "      <td>116.150192</td>\n",
       "      <td>4</td>\n",
       "    </tr>\n",
       "    <tr>\n",
       "      <th>4047</th>\n",
       "      <td>-32.412962</td>\n",
       "      <td>115.779737</td>\n",
       "      <td>4</td>\n",
       "    </tr>\n",
       "    <tr>\n",
       "      <th>4048</th>\n",
       "      <td>-32.147959</td>\n",
       "      <td>115.856628</td>\n",
       "      <td>4</td>\n",
       "    </tr>\n",
       "    <tr>\n",
       "      <th>4049</th>\n",
       "      <td>-31.827000</td>\n",
       "      <td>116.238000</td>\n",
       "      <td>4</td>\n",
       "    </tr>\n",
       "    <tr>\n",
       "      <th>4050</th>\n",
       "      <td>-31.582511</td>\n",
       "      <td>116.073031</td>\n",
       "      <td>4</td>\n",
       "    </tr>\n",
       "  </tbody>\n",
       "</table>\n",
       "<p>4051 rows × 3 columns</p>\n",
       "</div>"
      ],
      "text/plain": [
       "      decimalLatitude  decimalLongitude  clusters_dbscan\n",
       "0          -37.917146        145.207706                0\n",
       "1          -37.750974        144.981501                0\n",
       "2          -37.961600        145.348000                0\n",
       "3          -37.621300        145.003000                0\n",
       "4          -38.498100        145.647000                0\n",
       "...               ...               ...              ...\n",
       "4046       -31.884385        116.150192                4\n",
       "4047       -32.412962        115.779737                4\n",
       "4048       -32.147959        115.856628                4\n",
       "4049       -31.827000        116.238000                4\n",
       "4050       -31.582511        116.073031                4\n",
       "\n",
       "[4051 rows x 3 columns]"
      ]
     },
     "execution_count": 9,
     "metadata": {},
     "output_type": "execute_result"
    }
   ],
   "source": [
    "data_dbscan"
   ]
  },
  {
   "cell_type": "code",
   "execution_count": 10,
   "id": "84ed068c",
   "metadata": {},
   "outputs": [
    {
     "data": {
      "text/plain": [
       "<matplotlib.collections.PathCollection at 0x1d9a2b85588>"
      ]
     },
     "execution_count": 10,
     "metadata": {},
     "output_type": "execute_result"
    },
    {
     "data": {
      "image/png": "[encoded data removed]",
      "text/plain": [
       "<Figure size 1440x1440 with 1 Axes>"
      ]
     },
     "metadata": {
      "needs_background": "light"
     },
     "output_type": "display_data"
    }
   ],
   "source": [
    "fig, ax = plt.subplots(1, 1, figsize=(20, 20))\n",
    "plt.scatter(df1.decimalLatitude,df1.decimalLongitude)"
   ]
  },
  {
   "cell_type": "code",
   "execution_count": 11,
   "id": "a097fe9a",
   "metadata": {},
   "outputs": [
    {
     "data": {
      "text/plain": [
       "array([0, 1, 2, 3, 4], dtype=int64)"
      ]
     },
     "execution_count": 11,
     "metadata": {},
     "output_type": "execute_result"
    }
   ],
   "source": [
    "data_dbscan.clusters_dbscan.unique()"
   ]
  },
  {
   "cell_type": "code",
   "execution_count": 12,
   "id": "b92ff97d",
   "metadata": {},
   "outputs": [
    {
     "name": "stdout",
     "output_type": "stream",
     "text": [
      "The age of my car is 9\n"
     ]
    }
   ],
   "source": [
    "d = 9\n",
    "\n",
    "print(f'The age of my car is {d}')"
   ]
  },
  {
   "cell_type": "code",
   "execution_count": 13,
   "id": "21e36be4",
   "metadata": {},
   "outputs": [],
   "source": [
    "def plot_bbox_cluster(data):\n",
    "    bbox_dict = {}\n",
    "    fig, ax = plt.subplots(1, 1, figsize=(20, 20))\n",
    "    plt.scatter(data.decimalLatitude,data.decimalLongitude)\n",
    "    #{clusterno:[min_lon,min_lat,max_lon, max_lat]}\n",
    "    for x in list(data.clusters_dbscan.unique()):\n",
    "        cluster_temp = data_dbscan.loc[data_dbscan.clusters_dbscan == x].copy()\n",
    "        max_lat = cluster_temp.decimalLatitude.max()\n",
    "        min_lat = cluster_temp.decimalLatitude.min()\n",
    "        max_lon = cluster_temp.decimalLongitude.max()\n",
    "        min_lon = cluster_temp.decimalLongitude.min()\n",
    "        bbox_dict[f'{x}']=(min_lon,min_lat,max_lon, max_lat)\n",
    "        left, bottom, width, height = (min_lat-0.25, min_lon-0.25, (max_lat-min_lat)+0.5, (max_lon-min_lon)+0.5)\n",
    "        rect=mpatches.Rectangle((left,bottom),width,height, \n",
    "                        #fill=False,\n",
    "                        alpha=0.5,\n",
    "                       facecolor=\"red\")\n",
    "        plt.gca().add_patch(rect)\n",
    "        \n",
    "    plt.show()\n",
    "    return bbox_dict\n",
    "\n",
    "        \n",
    "    \n",
    "    "
   ]
  },
  {
   "cell_type": "code",
   "execution_count": 14,
   "id": "b560edb3",
   "metadata": {
    "scrolled": true
   },
   "outputs": [
    {
     "data": {
      "image/png": "[encoded data removed]",
      "text/plain": [
       "<Figure size 1440x1440 with 1 Axes>"
      ]
     },
     "metadata": {
      "needs_background": "light"
     },
     "output_type": "display_data"
    }
   ],
   "source": [
    "bbox_coordinates = plot_bbox_cluster(data_dbscan)"
   ]
  },
  {
   "cell_type": "code",
   "execution_count": 15,
   "id": "6b9d3159",
   "metadata": {
    "scrolled": true
   },
   "outputs": [
    {
     "data": {
      "text/plain": [
       "[(144.800515, -38.49989934, 145.7671922, -37.51085308),\n",
       " (150.71, -33.49989273, 151.6999572, -32.51836843),\n",
       " (152.61, -28.99, 153.6, -28.00067739),\n",
       " (145.2511412, -17.67161479, 145.911, -16.7442)]"
      ]
     },
     "execution_count": 15,
     "metadata": {},
     "output_type": "execute_result"
    }
   ],
   "source": [
    "list(bbox_coordinates.values())[:-1]"
   ]
  },
  {
   "cell_type": "code",
   "execution_count": 16,
   "id": "04159e9d",
   "metadata": {},
   "outputs": [
    {
     "name": "stdout",
     "output_type": "stream",
     "text": [
      "(144.800515, -38.49989934, 145.7671922, -37.51085308)\n",
      "(150.71, -33.49989273, 151.6999572, -32.51836843)\n",
      "(152.61, -28.99, 153.6, -28.00067739)\n",
      "(145.2511412, -17.67161479, 145.911, -16.7442)\n",
      "(115.7160036, -32.41296172, 116.3773691, -31.5516)\n"
     ]
    }
   ],
   "source": [
    "for x in bbox_coordinates:\n",
    "    print(bbox_coordinates[x])"
   ]
  },
  {
   "cell_type": "code",
   "execution_count": 17,
   "id": "1647611e",
   "metadata": {},
   "outputs": [
    {
     "data": {
      "text/plain": [
       "{'0': (144.800515, -38.49989934, 145.7671922, -37.51085308),\n",
       " '1': (150.71, -33.49989273, 151.6999572, -32.51836843),\n",
       " '2': (152.61, -28.99, 153.6, -28.00067739),\n",
       " '3': (145.2511412, -17.67161479, 145.911, -16.7442)}"
      ]
     },
     "execution_count": 17,
     "metadata": {},
     "output_type": "execute_result"
    }
   ],
   "source": [
    "bbox_coordinates.pop('4')\n",
    "bbox_coordinates"
   ]
  },
  {
   "cell_type": "code",
   "execution_count": 18,
   "id": "0ac9b702",
   "metadata": {},
   "outputs": [],
   "source": [
    "def filter_bbox(frogs, bbox_clusters):\n",
    "    frogs_fnl = pd.DataFrame()\n",
    "    for y in bbox_clusters:\n",
    "        frogs_temp = frogs[lambda x: \n",
    "            (x.decimalLongitude >= bbox_clusters[y][0]) &\n",
    "            (x.decimalLatitude >= bbox_clusters[y][1]) &\n",
    "            (x.decimalLongitude <= bbox_clusters[y][2]) &\n",
    "            (x.decimalLatitude <= bbox_clusters[y][3])    ]\n",
    "        frogs_temp.cluster = y\n",
    "        frogs_fnl = pd.concat([frogs_fnl,frogs_temp])\n",
    "    return frogs_fnl\n",
    "\n",
    "def get_frogs(file, year_range=None, bbox_clusters=None):\n",
    "    \"\"\"Returns the dataframe of all frog occurrences for the bounding box specified.\"\"\"\n",
    "    columns = [\n",
    "        'gbifID','eventDate','country','continent','stateProvince',\n",
    "        'decimalLatitude','decimalLongitude','species'\n",
    "    ]\n",
    "    country_names = {\n",
    "        'AU':'Australia', 'CR':'Costa Rica', 'ZA':'South Africa','MX':'Mexico','HN':'Honduras',\n",
    "        'MZ':'Mozambique','BW':'Botswana','MW':'Malawi','CO':'Colombia','PA':'Panama','NI':'Nicaragua',\n",
    "        'BZ':'Belize','ZW':'Zimbabwe','SZ':'Eswatini','ZM':'Zambia','GT':'Guatemala','LS':'Lesotho',\n",
    "        'SV':'El Salvador', 'AO':'Angola', np.nan:'unknown or invalid'\n",
    "    }\n",
    "    continent_names = {\n",
    "        'AU':'Australia', 'CR':'Central America', 'ZA':'Africa','MX':'Central America','HN':'Central America',\n",
    "        'MZ':'Africa','BW':'Africa','MW':'Africa','CO':'Central America','PA':'Central America',\n",
    "        'NI':'Central America','BZ':'Central America','ZW':'Africa','SZ':'Africa','ZM':'Africa',\n",
    "        'GT':'Central America','LS':'Africa','SV':'Central America','AO':'Africa', np.nan:'unknown or invalid' \n",
    "    }\n",
    "    frogs = (\n",
    "        pd.read_csv('occurrence.txt', sep='\\t', parse_dates=['eventDate'])\n",
    "        .assign(\n",
    "            country =  lambda x: x.countryCode.map(country_names),\n",
    "            continent =  lambda x: x.countryCode.map(continent_names),\n",
    "            species = lambda x: x.species.str.title()\n",
    "        )\n",
    "        [columns]\n",
    "    )\n",
    "    \n",
    "    frogs['cluster'] = np.nan\n",
    "    \n",
    "    if year_range is not None:\n",
    "        frogs = frogs[lambda x: \n",
    "            (x.eventDate.dt.year >= year_range[0]) & \n",
    "            (x.eventDate.dt.year <= year_range[1])\n",
    "        ]\n",
    "    if bbox_clusters is not None:\n",
    "        frogs = filter_bbox(frogs, bbox_clusters)\n",
    "    return frogs"
   ]
  },
  {
   "cell_type": "code",
   "execution_count": 19,
   "id": "a27f0501",
   "metadata": {
    "scrolled": true
   },
   "outputs": [
    {
     "name": "stderr",
     "output_type": "stream",
     "text": [
      "C:\\Users\\LR996GB\\Anaconda3\\envs\\frogs\\lib\\site-packages\\ipykernel_launcher.py:2: DtypeWarning: Columns (2,9,35,39,42,46,47,48,54,56,57,58,59,60,62,64,65,66,68,69,70,71,74,75,76,77,78,79,82,84,85,86,87,88,89,90,92,96,97,99,101,103,109,110,111,114,115,116,117,118,119,120,121,122,123,126,127,128,129,130,135,136,142,143,145,147,148,149,150,151,161,165,170,172,173,174,175,176,177,178,179,180,181,185,189,190,191,192,193,195,207,210,212,215,217,225,226,242,246,254,255) have mixed types.Specify dtype option on import or set low_memory=False.\n",
      "  \n",
      "C:\\Users\\LR996GB\\Anaconda3\\envs\\frogs\\lib\\site-packages\\pandas\\core\\generic.py:5516: SettingWithCopyWarning: \n",
      "A value is trying to be set on a copy of a slice from a DataFrame.\n",
      "Try using .loc[row_indexer,col_indexer] = value instead\n",
      "\n",
      "See the caveats in the documentation: https://pandas.pydata.org/pandas-docs/stable/user_guide/indexing.html#returning-a-view-versus-a-copy\n",
      "  self[name] = value\n"
     ]
    },
    {
     "data": {
      "text/html": [
       "<div>\n",
       "<style scoped>\n",
       "    .dataframe tbody tr th:only-of-type {\n",
       "        vertical-align: middle;\n",
       "    }\n",
       "\n",
       "    .dataframe tbody tr th {\n",
       "        vertical-align: top;\n",
       "    }\n",
       "\n",
       "    .dataframe thead th {\n",
       "        text-align: right;\n",
       "    }\n",
       "</style>\n",
       "<table border=\"1\" class=\"dataframe\">\n",
       "  <thead>\n",
       "    <tr style=\"text-align: right;\">\n",
       "      <th></th>\n",
       "      <th>gbifID</th>\n",
       "      <th>eventDate</th>\n",
       "      <th>country</th>\n",
       "      <th>continent</th>\n",
       "      <th>stateProvince</th>\n",
       "      <th>decimalLatitude</th>\n",
       "      <th>decimalLongitude</th>\n",
       "      <th>species</th>\n",
       "      <th>cluster</th>\n",
       "    </tr>\n",
       "  </thead>\n",
       "  <tbody>\n",
       "    <tr>\n",
       "      <th>2780</th>\n",
       "      <td>1633803922</td>\n",
       "      <td>2017-08-05 20:51:00</td>\n",
       "      <td>Australia</td>\n",
       "      <td>Australia</td>\n",
       "      <td>Victoria</td>\n",
       "      <td>-38.045122</td>\n",
       "      <td>145.326047</td>\n",
       "      <td>Crinia Signifera</td>\n",
       "      <td>0</td>\n",
       "    </tr>\n",
       "    <tr>\n",
       "      <th>3279</th>\n",
       "      <td>3384896595</td>\n",
       "      <td>2021-10-07 07:58:39</td>\n",
       "      <td>Australia</td>\n",
       "      <td>Australia</td>\n",
       "      <td>Victoria</td>\n",
       "      <td>-38.030947</td>\n",
       "      <td>145.432053</td>\n",
       "      <td>Crinia Signifera</td>\n",
       "      <td>0</td>\n",
       "    </tr>\n",
       "    <tr>\n",
       "      <th>4737</th>\n",
       "      <td>3463456338</td>\n",
       "      <td>2018-11-09 00:00:00</td>\n",
       "      <td>Australia</td>\n",
       "      <td>Australia</td>\n",
       "      <td>Victoria</td>\n",
       "      <td>-38.088716</td>\n",
       "      <td>145.722909</td>\n",
       "      <td>Crinia Signifera</td>\n",
       "      <td>0</td>\n",
       "    </tr>\n",
       "    <tr>\n",
       "      <th>4780</th>\n",
       "      <td>3463456499</td>\n",
       "      <td>2019-07-30 00:00:00</td>\n",
       "      <td>Australia</td>\n",
       "      <td>Australia</td>\n",
       "      <td>Victoria</td>\n",
       "      <td>-37.807553</td>\n",
       "      <td>145.263607</td>\n",
       "      <td>Crinia Signifera</td>\n",
       "      <td>0</td>\n",
       "    </tr>\n",
       "    <tr>\n",
       "      <th>4787</th>\n",
       "      <td>3463456516</td>\n",
       "      <td>2020-08-23 00:00:00</td>\n",
       "      <td>Australia</td>\n",
       "      <td>Australia</td>\n",
       "      <td>Victoria</td>\n",
       "      <td>-37.991842</td>\n",
       "      <td>145.118825</td>\n",
       "      <td>Crinia Signifera</td>\n",
       "      <td>0</td>\n",
       "    </tr>\n",
       "    <tr>\n",
       "      <th>...</th>\n",
       "      <td>...</td>\n",
       "      <td>...</td>\n",
       "      <td>...</td>\n",
       "      <td>...</td>\n",
       "      <td>...</td>\n",
       "      <td>...</td>\n",
       "      <td>...</td>\n",
       "      <td>...</td>\n",
       "      <td>...</td>\n",
       "    </tr>\n",
       "    <tr>\n",
       "      <th>173950</th>\n",
       "      <td>1654535586</td>\n",
       "      <td>2012-01-16 00:00:00</td>\n",
       "      <td>Australia</td>\n",
       "      <td>Australia</td>\n",
       "      <td>Queensland</td>\n",
       "      <td>-16.805517</td>\n",
       "      <td>145.636068</td>\n",
       "      <td>Litoria Fallax</td>\n",
       "      <td>3</td>\n",
       "    </tr>\n",
       "    <tr>\n",
       "      <th>173951</th>\n",
       "      <td>1666889485</td>\n",
       "      <td>2014-12-04 00:00:00</td>\n",
       "      <td>Australia</td>\n",
       "      <td>Australia</td>\n",
       "      <td>Queensland</td>\n",
       "      <td>-16.805517</td>\n",
       "      <td>145.636068</td>\n",
       "      <td>Austrochaperina Pluvialis</td>\n",
       "      <td>3</td>\n",
       "    </tr>\n",
       "    <tr>\n",
       "      <th>173963</th>\n",
       "      <td>1666888606</td>\n",
       "      <td>2014-01-29 00:00:00</td>\n",
       "      <td>Australia</td>\n",
       "      <td>Australia</td>\n",
       "      <td>Queensland</td>\n",
       "      <td>-16.805517</td>\n",
       "      <td>145.636068</td>\n",
       "      <td>Austrochaperina Pluvialis</td>\n",
       "      <td>3</td>\n",
       "    </tr>\n",
       "    <tr>\n",
       "      <th>173999</th>\n",
       "      <td>1654535701</td>\n",
       "      <td>2010-09-28 00:00:00</td>\n",
       "      <td>Australia</td>\n",
       "      <td>Australia</td>\n",
       "      <td>Queensland</td>\n",
       "      <td>-16.805517</td>\n",
       "      <td>145.636068</td>\n",
       "      <td>Austrochaperina Pluvialis</td>\n",
       "      <td>3</td>\n",
       "    </tr>\n",
       "    <tr>\n",
       "      <th>175614</th>\n",
       "      <td>2574204769</td>\n",
       "      <td>2017-06-23 15:52:00</td>\n",
       "      <td>Australia</td>\n",
       "      <td>Australia</td>\n",
       "      <td>Queensland</td>\n",
       "      <td>-16.897853</td>\n",
       "      <td>145.709755</td>\n",
       "      <td>Litoria Fallax</td>\n",
       "      <td>3</td>\n",
       "    </tr>\n",
       "  </tbody>\n",
       "</table>\n",
       "<p>23209 rows × 9 columns</p>\n",
       "</div>"
      ],
      "text/plain": [
       "            gbifID           eventDate    country  continent stateProvince  \\\n",
       "2780    1633803922 2017-08-05 20:51:00  Australia  Australia      Victoria   \n",
       "3279    3384896595 2021-10-07 07:58:39  Australia  Australia      Victoria   \n",
       "4737    3463456338 2018-11-09 00:00:00  Australia  Australia      Victoria   \n",
       "4780    3463456499 2019-07-30 00:00:00  Australia  Australia      Victoria   \n",
       "4787    3463456516 2020-08-23 00:00:00  Australia  Australia      Victoria   \n",
       "...            ...                 ...        ...        ...           ...   \n",
       "173950  1654535586 2012-01-16 00:00:00  Australia  Australia    Queensland   \n",
       "173951  1666889485 2014-12-04 00:00:00  Australia  Australia    Queensland   \n",
       "173963  1666888606 2014-01-29 00:00:00  Australia  Australia    Queensland   \n",
       "173999  1654535701 2010-09-28 00:00:00  Australia  Australia    Queensland   \n",
       "175614  2574204769 2017-06-23 15:52:00  Australia  Australia    Queensland   \n",
       "\n",
       "        decimalLatitude  decimalLongitude                    species cluster  \n",
       "2780         -38.045122        145.326047           Crinia Signifera       0  \n",
       "3279         -38.030947        145.432053           Crinia Signifera       0  \n",
       "4737         -38.088716        145.722909           Crinia Signifera       0  \n",
       "4780         -37.807553        145.263607           Crinia Signifera       0  \n",
       "4787         -37.991842        145.118825           Crinia Signifera       0  \n",
       "...                 ...               ...                        ...     ...  \n",
       "173950       -16.805517        145.636068             Litoria Fallax       3  \n",
       "173951       -16.805517        145.636068  Austrochaperina Pluvialis       3  \n",
       "173963       -16.805517        145.636068  Austrochaperina Pluvialis       3  \n",
       "173999       -16.805517        145.636068  Austrochaperina Pluvialis       3  \n",
       "175614       -16.897853        145.709755             Litoria Fallax       3  \n",
       "\n",
       "[23209 rows x 9 columns]"
      ]
     },
     "execution_count": 19,
     "metadata": {},
     "output_type": "execute_result"
    }
   ],
   "source": [
    "# Load in data\n",
    "all_frog_data = get_frogs('occurrence.txt', year_range=(2010, 2022), bbox_clusters=bbox_coordinates)\n",
    "all_frog_data"
   ]
  },
  {
   "cell_type": "code",
   "execution_count": 20,
   "id": "914af894",
   "metadata": {},
   "outputs": [
    {
     "data": {
      "text/plain": [
       "1    13818\n",
       "0     5716\n",
       "2     2463\n",
       "3     1212\n",
       "Name: cluster, dtype: int64"
      ]
     },
     "execution_count": 20,
     "metadata": {},
     "output_type": "execute_result"
    }
   ],
   "source": [
    "all_frog_data.cluster.value_counts()"
   ]
  },
  {
   "cell_type": "code",
   "execution_count": 21,
   "id": "d2941b43",
   "metadata": {},
   "outputs": [
    {
     "name": "stdout",
     "output_type": "stream",
     "text": [
      "<class 'pandas.core.frame.DataFrame'>\n",
      "Int64Index: 23209 entries, 2780 to 175614\n",
      "Data columns (total 9 columns):\n",
      " #   Column            Non-Null Count  Dtype         \n",
      "---  ------            --------------  -----         \n",
      " 0   gbifID            23209 non-null  int64         \n",
      " 1   eventDate         23209 non-null  datetime64[ns]\n",
      " 2   country           23209 non-null  object        \n",
      " 3   continent         23209 non-null  object        \n",
      " 4   stateProvince     23209 non-null  object        \n",
      " 5   decimalLatitude   23209 non-null  float64       \n",
      " 6   decimalLongitude  23209 non-null  float64       \n",
      " 7   species           23209 non-null  object        \n",
      " 8   cluster           23209 non-null  object        \n",
      "dtypes: datetime64[ns](1), float64(2), int64(1), object(5)\n",
      "memory usage: 1.8+ MB\n"
     ]
    }
   ],
   "source": [
    "all_frog_data.info()"
   ]
  },
  {
   "cell_type": "code",
   "execution_count": 22,
   "id": "edf5a78b",
   "metadata": {
    "scrolled": false
   },
   "outputs": [
    {
     "data": {
      "text/plain": [
       "Crinia Signifera             12850\n",
       "Litoria Fallax               10179\n",
       "Austrochaperina Pluvialis      180\n",
       "Name: species, dtype: int64"
      ]
     },
     "execution_count": 22,
     "metadata": {},
     "output_type": "execute_result"
    }
   ],
   "source": [
    "all_frog_data.species.value_counts() #Class imbalance exits"
   ]
  },
  {
   "cell_type": "code",
   "execution_count": 23,
   "id": "984623a2",
   "metadata": {
    "scrolled": false
   },
   "outputs": [
    {
     "data": {
      "text/html": [
       "<div>\n",
       "<style scoped>\n",
       "    .dataframe tbody tr th:only-of-type {\n",
       "        vertical-align: middle;\n",
       "    }\n",
       "\n",
       "    .dataframe tbody tr th {\n",
       "        vertical-align: top;\n",
       "    }\n",
       "\n",
       "    .dataframe thead th {\n",
       "        text-align: right;\n",
       "    }\n",
       "</style>\n",
       "<table border=\"1\" class=\"dataframe\">\n",
       "  <thead>\n",
       "    <tr style=\"text-align: right;\">\n",
       "      <th></th>\n",
       "      <th>gbifID</th>\n",
       "      <th>eventDate</th>\n",
       "      <th>country</th>\n",
       "      <th>continent</th>\n",
       "      <th>stateProvince</th>\n",
       "      <th>decimalLatitude</th>\n",
       "      <th>decimalLongitude</th>\n",
       "      <th>species</th>\n",
       "      <th>cluster</th>\n",
       "      <th>occurrenceStatus</th>\n",
       "      <th>key</th>\n",
       "    </tr>\n",
       "  </thead>\n",
       "  <tbody>\n",
       "    <tr>\n",
       "      <th>0</th>\n",
       "      <td>1633803922</td>\n",
       "      <td>2017-08-05 20:51:00</td>\n",
       "      <td>Australia</td>\n",
       "      <td>Australia</td>\n",
       "      <td>Victoria</td>\n",
       "      <td>-38.045122</td>\n",
       "      <td>145.326047</td>\n",
       "      <td>Crinia Signifera</td>\n",
       "      <td>0</td>\n",
       "      <td>0</td>\n",
       "      <td>0</td>\n",
       "    </tr>\n",
       "    <tr>\n",
       "      <th>1</th>\n",
       "      <td>3384896595</td>\n",
       "      <td>2021-10-07 07:58:39</td>\n",
       "      <td>Australia</td>\n",
       "      <td>Australia</td>\n",
       "      <td>Victoria</td>\n",
       "      <td>-38.030947</td>\n",
       "      <td>145.432053</td>\n",
       "      <td>Crinia Signifera</td>\n",
       "      <td>0</td>\n",
       "      <td>0</td>\n",
       "      <td>1</td>\n",
       "    </tr>\n",
       "    <tr>\n",
       "      <th>2</th>\n",
       "      <td>3463456338</td>\n",
       "      <td>2018-11-09 00:00:00</td>\n",
       "      <td>Australia</td>\n",
       "      <td>Australia</td>\n",
       "      <td>Victoria</td>\n",
       "      <td>-38.088716</td>\n",
       "      <td>145.722909</td>\n",
       "      <td>Crinia Signifera</td>\n",
       "      <td>0</td>\n",
       "      <td>0</td>\n",
       "      <td>2</td>\n",
       "    </tr>\n",
       "    <tr>\n",
       "      <th>3</th>\n",
       "      <td>3463456499</td>\n",
       "      <td>2019-07-30 00:00:00</td>\n",
       "      <td>Australia</td>\n",
       "      <td>Australia</td>\n",
       "      <td>Victoria</td>\n",
       "      <td>-37.807553</td>\n",
       "      <td>145.263607</td>\n",
       "      <td>Crinia Signifera</td>\n",
       "      <td>0</td>\n",
       "      <td>0</td>\n",
       "      <td>3</td>\n",
       "    </tr>\n",
       "    <tr>\n",
       "      <th>4</th>\n",
       "      <td>3463456516</td>\n",
       "      <td>2020-08-23 00:00:00</td>\n",
       "      <td>Australia</td>\n",
       "      <td>Australia</td>\n",
       "      <td>Victoria</td>\n",
       "      <td>-37.991842</td>\n",
       "      <td>145.118825</td>\n",
       "      <td>Crinia Signifera</td>\n",
       "      <td>0</td>\n",
       "      <td>0</td>\n",
       "      <td>4</td>\n",
       "    </tr>\n",
       "    <tr>\n",
       "      <th>...</th>\n",
       "      <td>...</td>\n",
       "      <td>...</td>\n",
       "      <td>...</td>\n",
       "      <td>...</td>\n",
       "      <td>...</td>\n",
       "      <td>...</td>\n",
       "      <td>...</td>\n",
       "      <td>...</td>\n",
       "      <td>...</td>\n",
       "      <td>...</td>\n",
       "      <td>...</td>\n",
       "    </tr>\n",
       "    <tr>\n",
       "      <th>23204</th>\n",
       "      <td>1654535586</td>\n",
       "      <td>2012-01-16 00:00:00</td>\n",
       "      <td>Australia</td>\n",
       "      <td>Australia</td>\n",
       "      <td>Queensland</td>\n",
       "      <td>-16.805517</td>\n",
       "      <td>145.636068</td>\n",
       "      <td>Litoria Fallax</td>\n",
       "      <td>3</td>\n",
       "      <td>1</td>\n",
       "      <td>23204</td>\n",
       "    </tr>\n",
       "    <tr>\n",
       "      <th>23205</th>\n",
       "      <td>1666889485</td>\n",
       "      <td>2014-12-04 00:00:00</td>\n",
       "      <td>Australia</td>\n",
       "      <td>Australia</td>\n",
       "      <td>Queensland</td>\n",
       "      <td>-16.805517</td>\n",
       "      <td>145.636068</td>\n",
       "      <td>Austrochaperina Pluvialis</td>\n",
       "      <td>3</td>\n",
       "      <td>0</td>\n",
       "      <td>23205</td>\n",
       "    </tr>\n",
       "    <tr>\n",
       "      <th>23206</th>\n",
       "      <td>1666888606</td>\n",
       "      <td>2014-01-29 00:00:00</td>\n",
       "      <td>Australia</td>\n",
       "      <td>Australia</td>\n",
       "      <td>Queensland</td>\n",
       "      <td>-16.805517</td>\n",
       "      <td>145.636068</td>\n",
       "      <td>Austrochaperina Pluvialis</td>\n",
       "      <td>3</td>\n",
       "      <td>0</td>\n",
       "      <td>23206</td>\n",
       "    </tr>\n",
       "    <tr>\n",
       "      <th>23207</th>\n",
       "      <td>1654535701</td>\n",
       "      <td>2010-09-28 00:00:00</td>\n",
       "      <td>Australia</td>\n",
       "      <td>Australia</td>\n",
       "      <td>Queensland</td>\n",
       "      <td>-16.805517</td>\n",
       "      <td>145.636068</td>\n",
       "      <td>Austrochaperina Pluvialis</td>\n",
       "      <td>3</td>\n",
       "      <td>0</td>\n",
       "      <td>23207</td>\n",
       "    </tr>\n",
       "    <tr>\n",
       "      <th>23208</th>\n",
       "      <td>2574204769</td>\n",
       "      <td>2017-06-23 15:52:00</td>\n",
       "      <td>Australia</td>\n",
       "      <td>Australia</td>\n",
       "      <td>Queensland</td>\n",
       "      <td>-16.897853</td>\n",
       "      <td>145.709755</td>\n",
       "      <td>Litoria Fallax</td>\n",
       "      <td>3</td>\n",
       "      <td>1</td>\n",
       "      <td>23208</td>\n",
       "    </tr>\n",
       "  </tbody>\n",
       "</table>\n",
       "<p>23209 rows × 11 columns</p>\n",
       "</div>"
      ],
      "text/plain": [
       "           gbifID           eventDate    country  continent stateProvince  \\\n",
       "0      1633803922 2017-08-05 20:51:00  Australia  Australia      Victoria   \n",
       "1      3384896595 2021-10-07 07:58:39  Australia  Australia      Victoria   \n",
       "2      3463456338 2018-11-09 00:00:00  Australia  Australia      Victoria   \n",
       "3      3463456499 2019-07-30 00:00:00  Australia  Australia      Victoria   \n",
       "4      3463456516 2020-08-23 00:00:00  Australia  Australia      Victoria   \n",
       "...           ...                 ...        ...        ...           ...   \n",
       "23204  1654535586 2012-01-16 00:00:00  Australia  Australia    Queensland   \n",
       "23205  1666889485 2014-12-04 00:00:00  Australia  Australia    Queensland   \n",
       "23206  1666888606 2014-01-29 00:00:00  Australia  Australia    Queensland   \n",
       "23207  1654535701 2010-09-28 00:00:00  Australia  Australia    Queensland   \n",
       "23208  2574204769 2017-06-23 15:52:00  Australia  Australia    Queensland   \n",
       "\n",
       "       decimalLatitude  decimalLongitude                    species cluster  \\\n",
       "0           -38.045122        145.326047           Crinia Signifera       0   \n",
       "1           -38.030947        145.432053           Crinia Signifera       0   \n",
       "2           -38.088716        145.722909           Crinia Signifera       0   \n",
       "3           -37.807553        145.263607           Crinia Signifera       0   \n",
       "4           -37.991842        145.118825           Crinia Signifera       0   \n",
       "...                ...               ...                        ...     ...   \n",
       "23204       -16.805517        145.636068             Litoria Fallax       3   \n",
       "23205       -16.805517        145.636068  Austrochaperina Pluvialis       3   \n",
       "23206       -16.805517        145.636068  Austrochaperina Pluvialis       3   \n",
       "23207       -16.805517        145.636068  Austrochaperina Pluvialis       3   \n",
       "23208       -16.897853        145.709755             Litoria Fallax       3   \n",
       "\n",
       "       occurrenceStatus    key  \n",
       "0                     0      0  \n",
       "1                     0      1  \n",
       "2                     0      2  \n",
       "3                     0      3  \n",
       "4                     0      4  \n",
       "...                 ...    ...  \n",
       "23204                 1  23204  \n",
       "23205                 0  23205  \n",
       "23206                 0  23206  \n",
       "23207                 0  23207  \n",
       "23208                 1  23208  \n",
       "\n",
       "[23209 rows x 11 columns]"
      ]
     },
     "execution_count": 23,
     "metadata": {},
     "output_type": "execute_result"
    }
   ],
   "source": [
    "target_species = 'Litoria Fallax'\n",
    "\n",
    "all_frog_data = (\n",
    "    all_frog_data\n",
    "    # Assign the occurrenceStatus to 1 for the target species and 0 for all other species.\n",
    "    # as well as a key for joining (later)\n",
    "    .reset_index(drop=True).assign(\n",
    "        occurrenceStatus = lambda x: np.where(x.species == target_species, 1, 0),\n",
    "        key= lambda x: x.index\n",
    "    )\n",
    ")\n",
    "all_frog_data"
   ]
  },
  {
   "cell_type": "code",
   "execution_count": 24,
   "id": "465beeb6",
   "metadata": {
    "scrolled": true
   },
   "outputs": [
    {
     "name": "stdout",
     "output_type": "stream",
     "text": [
      "<class 'pandas.core.frame.DataFrame'>\n",
      "RangeIndex: 23209 entries, 0 to 23208\n",
      "Data columns (total 11 columns):\n",
      " #   Column            Non-Null Count  Dtype         \n",
      "---  ------            --------------  -----         \n",
      " 0   gbifID            23209 non-null  int64         \n",
      " 1   eventDate         23209 non-null  datetime64[ns]\n",
      " 2   country           23209 non-null  object        \n",
      " 3   continent         23209 non-null  object        \n",
      " 4   stateProvince     23209 non-null  object        \n",
      " 5   decimalLatitude   23209 non-null  float64       \n",
      " 6   decimalLongitude  23209 non-null  float64       \n",
      " 7   species           23209 non-null  object        \n",
      " 8   cluster           23209 non-null  object        \n",
      " 9   occurrenceStatus  23209 non-null  int32         \n",
      " 10  key               23209 non-null  int64         \n",
      "dtypes: datetime64[ns](1), float64(2), int32(1), int64(2), object(5)\n",
      "memory usage: 1.9+ MB\n"
     ]
    }
   ],
   "source": [
    "all_frog_data.info()"
   ]
  },
  {
   "cell_type": "code",
   "execution_count": 25,
   "id": "d165821b",
   "metadata": {},
   "outputs": [
    {
     "data": {
      "text/plain": [
       "23209"
      ]
     },
     "execution_count": 25,
     "metadata": {},
     "output_type": "execute_result"
    }
   ],
   "source": [
    "len(all_frog_data.key.unique())"
   ]
  },
  {
   "cell_type": "code",
   "execution_count": 26,
   "id": "d0cb8cf5",
   "metadata": {
    "scrolled": true
   },
   "outputs": [
    {
     "data": {
      "text/plain": [
       "0    13030\n",
       "1    10179\n",
       "Name: occurrenceStatus, dtype: int64"
      ]
     },
     "execution_count": 26,
     "metadata": {},
     "output_type": "execute_result"
    }
   ],
   "source": [
    "all_frog_data.occurrenceStatus.value_counts()"
   ]
  },
  {
   "cell_type": "code",
   "execution_count": 27,
   "id": "9ebbcbef",
   "metadata": {},
   "outputs": [],
   "source": [
    "all_frog_data[\"Year\"] = all_frog_data.eventDate.dt.year"
   ]
  },
  {
   "cell_type": "code",
   "execution_count": 28,
   "id": "160eab3f",
   "metadata": {
    "scrolled": true
   },
   "outputs": [
    {
     "data": {
      "text/html": [
       "<div>\n",
       "<style scoped>\n",
       "    .dataframe tbody tr th:only-of-type {\n",
       "        vertical-align: middle;\n",
       "    }\n",
       "\n",
       "    .dataframe tbody tr th {\n",
       "        vertical-align: top;\n",
       "    }\n",
       "\n",
       "    .dataframe thead th {\n",
       "        text-align: right;\n",
       "    }\n",
       "</style>\n",
       "<table border=\"1\" class=\"dataframe\">\n",
       "  <thead>\n",
       "    <tr style=\"text-align: right;\">\n",
       "      <th></th>\n",
       "      <th>gbifID</th>\n",
       "      <th>eventDate</th>\n",
       "      <th>country</th>\n",
       "      <th>continent</th>\n",
       "      <th>stateProvince</th>\n",
       "      <th>decimalLatitude</th>\n",
       "      <th>decimalLongitude</th>\n",
       "      <th>species</th>\n",
       "      <th>cluster</th>\n",
       "      <th>occurrenceStatus</th>\n",
       "      <th>key</th>\n",
       "    </tr>\n",
       "    <tr>\n",
       "      <th>Year</th>\n",
       "      <th></th>\n",
       "      <th></th>\n",
       "      <th></th>\n",
       "      <th></th>\n",
       "      <th></th>\n",
       "      <th></th>\n",
       "      <th></th>\n",
       "      <th></th>\n",
       "      <th></th>\n",
       "      <th></th>\n",
       "      <th></th>\n",
       "    </tr>\n",
       "  </thead>\n",
       "  <tbody>\n",
       "    <tr>\n",
       "      <th>2010</th>\n",
       "      <td>266</td>\n",
       "      <td>266</td>\n",
       "      <td>266</td>\n",
       "      <td>266</td>\n",
       "      <td>266</td>\n",
       "      <td>266</td>\n",
       "      <td>266</td>\n",
       "      <td>266</td>\n",
       "      <td>266</td>\n",
       "      <td>266</td>\n",
       "      <td>266</td>\n",
       "    </tr>\n",
       "    <tr>\n",
       "      <th>2011</th>\n",
       "      <td>263</td>\n",
       "      <td>263</td>\n",
       "      <td>263</td>\n",
       "      <td>263</td>\n",
       "      <td>263</td>\n",
       "      <td>263</td>\n",
       "      <td>263</td>\n",
       "      <td>263</td>\n",
       "      <td>263</td>\n",
       "      <td>263</td>\n",
       "      <td>263</td>\n",
       "    </tr>\n",
       "    <tr>\n",
       "      <th>2012</th>\n",
       "      <td>221</td>\n",
       "      <td>221</td>\n",
       "      <td>221</td>\n",
       "      <td>221</td>\n",
       "      <td>221</td>\n",
       "      <td>221</td>\n",
       "      <td>221</td>\n",
       "      <td>221</td>\n",
       "      <td>221</td>\n",
       "      <td>221</td>\n",
       "      <td>221</td>\n",
       "    </tr>\n",
       "    <tr>\n",
       "      <th>2013</th>\n",
       "      <td>432</td>\n",
       "      <td>432</td>\n",
       "      <td>432</td>\n",
       "      <td>432</td>\n",
       "      <td>432</td>\n",
       "      <td>432</td>\n",
       "      <td>432</td>\n",
       "      <td>432</td>\n",
       "      <td>432</td>\n",
       "      <td>432</td>\n",
       "      <td>432</td>\n",
       "    </tr>\n",
       "    <tr>\n",
       "      <th>2014</th>\n",
       "      <td>306</td>\n",
       "      <td>306</td>\n",
       "      <td>306</td>\n",
       "      <td>306</td>\n",
       "      <td>306</td>\n",
       "      <td>306</td>\n",
       "      <td>306</td>\n",
       "      <td>306</td>\n",
       "      <td>306</td>\n",
       "      <td>306</td>\n",
       "      <td>306</td>\n",
       "    </tr>\n",
       "    <tr>\n",
       "      <th>2015</th>\n",
       "      <td>578</td>\n",
       "      <td>578</td>\n",
       "      <td>578</td>\n",
       "      <td>578</td>\n",
       "      <td>578</td>\n",
       "      <td>578</td>\n",
       "      <td>578</td>\n",
       "      <td>578</td>\n",
       "      <td>578</td>\n",
       "      <td>578</td>\n",
       "      <td>578</td>\n",
       "    </tr>\n",
       "    <tr>\n",
       "      <th>2016</th>\n",
       "      <td>283</td>\n",
       "      <td>283</td>\n",
       "      <td>283</td>\n",
       "      <td>283</td>\n",
       "      <td>283</td>\n",
       "      <td>283</td>\n",
       "      <td>283</td>\n",
       "      <td>283</td>\n",
       "      <td>283</td>\n",
       "      <td>283</td>\n",
       "      <td>283</td>\n",
       "    </tr>\n",
       "    <tr>\n",
       "      <th>2017</th>\n",
       "      <td>1338</td>\n",
       "      <td>1338</td>\n",
       "      <td>1338</td>\n",
       "      <td>1338</td>\n",
       "      <td>1338</td>\n",
       "      <td>1338</td>\n",
       "      <td>1338</td>\n",
       "      <td>1338</td>\n",
       "      <td>1338</td>\n",
       "      <td>1338</td>\n",
       "      <td>1338</td>\n",
       "    </tr>\n",
       "    <tr>\n",
       "      <th>2018</th>\n",
       "      <td>4197</td>\n",
       "      <td>4197</td>\n",
       "      <td>4197</td>\n",
       "      <td>4197</td>\n",
       "      <td>4197</td>\n",
       "      <td>4197</td>\n",
       "      <td>4197</td>\n",
       "      <td>4197</td>\n",
       "      <td>4197</td>\n",
       "      <td>4197</td>\n",
       "      <td>4197</td>\n",
       "    </tr>\n",
       "    <tr>\n",
       "      <th>2019</th>\n",
       "      <td>5917</td>\n",
       "      <td>5917</td>\n",
       "      <td>5917</td>\n",
       "      <td>5917</td>\n",
       "      <td>5917</td>\n",
       "      <td>5917</td>\n",
       "      <td>5917</td>\n",
       "      <td>5917</td>\n",
       "      <td>5917</td>\n",
       "      <td>5917</td>\n",
       "      <td>5917</td>\n",
       "    </tr>\n",
       "    <tr>\n",
       "      <th>2020</th>\n",
       "      <td>9102</td>\n",
       "      <td>9102</td>\n",
       "      <td>9102</td>\n",
       "      <td>9102</td>\n",
       "      <td>9102</td>\n",
       "      <td>9102</td>\n",
       "      <td>9102</td>\n",
       "      <td>9102</td>\n",
       "      <td>9102</td>\n",
       "      <td>9102</td>\n",
       "      <td>9102</td>\n",
       "    </tr>\n",
       "    <tr>\n",
       "      <th>2021</th>\n",
       "      <td>295</td>\n",
       "      <td>295</td>\n",
       "      <td>295</td>\n",
       "      <td>295</td>\n",
       "      <td>295</td>\n",
       "      <td>295</td>\n",
       "      <td>295</td>\n",
       "      <td>295</td>\n",
       "      <td>295</td>\n",
       "      <td>295</td>\n",
       "      <td>295</td>\n",
       "    </tr>\n",
       "    <tr>\n",
       "      <th>2022</th>\n",
       "      <td>11</td>\n",
       "      <td>11</td>\n",
       "      <td>11</td>\n",
       "      <td>11</td>\n",
       "      <td>11</td>\n",
       "      <td>11</td>\n",
       "      <td>11</td>\n",
       "      <td>11</td>\n",
       "      <td>11</td>\n",
       "      <td>11</td>\n",
       "      <td>11</td>\n",
       "    </tr>\n",
       "  </tbody>\n",
       "</table>\n",
       "</div>"
      ],
      "text/plain": [
       "      gbifID  eventDate  country  continent  stateProvince  decimalLatitude  \\\n",
       "Year                                                                          \n",
       "2010     266        266      266        266            266              266   \n",
       "2011     263        263      263        263            263              263   \n",
       "2012     221        221      221        221            221              221   \n",
       "2013     432        432      432        432            432              432   \n",
       "2014     306        306      306        306            306              306   \n",
       "2015     578        578      578        578            578              578   \n",
       "2016     283        283      283        283            283              283   \n",
       "2017    1338       1338     1338       1338           1338             1338   \n",
       "2018    4197       4197     4197       4197           4197             4197   \n",
       "2019    5917       5917     5917       5917           5917             5917   \n",
       "2020    9102       9102     9102       9102           9102             9102   \n",
       "2021     295        295      295        295            295              295   \n",
       "2022      11         11       11         11             11               11   \n",
       "\n",
       "      decimalLongitude  species  cluster  occurrenceStatus   key  \n",
       "Year                                                              \n",
       "2010               266      266      266               266   266  \n",
       "2011               263      263      263               263   263  \n",
       "2012               221      221      221               221   221  \n",
       "2013               432      432      432               432   432  \n",
       "2014               306      306      306               306   306  \n",
       "2015               578      578      578               578   578  \n",
       "2016               283      283      283               283   283  \n",
       "2017              1338     1338     1338              1338  1338  \n",
       "2018              4197     4197     4197              4197  4197  \n",
       "2019              5917     5917     5917              5917  5917  \n",
       "2020              9102     9102     9102              9102  9102  \n",
       "2021               295      295      295               295   295  \n",
       "2022                11       11       11                11    11  "
      ]
     },
     "execution_count": 28,
     "metadata": {},
     "output_type": "execute_result"
    }
   ],
   "source": [
    "all_frog_data.groupby('Year').count()"
   ]
  },
  {
   "cell_type": "code",
   "execution_count": 29,
   "id": "8998e698",
   "metadata": {},
   "outputs": [],
   "source": [
    "frog_trend = all_frog_data.groupby('Year').count()['occurrenceStatus'].copy()"
   ]
  },
  {
   "cell_type": "code",
   "execution_count": 30,
   "id": "04f1d004",
   "metadata": {},
   "outputs": [
    {
     "data": {
      "text/plain": [
       "[<matplotlib.lines.Line2D at 0x1d9b14edd48>]"
      ]
     },
     "execution_count": 30,
     "metadata": {},
     "output_type": "execute_result"
    },
    {
     "data": {
      "image/png": "[encoded data removed]",
      "text/plain": [
       "<Figure size 1440x720 with 1 Axes>"
      ]
     },
     "metadata": {
      "needs_background": "light"
     },
     "output_type": "display_data"
    }
   ],
   "source": [
    "fig, ax = plt.subplots(1, 1, figsize=(20, 10))\n",
    "plt.plot(frog_trend)"
   ]
  },
  {
   "cell_type": "code",
   "execution_count": 31,
   "id": "c8416365",
   "metadata": {},
   "outputs": [
    {
     "data": {
      "text/plain": [
       "Text(0.5, 1.0, 'Training set for Aus')"
      ]
     },
     "execution_count": 31,
     "metadata": {},
     "output_type": "execute_result"
    },
    {
     "data": {
      "image/png": "[encoded data removed]",
      "text/plain": [
       "<Figure size 1440x1440 with 1 Axes>"
      ]
     },
     "metadata": {
      "needs_background": "light"
     },
     "output_type": "display_data"
    }
   ],
   "source": [
    "fig, ax = plt.subplots(figsize = (20, 20))\n",
    "\n",
    "filt = all_frog_data.occurrenceStatus == 1\n",
    "ax.scatter(all_frog_data[~filt].decimalLongitude, all_frog_data[~filt].decimalLatitude,\n",
    "           color = 'red', marker='.', alpha=0.5, label=f\"Not {target_species}\")\n",
    "ax.scatter(all_frog_data[filt].decimalLongitude, all_frog_data[filt].decimalLatitude,\n",
    "           color = 'green', marker='.', alpha=0.5, label=target_species)\n",
    "ax.legend()\n",
    "cx.add_basemap(ax, crs={'init':'epsg:4326'}, alpha=0.5)\n",
    "ax.set_title(f\"Training set for Aus\")"
   ]
  },
  {
   "cell_type": "code",
   "execution_count": 32,
   "id": "5801eff0",
   "metadata": {
    "scrolled": true
   },
   "outputs": [
    {
     "name": "stdout",
     "output_type": "stream",
     "text": [
      "(144.800515, -38.49989934, 145.7671922, -37.51085308)\n",
      "(150.71, -33.49989273, 151.6999572, -32.51836843)\n",
      "(152.61, -28.99, 153.6, -28.00067739)\n",
      "(145.2511412, -17.67161479, 145.911, -16.7442)\n"
     ]
    }
   ],
   "source": [
    "for x in bbox_coordinates.values():\n",
    "    print(x)"
   ]
  },
  {
   "cell_type": "code",
   "execution_count": 33,
   "id": "25962e35",
   "metadata": {},
   "outputs": [
    {
     "data": {
      "text/plain": [
       "Index(['gbifID', 'eventDate', 'country', 'continent', 'stateProvince',\n",
       "       'decimalLatitude', 'decimalLongitude', 'species', 'cluster',\n",
       "       'occurrenceStatus', 'key', 'Year'],\n",
       "      dtype='object')"
      ]
     },
     "execution_count": 33,
     "metadata": {},
     "output_type": "execute_result"
    }
   ],
   "source": [
    "all_frog_data.columns\n"
   ]
  },
  {
   "cell_type": "code",
   "execution_count": 34,
   "id": "853ca55a",
   "metadata": {
    "scrolled": true
   },
   "outputs": [
    {
     "data": {
      "text/plain": [
       "'10,179'"
      ]
     },
     "execution_count": 34,
     "metadata": {},
     "output_type": "execute_result"
    }
   ],
   "source": [
    "all_frog_data.groupby(['cluster','occurrenceStatus']).count()['key']\n",
    "\n",
    "'13,030'\n",
    "'10,179'"
   ]
  },
  {
   "cell_type": "code",
   "execution_count": 35,
   "id": "5a24c4a8",
   "metadata": {},
   "outputs": [
    {
     "data": {
      "text/html": [
       "<div>\n",
       "<style scoped>\n",
       "    .dataframe tbody tr th:only-of-type {\n",
       "        vertical-align: middle;\n",
       "    }\n",
       "\n",
       "    .dataframe tbody tr th {\n",
       "        vertical-align: top;\n",
       "    }\n",
       "\n",
       "    .dataframe thead th {\n",
       "        text-align: right;\n",
       "    }\n",
       "</style>\n",
       "<table border=\"1\" class=\"dataframe\">\n",
       "  <thead>\n",
       "    <tr style=\"text-align: right;\">\n",
       "      <th></th>\n",
       "      <th>decimalLatitude</th>\n",
       "      <th>decimalLongitude</th>\n",
       "      <th>cluster</th>\n",
       "    </tr>\n",
       "  </thead>\n",
       "  <tbody>\n",
       "    <tr>\n",
       "      <th>0</th>\n",
       "      <td>-38.045122</td>\n",
       "      <td>145.326047</td>\n",
       "      <td>0</td>\n",
       "    </tr>\n",
       "    <tr>\n",
       "      <th>1</th>\n",
       "      <td>-38.030947</td>\n",
       "      <td>145.432053</td>\n",
       "      <td>0</td>\n",
       "    </tr>\n",
       "    <tr>\n",
       "      <th>2</th>\n",
       "      <td>-38.088716</td>\n",
       "      <td>145.722909</td>\n",
       "      <td>0</td>\n",
       "    </tr>\n",
       "    <tr>\n",
       "      <th>3</th>\n",
       "      <td>-37.807553</td>\n",
       "      <td>145.263607</td>\n",
       "      <td>0</td>\n",
       "    </tr>\n",
       "    <tr>\n",
       "      <th>4</th>\n",
       "      <td>-37.991842</td>\n",
       "      <td>145.118825</td>\n",
       "      <td>0</td>\n",
       "    </tr>\n",
       "    <tr>\n",
       "      <th>...</th>\n",
       "      <td>...</td>\n",
       "      <td>...</td>\n",
       "      <td>...</td>\n",
       "    </tr>\n",
       "    <tr>\n",
       "      <th>23204</th>\n",
       "      <td>-16.805517</td>\n",
       "      <td>145.636068</td>\n",
       "      <td>3</td>\n",
       "    </tr>\n",
       "    <tr>\n",
       "      <th>23205</th>\n",
       "      <td>-16.805517</td>\n",
       "      <td>145.636068</td>\n",
       "      <td>3</td>\n",
       "    </tr>\n",
       "    <tr>\n",
       "      <th>23206</th>\n",
       "      <td>-16.805517</td>\n",
       "      <td>145.636068</td>\n",
       "      <td>3</td>\n",
       "    </tr>\n",
       "    <tr>\n",
       "      <th>23207</th>\n",
       "      <td>-16.805517</td>\n",
       "      <td>145.636068</td>\n",
       "      <td>3</td>\n",
       "    </tr>\n",
       "    <tr>\n",
       "      <th>23208</th>\n",
       "      <td>-16.897853</td>\n",
       "      <td>145.709755</td>\n",
       "      <td>3</td>\n",
       "    </tr>\n",
       "  </tbody>\n",
       "</table>\n",
       "<p>23209 rows × 3 columns</p>\n",
       "</div>"
      ],
      "text/plain": [
       "       decimalLatitude  decimalLongitude cluster\n",
       "0           -38.045122        145.326047       0\n",
       "1           -38.030947        145.432053       0\n",
       "2           -38.088716        145.722909       0\n",
       "3           -37.807553        145.263607       0\n",
       "4           -37.991842        145.118825       0\n",
       "...                ...               ...     ...\n",
       "23204       -16.805517        145.636068       3\n",
       "23205       -16.805517        145.636068       3\n",
       "23206       -16.805517        145.636068       3\n",
       "23207       -16.805517        145.636068       3\n",
       "23208       -16.897853        145.709755       3\n",
       "\n",
       "[23209 rows x 3 columns]"
      ]
     },
     "execution_count": 35,
     "metadata": {},
     "output_type": "execute_result"
    }
   ],
   "source": [
    "all_frog_data.loc[all_frog_data.cluster.isin(['0','1','2','3'])][[ 'decimalLatitude', 'decimalLongitude','cluster']]"
   ]
  },
  {
   "cell_type": "code",
   "execution_count": 36,
   "id": "6529286b",
   "metadata": {
    "scrolled": false
   },
   "outputs": [
    {
     "name": "stdout",
     "output_type": "stream",
     "text": [
      "Counter({0: 13030, 1: 10179})\n",
      "Counter({0: 12888, 1: 12888})\n"
     ]
    }
   ],
   "source": [
    "\n",
    "\n",
    "X_balance = all_frog_data.loc[all_frog_data.cluster.isin(['0','1','2','3'])][[ 'decimalLatitude', 'decimalLongitude','cluster']]\n",
    "y_balance = all_frog_data.loc[all_frog_data.cluster.isin(['0','1','2','3'])]['occurrenceStatus']\n",
    "\n",
    "# summarize class distribution\n",
    "print(Counter(y_balance))\n",
    "\n",
    "# define pipeline\n",
    "smt = SMOTETomek(sampling_strategy = 'auto')\n",
    "X_res, y_res = smt.fit_resample(X_balance, y_balance)\n",
    "\n",
    "\n",
    "all_frog_data = pd.concat([X_res, y_res], axis=1)\n",
    "# summarize class distribution\n",
    "print(Counter(y_res))"
   ]
  },
  {
   "cell_type": "code",
   "execution_count": 37,
   "id": "ba59b911",
   "metadata": {
    "scrolled": true
   },
   "outputs": [
    {
     "data": {
      "text/html": [
       "<div>\n",
       "<style scoped>\n",
       "    .dataframe tbody tr th:only-of-type {\n",
       "        vertical-align: middle;\n",
       "    }\n",
       "\n",
       "    .dataframe tbody tr th {\n",
       "        vertical-align: top;\n",
       "    }\n",
       "\n",
       "    .dataframe thead th {\n",
       "        text-align: right;\n",
       "    }\n",
       "</style>\n",
       "<table border=\"1\" class=\"dataframe\">\n",
       "  <thead>\n",
       "    <tr style=\"text-align: right;\">\n",
       "      <th></th>\n",
       "      <th>decimalLatitude</th>\n",
       "      <th>decimalLongitude</th>\n",
       "      <th>cluster</th>\n",
       "      <th>occurrenceStatus</th>\n",
       "      <th>key</th>\n",
       "    </tr>\n",
       "  </thead>\n",
       "  <tbody>\n",
       "    <tr>\n",
       "      <th>0</th>\n",
       "      <td>-38.045122</td>\n",
       "      <td>145.326047</td>\n",
       "      <td>0</td>\n",
       "      <td>0</td>\n",
       "      <td>0</td>\n",
       "    </tr>\n",
       "    <tr>\n",
       "      <th>1</th>\n",
       "      <td>-38.030947</td>\n",
       "      <td>145.432053</td>\n",
       "      <td>0</td>\n",
       "      <td>0</td>\n",
       "      <td>1</td>\n",
       "    </tr>\n",
       "    <tr>\n",
       "      <th>2</th>\n",
       "      <td>-38.088716</td>\n",
       "      <td>145.722909</td>\n",
       "      <td>0</td>\n",
       "      <td>0</td>\n",
       "      <td>2</td>\n",
       "    </tr>\n",
       "    <tr>\n",
       "      <th>3</th>\n",
       "      <td>-37.807553</td>\n",
       "      <td>145.263607</td>\n",
       "      <td>0</td>\n",
       "      <td>0</td>\n",
       "      <td>3</td>\n",
       "    </tr>\n",
       "    <tr>\n",
       "      <th>4</th>\n",
       "      <td>-37.991842</td>\n",
       "      <td>145.118825</td>\n",
       "      <td>0</td>\n",
       "      <td>0</td>\n",
       "      <td>4</td>\n",
       "    </tr>\n",
       "    <tr>\n",
       "      <th>...</th>\n",
       "      <td>...</td>\n",
       "      <td>...</td>\n",
       "      <td>...</td>\n",
       "      <td>...</td>\n",
       "      <td>...</td>\n",
       "    </tr>\n",
       "    <tr>\n",
       "      <th>25771</th>\n",
       "      <td>-33.324800</td>\n",
       "      <td>151.365000</td>\n",
       "      <td>1</td>\n",
       "      <td>1</td>\n",
       "      <td>25771</td>\n",
       "    </tr>\n",
       "    <tr>\n",
       "      <th>25772</th>\n",
       "      <td>-33.325200</td>\n",
       "      <td>151.365000</td>\n",
       "      <td>1</td>\n",
       "      <td>1</td>\n",
       "      <td>25772</td>\n",
       "    </tr>\n",
       "    <tr>\n",
       "      <th>25773</th>\n",
       "      <td>-33.325200</td>\n",
       "      <td>151.365000</td>\n",
       "      <td>1</td>\n",
       "      <td>1</td>\n",
       "      <td>25773</td>\n",
       "    </tr>\n",
       "    <tr>\n",
       "      <th>25774</th>\n",
       "      <td>-28.705400</td>\n",
       "      <td>153.088000</td>\n",
       "      <td>2</td>\n",
       "      <td>1</td>\n",
       "      <td>25774</td>\n",
       "    </tr>\n",
       "    <tr>\n",
       "      <th>25775</th>\n",
       "      <td>-28.386158</td>\n",
       "      <td>153.440000</td>\n",
       "      <td>2</td>\n",
       "      <td>1</td>\n",
       "      <td>25775</td>\n",
       "    </tr>\n",
       "  </tbody>\n",
       "</table>\n",
       "<p>25776 rows × 5 columns</p>\n",
       "</div>"
      ],
      "text/plain": [
       "       decimalLatitude  decimalLongitude  cluster  occurrenceStatus    key\n",
       "0           -38.045122        145.326047        0                 0      0\n",
       "1           -38.030947        145.432053        0                 0      1\n",
       "2           -38.088716        145.722909        0                 0      2\n",
       "3           -37.807553        145.263607        0                 0      3\n",
       "4           -37.991842        145.118825        0                 0      4\n",
       "...                ...               ...      ...               ...    ...\n",
       "25771       -33.324800        151.365000        1                 1  25771\n",
       "25772       -33.325200        151.365000        1                 1  25772\n",
       "25773       -33.325200        151.365000        1                 1  25773\n",
       "25774       -28.705400        153.088000        2                 1  25774\n",
       "25775       -28.386158        153.440000        2                 1  25775\n",
       "\n",
       "[25776 rows x 5 columns]"
      ]
     },
     "execution_count": 37,
     "metadata": {},
     "output_type": "execute_result"
    }
   ],
   "source": [
    "all_frog_data = (\n",
    "    all_frog_data.reset_index(drop=True).assign(key= lambda x: x.index))\n",
    "all_frog_data.cluster = all_frog_data.cluster.astype(int)\n",
    "all_frog_data"
   ]
  },
  {
   "cell_type": "code",
   "execution_count": 38,
   "id": "4d87eb2a",
   "metadata": {
    "scrolled": true
   },
   "outputs": [
    {
     "name": "stdout",
     "output_type": "stream",
     "text": [
      "(144.800515, -38.49989934, 145.7671922, -37.51085308)\n",
      "(150.71, -33.49989273, 151.6999572, -32.51836843)\n",
      "(152.61, -28.99, 153.6, -28.00067739)\n",
      "(145.2511412, -17.67161479, 145.911, -16.7442)\n"
     ]
    }
   ],
   "source": [
    "for bbox_num in range(len(bbox_coordinates)):\n",
    "    print(list(bbox_coordinates.values())[bbox_num])"
   ]
  },
  {
   "cell_type": "code",
   "execution_count": 39,
   "id": "7739b7dd",
   "metadata": {},
   "outputs": [
    {
     "name": "stdout",
     "output_type": "stream",
     "text": [
      "(144.800515, -38.49989934, 145.7671922, -37.51085308)\n",
      "(150.71, -33.49989273, 151.6999572, -32.51836843)\n",
      "(152.61, -28.99, 153.6, -28.00067739)\n",
      "(145.2511412, -17.67161479, 145.911, -16.7442)\n"
     ]
    }
   ],
   "source": [
    "for bbox in list(bbox_coordinates.values()):\n",
    "                 print(bbox)"
   ]
  },
  {
   "cell_type": "code",
   "execution_count": 40,
   "id": "71f909b7",
   "metadata": {},
   "outputs": [],
   "source": [
    "def get_terraclimate(bbox, metrics, time_slice=None, assets=None, features=None, interp_dims=None, verbose=True):\n",
    "    \"\"\"Returns terraclimate metrics for a given area, allowing results to be interpolated onto a larger image.\n",
    "    \n",
    "    Attributes:\n",
    "    bbox -- Tuple of (min_lon, min_lat, max_lon, max_lat) to define area\n",
    "    metrics -- Nested dictionary in the form {<metric_name>:{'fn':<metric_function>,'params':<metric_kwargs_dict>}, ... }\n",
    "    time_slice -- Tuple of datetime strings to select data between, e.g. ('2015-01-01','2019-12-31')\n",
    "    assets -- list of terraclimate assets to take\n",
    "    features -- list of asset metrics to take, specified by strings in the form '<asset_name>_<metric_name>'\n",
    "    interp_dims -- Tuple of dimensions (n, m) to interpolate results to\n",
    "    \"\"\"\n",
    "    min_lon, min_lat, max_lon, max_lat = bbox\n",
    "    \n",
    "    collection = pystac.read_file(\"https://planetarycomputer.microsoft.com/api/stac/v1/collections/terraclimate\")\n",
    "    asset = collection.assets[\"zarr-https\"]\n",
    "    store = fsspec.get_mapper(asset.href)\n",
    "    data = xr.open_zarr(store, **asset.extra_fields[\"xarray:open_kwargs\"])\n",
    "    \n",
    "    # Select datapoints that overlap region\n",
    "    if time_slice is not None:\n",
    "        data = data.sel(lon=slice(min_lon,max_lon),lat=slice(max_lat,min_lat),time=slice(time_slice[0],time_slice[1]))\n",
    "    else:\n",
    "        data = data.sel(lon=slice(min_lon,max_lon),lat=slice(max_lat,min_lat))\n",
    "    if assets is not None:\n",
    "        data = data[assets]\n",
    "    print('Loading data') if verbose else None\n",
    "    data = data.rename(lat='y', lon='x').to_array().compute()\n",
    "        \n",
    "    # Calculate metrics\n",
    "    combined_values = []\n",
    "    combined_bands = []\n",
    "    for name, metric in metrics.items():\n",
    "        print(f'Calculating {name}') if verbose else None\n",
    "        sum_data = xr.apply_ufunc(\n",
    "            metric['fn'], data, input_core_dims=[[\"time\"]], kwargs=metric['params'], dask = 'allowed', vectorize = True\n",
    "        ).rename(variable='band')\n",
    "        xcoords = sum_data.x\n",
    "        ycoords = sum_data.y\n",
    "        dims = sum_data.dims\n",
    "        combined_values.append(sum_data.values)\n",
    "        for band in sum_data.band.values:\n",
    "            combined_bands.append(band+'_'+name)\n",
    "        \n",
    "    # Combine metrics\n",
    "    combined_values = np.concatenate(\n",
    "        combined_values,\n",
    "        axis=0\n",
    "    )\n",
    "    combined_data = xr.DataArray(\n",
    "        data=combined_values,\n",
    "        dims=dims,\n",
    "        coords=dict(\n",
    "            band=combined_bands,\n",
    "            y=ycoords,\n",
    "            x=xcoords\n",
    "        )\n",
    "    )    \n",
    "\n",
    "    # Take relevant bands:\n",
    "    combined_data = combined_data.sel(band=features)\n",
    "    \n",
    "    if interp_dims is not None:\n",
    "        print(f'Interpolating image') if verbose else None\n",
    "        interp_coords = (np.linspace(bbox[0], bbox[2], interp_dims[0]), np.linspace(bbox[1], bbox[3], interp_dims[1]))\n",
    "        combined_data = combined_data.interp(x=interp_coords[0], y=interp_coords[1], method='nearest', kwargs={\"fill_value\": \"extrapolate\"})\n",
    "    \n",
    "    return combined_data"
   ]
  },
  {
   "cell_type": "code",
   "execution_count": 41,
   "id": "43142352",
   "metadata": {},
   "outputs": [],
   "source": [
    "def join_frogs(frogs, data):\n",
    "    \"\"\"Collects the data for each frog location and joins it onto the frog data \n",
    "\n",
    "    Arguments:\n",
    "    frogs -- dataframe containing the response variable along with [\"decimalLongitude\", \"decimalLatitude\", \"key\"]\n",
    "    data -- xarray dataarray of features, indexed with geocoordinates\n",
    "    \"\"\"\n",
    "    return frogs.merge(\n",
    "        (\n",
    "            data\n",
    "            .rename('data')\n",
    "            .sel(\n",
    "                x=xr.DataArray(frogs.decimalLongitude, dims=\"key\", coords={\"key\": frogs.key}), \n",
    "                y=xr.DataArray(frogs.decimalLatitude, dims=\"key\", coords={\"key\": frogs.key}),\n",
    "                method=\"nearest\"\n",
    "            )\n",
    "            .to_dataframe()\n",
    "            .assign(val = lambda x: x.iloc[:, -1])\n",
    "            [['val']]\n",
    "            .reset_index()\n",
    "            .drop_duplicates()\n",
    "            .pivot_table(index=\"key\", columns=\"band\", values=\"val\")\n",
    "            .reset_index()\n",
    "        ),\n",
    "        on = ['key'],\n",
    "        how = 'inner'\n",
    "    )"
   ]
  },
  {
   "cell_type": "code",
   "execution_count": 42,
   "id": "dc60b2ae",
   "metadata": {
    "scrolled": false
   },
   "outputs": [
    {
     "name": "stderr",
     "output_type": "stream",
     "text": [
      "C:\\Users\\LR996GB\\Anaconda3\\envs\\frogs\\lib\\site-packages\\xarray\\backends\\plugins.py:68: RuntimeWarning: Engine 'cfgrib' loading failed:\n",
      "Cannot find the ecCodes library\n",
      "  warnings.warn(f\"Engine {name!r} loading failed:\\n{ex}\", RuntimeWarning)\n"
     ]
    },
    {
     "name": "stdout",
     "output_type": "stream",
     "text": [
      "Loading data\n",
      "Calculating mean\n",
      "Calculating min\n"
     ]
    },
    {
     "name": "stderr",
     "output_type": "stream",
     "text": [
      "C:\\Users\\LR996GB\\Anaconda3\\envs\\frogs\\lib\\site-packages\\numpy\\lib\\function_base.py:2277: RuntimeWarning: Mean of empty slice\n",
      "  results = func(*(arg[index] for arg in args))\n",
      "C:\\Users\\LR996GB\\Anaconda3\\envs\\frogs\\lib\\site-packages\\numpy\\lib\\function_base.py:2277: RuntimeWarning: All-NaN slice encountered\n",
      "  results = func(*(arg[index] for arg in args))\n"
     ]
    },
    {
     "name": "stdout",
     "output_type": "stream",
     "text": [
      "Calculating max\n",
      "Interpolating image\n"
     ]
    },
    {
     "data": {
      "text/plain": [
       "array(['tmax_mean', 'tmin_mean', 'ppt_mean', 'soil_mean', 'aet_mean',\n",
       "       'def_mean', 'pet_mean', 'swe_mean', 'vap_mean', 'vpd_mean',\n",
       "       'pdsi_mean', 'srad_mean'], dtype='<U9')"
      ]
     },
     "metadata": {},
     "output_type": "display_data"
    },
    {
     "name": "stdout",
     "output_type": "stream",
     "text": [
      "Loading data\n",
      "Calculating mean\n"
     ]
    },
    {
     "name": "stderr",
     "output_type": "stream",
     "text": [
      "C:\\Users\\LR996GB\\Anaconda3\\envs\\frogs\\lib\\site-packages\\numpy\\lib\\function_base.py:2277: RuntimeWarning: Mean of empty slice\n",
      "  results = func(*(arg[index] for arg in args))\n"
     ]
    },
    {
     "name": "stdout",
     "output_type": "stream",
     "text": [
      "Calculating min\n",
      "Calculating max\n",
      "Interpolating image\n"
     ]
    },
    {
     "name": "stderr",
     "output_type": "stream",
     "text": [
      "C:\\Users\\LR996GB\\Anaconda3\\envs\\frogs\\lib\\site-packages\\numpy\\lib\\function_base.py:2277: RuntimeWarning: All-NaN slice encountered\n",
      "  results = func(*(arg[index] for arg in args))\n"
     ]
    },
    {
     "data": {
      "text/plain": [
       "array(['tmax_mean', 'tmin_mean', 'ppt_mean', 'soil_mean', 'aet_mean',\n",
       "       'def_mean', 'pet_mean', 'swe_mean', 'vap_mean', 'vpd_mean',\n",
       "       'pdsi_mean', 'srad_mean'], dtype='<U9')"
      ]
     },
     "metadata": {},
     "output_type": "display_data"
    },
    {
     "name": "stdout",
     "output_type": "stream",
     "text": [
      "Loading data\n",
      "Calculating mean\n"
     ]
    },
    {
     "name": "stderr",
     "output_type": "stream",
     "text": [
      "C:\\Users\\LR996GB\\Anaconda3\\envs\\frogs\\lib\\site-packages\\numpy\\lib\\function_base.py:2277: RuntimeWarning: Mean of empty slice\n",
      "  results = func(*(arg[index] for arg in args))\n"
     ]
    },
    {
     "name": "stdout",
     "output_type": "stream",
     "text": [
      "Calculating min\n",
      "Calculating max\n",
      "Interpolating image\n"
     ]
    },
    {
     "name": "stderr",
     "output_type": "stream",
     "text": [
      "C:\\Users\\LR996GB\\Anaconda3\\envs\\frogs\\lib\\site-packages\\numpy\\lib\\function_base.py:2277: RuntimeWarning: All-NaN slice encountered\n",
      "  results = func(*(arg[index] for arg in args))\n"
     ]
    },
    {
     "data": {
      "text/plain": [
       "array(['tmax_mean', 'tmin_mean', 'ppt_mean', 'soil_mean', 'aet_mean',\n",
       "       'def_mean', 'pet_mean', 'swe_mean', 'vap_mean', 'vpd_mean',\n",
       "       'pdsi_mean', 'srad_mean'], dtype='<U9')"
      ]
     },
     "metadata": {},
     "output_type": "display_data"
    },
    {
     "name": "stdout",
     "output_type": "stream",
     "text": [
      "Loading data\n",
      "Calculating mean\n",
      "Calculating min\n",
      "Calculating max\n"
     ]
    },
    {
     "name": "stderr",
     "output_type": "stream",
     "text": [
      "C:\\Users\\LR996GB\\Anaconda3\\envs\\frogs\\lib\\site-packages\\numpy\\lib\\function_base.py:2277: RuntimeWarning: Mean of empty slice\n",
      "  results = func(*(arg[index] for arg in args))\n",
      "C:\\Users\\LR996GB\\Anaconda3\\envs\\frogs\\lib\\site-packages\\numpy\\lib\\function_base.py:2277: RuntimeWarning: All-NaN slice encountered\n",
      "  results = func(*(arg[index] for arg in args))\n"
     ]
    },
    {
     "name": "stdout",
     "output_type": "stream",
     "text": [
      "Interpolating image\n"
     ]
    },
    {
     "data": {
      "text/plain": [
       "array(['tmax_mean', 'tmin_mean', 'ppt_mean', 'soil_mean', 'aet_mean',\n",
       "       'def_mean', 'pet_mean', 'swe_mean', 'vap_mean', 'vpd_mean',\n",
       "       'pdsi_mean', 'srad_mean'], dtype='<U9')"
      ]
     },
     "metadata": {},
     "output_type": "display_data"
    }
   ],
   "source": [
    "# Metrics to measure over time dimension\n",
    "tc_metrics = {\n",
    "    'mean':{\n",
    "        'fn':np.nanmean,\n",
    "        'params':{}\n",
    "    },\n",
    "    'min':{\n",
    "        'fn':np.nanmin,\n",
    "        'params':{}\n",
    "    },\n",
    "    'max':{\n",
    "        'fn':np.nanmax,\n",
    "        'params':{}\n",
    "    }\n",
    "}\n",
    "\n",
    "# Date range to take\n",
    "time_slice = ('2010-01-01','2022-12-31')\n",
    "\n",
    "# Measurements to take\n",
    "assets=['tmax', 'tmin', 'ppt', 'soil',\n",
    "       'aet', \n",
    "        'def', \n",
    "        'pet',\n",
    "        'swe', \n",
    "        'vap', \n",
    "        'vpd', \n",
    "        'pdsi', \n",
    "        'srad']\n",
    "\n",
    "# Features to take, in form '<asset>_<metric>'\n",
    "features=['tmax_mean', 'tmin_mean', 'ppt_mean', 'soil_mean', \n",
    "          'aet_mean', \n",
    "          'def_mean', \n",
    "          'pet_mean',\n",
    "          'swe_mean', \n",
    "          'vap_mean', \n",
    "          'vpd_mean', \n",
    "          'pdsi_mean', \n",
    "          'srad_mean']\n",
    "\n",
    "# Interpolate values to a 512x512 image\n",
    "interp_dims = (512, 512)\n",
    "\n",
    "\n",
    "model_data = pd.DataFrame()\n",
    "\n",
    "for bbox_num in range(4):\n",
    "    \n",
    "    bbox = list(bbox_coordinates.values())[bbox_num]\n",
    "    \n",
    "    frog_data_temp = all_frog_data.loc[all_frog_data.cluster == bbox_num]\n",
    "    \n",
    "    weather_data = get_terraclimate(bbox, tc_metrics, time_slice=time_slice, assets=assets, features=features, interp_dims=interp_dims)\n",
    "    display(weather_data.band.values)\n",
    "    \n",
    "    model_temp = join_frogs(frog_data_temp, weather_data)\n",
    "    \n",
    "    model_data = pd.concat([model_data,model_temp])"
   ]
  },
  {
   "cell_type": "code",
   "execution_count": 43,
   "id": "2f5af671",
   "metadata": {
    "scrolled": true
   },
   "outputs": [
    {
     "data": {
      "text/html": [
       "<div>\n",
       "<style scoped>\n",
       "    .dataframe tbody tr th:only-of-type {\n",
       "        vertical-align: middle;\n",
       "    }\n",
       "\n",
       "    .dataframe tbody tr th {\n",
       "        vertical-align: top;\n",
       "    }\n",
       "\n",
       "    .dataframe thead th {\n",
       "        text-align: right;\n",
       "    }\n",
       "</style>\n",
       "<table border=\"1\" class=\"dataframe\">\n",
       "  <thead>\n",
       "    <tr style=\"text-align: right;\">\n",
       "      <th></th>\n",
       "      <th>decimalLatitude</th>\n",
       "      <th>decimalLongitude</th>\n",
       "      <th>cluster</th>\n",
       "      <th>occurrenceStatus</th>\n",
       "      <th>key</th>\n",
       "      <th>aet_mean</th>\n",
       "      <th>def_mean</th>\n",
       "      <th>pdsi_mean</th>\n",
       "      <th>pet_mean</th>\n",
       "      <th>ppt_mean</th>\n",
       "      <th>soil_mean</th>\n",
       "      <th>srad_mean</th>\n",
       "      <th>swe_mean</th>\n",
       "      <th>tmax_mean</th>\n",
       "      <th>tmin_mean</th>\n",
       "      <th>vap_mean</th>\n",
       "      <th>vpd_mean</th>\n",
       "    </tr>\n",
       "  </thead>\n",
       "  <tbody>\n",
       "    <tr>\n",
       "      <th>0</th>\n",
       "      <td>-38.045122</td>\n",
       "      <td>145.326047</td>\n",
       "      <td>0</td>\n",
       "      <td>0</td>\n",
       "      <td>0</td>\n",
       "      <td>60.875000</td>\n",
       "      <td>43.150000</td>\n",
       "      <td>-2.449166</td>\n",
       "      <td>103.941667</td>\n",
       "      <td>64.350000</td>\n",
       "      <td>68.408333</td>\n",
       "      <td>176.375000</td>\n",
       "      <td>0.0</td>\n",
       "      <td>20.135835</td>\n",
       "      <td>10.256668</td>\n",
       "      <td>1.168917</td>\n",
       "      <td>0.660167</td>\n",
       "    </tr>\n",
       "    <tr>\n",
       "      <th>1</th>\n",
       "      <td>-38.030947</td>\n",
       "      <td>145.432053</td>\n",
       "      <td>0</td>\n",
       "      <td>0</td>\n",
       "      <td>1</td>\n",
       "      <td>70.383333</td>\n",
       "      <td>29.391667</td>\n",
       "      <td>-2.356666</td>\n",
       "      <td>99.733333</td>\n",
       "      <td>76.816667</td>\n",
       "      <td>128.941667</td>\n",
       "      <td>176.225000</td>\n",
       "      <td>0.0</td>\n",
       "      <td>19.647502</td>\n",
       "      <td>9.485835</td>\n",
       "      <td>1.138917</td>\n",
       "      <td>0.616833</td>\n",
       "    </tr>\n",
       "    <tr>\n",
       "      <th>2</th>\n",
       "      <td>-38.088716</td>\n",
       "      <td>145.722909</td>\n",
       "      <td>0</td>\n",
       "      <td>0</td>\n",
       "      <td>2</td>\n",
       "      <td>65.891667</td>\n",
       "      <td>34.000000</td>\n",
       "      <td>-2.310000</td>\n",
       "      <td>99.841667</td>\n",
       "      <td>69.950000</td>\n",
       "      <td>103.183333</td>\n",
       "      <td>177.283333</td>\n",
       "      <td>0.0</td>\n",
       "      <td>20.195835</td>\n",
       "      <td>9.567501</td>\n",
       "      <td>1.162500</td>\n",
       "      <td>0.645833</td>\n",
       "    </tr>\n",
       "    <tr>\n",
       "      <th>3</th>\n",
       "      <td>-37.807553</td>\n",
       "      <td>145.263607</td>\n",
       "      <td>0</td>\n",
       "      <td>0</td>\n",
       "      <td>3</td>\n",
       "      <td>66.358333</td>\n",
       "      <td>39.108333</td>\n",
       "      <td>-1.821666</td>\n",
       "      <td>105.491667</td>\n",
       "      <td>72.025000</td>\n",
       "      <td>77.033333</td>\n",
       "      <td>176.408333</td>\n",
       "      <td>0.0</td>\n",
       "      <td>20.346668</td>\n",
       "      <td>9.895001</td>\n",
       "      <td>1.119667</td>\n",
       "      <td>0.713667</td>\n",
       "    </tr>\n",
       "    <tr>\n",
       "      <th>4</th>\n",
       "      <td>-37.991842</td>\n",
       "      <td>145.118825</td>\n",
       "      <td>0</td>\n",
       "      <td>0</td>\n",
       "      <td>4</td>\n",
       "      <td>52.883333</td>\n",
       "      <td>57.025000</td>\n",
       "      <td>-2.726666</td>\n",
       "      <td>109.816667</td>\n",
       "      <td>55.800000</td>\n",
       "      <td>30.225000</td>\n",
       "      <td>177.341667</td>\n",
       "      <td>0.0</td>\n",
       "      <td>20.449168</td>\n",
       "      <td>10.687502</td>\n",
       "      <td>1.184500</td>\n",
       "      <td>0.682000</td>\n",
       "    </tr>\n",
       "  </tbody>\n",
       "</table>\n",
       "</div>"
      ],
      "text/plain": [
       "   decimalLatitude  decimalLongitude  cluster  occurrenceStatus  key  \\\n",
       "0       -38.045122        145.326047        0                 0    0   \n",
       "1       -38.030947        145.432053        0                 0    1   \n",
       "2       -38.088716        145.722909        0                 0    2   \n",
       "3       -37.807553        145.263607        0                 0    3   \n",
       "4       -37.991842        145.118825        0                 0    4   \n",
       "\n",
       "    aet_mean   def_mean  pdsi_mean    pet_mean   ppt_mean   soil_mean  \\\n",
       "0  60.875000  43.150000  -2.449166  103.941667  64.350000   68.408333   \n",
       "1  70.383333  29.391667  -2.356666   99.733333  76.816667  128.941667   \n",
       "2  65.891667  34.000000  -2.310000   99.841667  69.950000  103.183333   \n",
       "3  66.358333  39.108333  -1.821666  105.491667  72.025000   77.033333   \n",
       "4  52.883333  57.025000  -2.726666  109.816667  55.800000   30.225000   \n",
       "\n",
       "    srad_mean  swe_mean  tmax_mean  tmin_mean  vap_mean  vpd_mean  \n",
       "0  176.375000       0.0  20.135835  10.256668  1.168917  0.660167  \n",
       "1  176.225000       0.0  19.647502   9.485835  1.138917  0.616833  \n",
       "2  177.283333       0.0  20.195835   9.567501  1.162500  0.645833  \n",
       "3  176.408333       0.0  20.346668   9.895001  1.119667  0.713667  \n",
       "4  177.341667       0.0  20.449168  10.687502  1.184500  0.682000  "
      ]
     },
     "execution_count": 43,
     "metadata": {},
     "output_type": "execute_result"
    }
   ],
   "source": [
    "model_data.head()"
   ]
  },
  {
   "cell_type": "code",
   "execution_count": 44,
   "id": "6a0e2626",
   "metadata": {},
   "outputs": [
    {
     "data": {
      "text/html": [
       "<div>\n",
       "<style scoped>\n",
       "    .dataframe tbody tr th:only-of-type {\n",
       "        vertical-align: middle;\n",
       "    }\n",
       "\n",
       "    .dataframe tbody tr th {\n",
       "        vertical-align: top;\n",
       "    }\n",
       "\n",
       "    .dataframe thead th {\n",
       "        text-align: right;\n",
       "    }\n",
       "</style>\n",
       "<table border=\"1\" class=\"dataframe\">\n",
       "  <thead>\n",
       "    <tr style=\"text-align: right;\">\n",
       "      <th></th>\n",
       "      <th>decimalLatitude</th>\n",
       "      <th>decimalLongitude</th>\n",
       "      <th>cluster</th>\n",
       "      <th>occurrenceStatus</th>\n",
       "      <th>key</th>\n",
       "      <th>aet_mean</th>\n",
       "      <th>def_mean</th>\n",
       "      <th>pdsi_mean</th>\n",
       "      <th>pet_mean</th>\n",
       "      <th>ppt_mean</th>\n",
       "      <th>soil_mean</th>\n",
       "      <th>srad_mean</th>\n",
       "      <th>swe_mean</th>\n",
       "      <th>tmax_mean</th>\n",
       "      <th>tmin_mean</th>\n",
       "      <th>vap_mean</th>\n",
       "      <th>vpd_mean</th>\n",
       "    </tr>\n",
       "  </thead>\n",
       "  <tbody>\n",
       "    <tr>\n",
       "      <th>1490</th>\n",
       "      <td>-17.100733</td>\n",
       "      <td>145.772952</td>\n",
       "      <td>3</td>\n",
       "      <td>1</td>\n",
       "      <td>25733</td>\n",
       "      <td>111.508333</td>\n",
       "      <td>26.450000</td>\n",
       "      <td>-0.325000</td>\n",
       "      <td>137.908333</td>\n",
       "      <td>213.508333</td>\n",
       "      <td>321.475000</td>\n",
       "      <td>225.058333</td>\n",
       "      <td>0.0</td>\n",
       "      <td>28.579168</td>\n",
       "      <td>19.940835</td>\n",
       "      <td>2.307750</td>\n",
       "      <td>0.828500</td>\n",
       "    </tr>\n",
       "    <tr>\n",
       "      <th>1491</th>\n",
       "      <td>-16.782245</td>\n",
       "      <td>145.685000</td>\n",
       "      <td>3</td>\n",
       "      <td>1</td>\n",
       "      <td>25746</td>\n",
       "      <td>99.416667</td>\n",
       "      <td>41.841667</td>\n",
       "      <td>-0.876666</td>\n",
       "      <td>141.216667</td>\n",
       "      <td>155.133333</td>\n",
       "      <td>258.125000</td>\n",
       "      <td>228.791667</td>\n",
       "      <td>0.0</td>\n",
       "      <td>29.251668</td>\n",
       "      <td>20.713335</td>\n",
       "      <td>2.415500</td>\n",
       "      <td>0.850083</td>\n",
       "    </tr>\n",
       "    <tr>\n",
       "      <th>1492</th>\n",
       "      <td>-16.917425</td>\n",
       "      <td>145.392623</td>\n",
       "      <td>3</td>\n",
       "      <td>1</td>\n",
       "      <td>25747</td>\n",
       "      <td>76.066667</td>\n",
       "      <td>60.083333</td>\n",
       "      <td>-0.878333</td>\n",
       "      <td>136.100000</td>\n",
       "      <td>94.800000</td>\n",
       "      <td>164.350000</td>\n",
       "      <td>230.041667</td>\n",
       "      <td>0.0</td>\n",
       "      <td>28.285002</td>\n",
       "      <td>18.569168</td>\n",
       "      <td>2.115250</td>\n",
       "      <td>0.897667</td>\n",
       "    </tr>\n",
       "    <tr>\n",
       "      <th>1493</th>\n",
       "      <td>-17.016400</td>\n",
       "      <td>145.740000</td>\n",
       "      <td>3</td>\n",
       "      <td>1</td>\n",
       "      <td>25765</td>\n",
       "      <td>112.675000</td>\n",
       "      <td>26.008333</td>\n",
       "      <td>-0.273333</td>\n",
       "      <td>138.700000</td>\n",
       "      <td>214.250000</td>\n",
       "      <td>315.208333</td>\n",
       "      <td>224.533333</td>\n",
       "      <td>0.0</td>\n",
       "      <td>28.804168</td>\n",
       "      <td>20.120001</td>\n",
       "      <td>2.341583</td>\n",
       "      <td>0.832583</td>\n",
       "    </tr>\n",
       "    <tr>\n",
       "      <th>1494</th>\n",
       "      <td>-16.995935</td>\n",
       "      <td>145.423180</td>\n",
       "      <td>3</td>\n",
       "      <td>1</td>\n",
       "      <td>25766</td>\n",
       "      <td>77.050000</td>\n",
       "      <td>58.783333</td>\n",
       "      <td>-0.840000</td>\n",
       "      <td>135.750000</td>\n",
       "      <td>98.075000</td>\n",
       "      <td>166.966667</td>\n",
       "      <td>229.750000</td>\n",
       "      <td>0.0</td>\n",
       "      <td>28.187501</td>\n",
       "      <td>18.475002</td>\n",
       "      <td>2.088083</td>\n",
       "      <td>0.907417</td>\n",
       "    </tr>\n",
       "  </tbody>\n",
       "</table>\n",
       "</div>"
      ],
      "text/plain": [
       "      decimalLatitude  decimalLongitude  cluster  occurrenceStatus    key  \\\n",
       "1490       -17.100733        145.772952        3                 1  25733   \n",
       "1491       -16.782245        145.685000        3                 1  25746   \n",
       "1492       -16.917425        145.392623        3                 1  25747   \n",
       "1493       -17.016400        145.740000        3                 1  25765   \n",
       "1494       -16.995935        145.423180        3                 1  25766   \n",
       "\n",
       "        aet_mean   def_mean  pdsi_mean    pet_mean    ppt_mean   soil_mean  \\\n",
       "1490  111.508333  26.450000  -0.325000  137.908333  213.508333  321.475000   \n",
       "1491   99.416667  41.841667  -0.876666  141.216667  155.133333  258.125000   \n",
       "1492   76.066667  60.083333  -0.878333  136.100000   94.800000  164.350000   \n",
       "1493  112.675000  26.008333  -0.273333  138.700000  214.250000  315.208333   \n",
       "1494   77.050000  58.783333  -0.840000  135.750000   98.075000  166.966667   \n",
       "\n",
       "       srad_mean  swe_mean  tmax_mean  tmin_mean  vap_mean  vpd_mean  \n",
       "1490  225.058333       0.0  28.579168  19.940835  2.307750  0.828500  \n",
       "1491  228.791667       0.0  29.251668  20.713335  2.415500  0.850083  \n",
       "1492  230.041667       0.0  28.285002  18.569168  2.115250  0.897667  \n",
       "1493  224.533333       0.0  28.804168  20.120001  2.341583  0.832583  \n",
       "1494  229.750000       0.0  28.187501  18.475002  2.088083  0.907417  "
      ]
     },
     "execution_count": 44,
     "metadata": {},
     "output_type": "execute_result"
    }
   ],
   "source": [
    "model_data.tail()"
   ]
  },
  {
   "cell_type": "code",
   "execution_count": 45,
   "id": "b56bb211",
   "metadata": {},
   "outputs": [
    {
     "name": "stderr",
     "output_type": "stream",
     "text": [
      "C:\\Users\\LR996GB\\Anaconda3\\envs\\frogs\\lib\\site-packages\\ipykernel_launcher.py:4: FutureWarning: In a future version of pandas all arguments of DataFrame.drop except for the argument 'labels' will be keyword-only\n",
      "  after removing the cwd from sys.path.\n"
     ]
    }
   ],
   "source": [
    "# Separate the predictor variables from the response\n",
    "X = (\n",
    "    model_data\n",
    "    .drop(['decimalLatitude', 'decimalLongitude', 'occurrenceStatus', 'key','cluster'], 1).reset_index(drop=True)\n",
    ")\n",
    "y = model_data.occurrenceStatus.astype(int)"
   ]
  },
  {
   "cell_type": "code",
   "execution_count": 46,
   "id": "10d58aa7",
   "metadata": {
    "scrolled": false
   },
   "outputs": [
    {
     "data": {
      "text/html": [
       "<div>\n",
       "<style scoped>\n",
       "    .dataframe tbody tr th:only-of-type {\n",
       "        vertical-align: middle;\n",
       "    }\n",
       "\n",
       "    .dataframe tbody tr th {\n",
       "        vertical-align: top;\n",
       "    }\n",
       "\n",
       "    .dataframe thead th {\n",
       "        text-align: right;\n",
       "    }\n",
       "</style>\n",
       "<table border=\"1\" class=\"dataframe\">\n",
       "  <thead>\n",
       "    <tr style=\"text-align: right;\">\n",
       "      <th></th>\n",
       "      <th>aet_mean</th>\n",
       "      <th>def_mean</th>\n",
       "      <th>pdsi_mean</th>\n",
       "      <th>pet_mean</th>\n",
       "      <th>ppt_mean</th>\n",
       "      <th>soil_mean</th>\n",
       "      <th>srad_mean</th>\n",
       "      <th>swe_mean</th>\n",
       "      <th>tmax_mean</th>\n",
       "      <th>tmin_mean</th>\n",
       "      <th>vap_mean</th>\n",
       "      <th>vpd_mean</th>\n",
       "    </tr>\n",
       "  </thead>\n",
       "  <tbody>\n",
       "    <tr>\n",
       "      <th>0</th>\n",
       "      <td>60.875000</td>\n",
       "      <td>43.150000</td>\n",
       "      <td>-2.449166</td>\n",
       "      <td>103.941667</td>\n",
       "      <td>64.350000</td>\n",
       "      <td>68.408333</td>\n",
       "      <td>176.375000</td>\n",
       "      <td>0.0</td>\n",
       "      <td>20.135835</td>\n",
       "      <td>10.256668</td>\n",
       "      <td>1.168917</td>\n",
       "      <td>0.660167</td>\n",
       "    </tr>\n",
       "    <tr>\n",
       "      <th>1</th>\n",
       "      <td>70.383333</td>\n",
       "      <td>29.391667</td>\n",
       "      <td>-2.356666</td>\n",
       "      <td>99.733333</td>\n",
       "      <td>76.816667</td>\n",
       "      <td>128.941667</td>\n",
       "      <td>176.225000</td>\n",
       "      <td>0.0</td>\n",
       "      <td>19.647502</td>\n",
       "      <td>9.485835</td>\n",
       "      <td>1.138917</td>\n",
       "      <td>0.616833</td>\n",
       "    </tr>\n",
       "    <tr>\n",
       "      <th>2</th>\n",
       "      <td>65.891667</td>\n",
       "      <td>34.000000</td>\n",
       "      <td>-2.310000</td>\n",
       "      <td>99.841667</td>\n",
       "      <td>69.950000</td>\n",
       "      <td>103.183333</td>\n",
       "      <td>177.283333</td>\n",
       "      <td>0.0</td>\n",
       "      <td>20.195835</td>\n",
       "      <td>9.567501</td>\n",
       "      <td>1.162500</td>\n",
       "      <td>0.645833</td>\n",
       "    </tr>\n",
       "    <tr>\n",
       "      <th>3</th>\n",
       "      <td>66.358333</td>\n",
       "      <td>39.108333</td>\n",
       "      <td>-1.821666</td>\n",
       "      <td>105.491667</td>\n",
       "      <td>72.025000</td>\n",
       "      <td>77.033333</td>\n",
       "      <td>176.408333</td>\n",
       "      <td>0.0</td>\n",
       "      <td>20.346668</td>\n",
       "      <td>9.895001</td>\n",
       "      <td>1.119667</td>\n",
       "      <td>0.713667</td>\n",
       "    </tr>\n",
       "    <tr>\n",
       "      <th>4</th>\n",
       "      <td>52.883333</td>\n",
       "      <td>57.025000</td>\n",
       "      <td>-2.726666</td>\n",
       "      <td>109.816667</td>\n",
       "      <td>55.800000</td>\n",
       "      <td>30.225000</td>\n",
       "      <td>177.341667</td>\n",
       "      <td>0.0</td>\n",
       "      <td>20.449168</td>\n",
       "      <td>10.687502</td>\n",
       "      <td>1.184500</td>\n",
       "      <td>0.682000</td>\n",
       "    </tr>\n",
       "    <tr>\n",
       "      <th>...</th>\n",
       "      <td>...</td>\n",
       "      <td>...</td>\n",
       "      <td>...</td>\n",
       "      <td>...</td>\n",
       "      <td>...</td>\n",
       "      <td>...</td>\n",
       "      <td>...</td>\n",
       "      <td>...</td>\n",
       "      <td>...</td>\n",
       "      <td>...</td>\n",
       "      <td>...</td>\n",
       "      <td>...</td>\n",
       "    </tr>\n",
       "    <tr>\n",
       "      <th>25731</th>\n",
       "      <td>111.508333</td>\n",
       "      <td>26.450000</td>\n",
       "      <td>-0.325000</td>\n",
       "      <td>137.908333</td>\n",
       "      <td>213.508333</td>\n",
       "      <td>321.475000</td>\n",
       "      <td>225.058333</td>\n",
       "      <td>0.0</td>\n",
       "      <td>28.579168</td>\n",
       "      <td>19.940835</td>\n",
       "      <td>2.307750</td>\n",
       "      <td>0.828500</td>\n",
       "    </tr>\n",
       "    <tr>\n",
       "      <th>25732</th>\n",
       "      <td>99.416667</td>\n",
       "      <td>41.841667</td>\n",
       "      <td>-0.876666</td>\n",
       "      <td>141.216667</td>\n",
       "      <td>155.133333</td>\n",
       "      <td>258.125000</td>\n",
       "      <td>228.791667</td>\n",
       "      <td>0.0</td>\n",
       "      <td>29.251668</td>\n",
       "      <td>20.713335</td>\n",
       "      <td>2.415500</td>\n",
       "      <td>0.850083</td>\n",
       "    </tr>\n",
       "    <tr>\n",
       "      <th>25733</th>\n",
       "      <td>76.066667</td>\n",
       "      <td>60.083333</td>\n",
       "      <td>-0.878333</td>\n",
       "      <td>136.100000</td>\n",
       "      <td>94.800000</td>\n",
       "      <td>164.350000</td>\n",
       "      <td>230.041667</td>\n",
       "      <td>0.0</td>\n",
       "      <td>28.285002</td>\n",
       "      <td>18.569168</td>\n",
       "      <td>2.115250</td>\n",
       "      <td>0.897667</td>\n",
       "    </tr>\n",
       "    <tr>\n",
       "      <th>25734</th>\n",
       "      <td>112.675000</td>\n",
       "      <td>26.008333</td>\n",
       "      <td>-0.273333</td>\n",
       "      <td>138.700000</td>\n",
       "      <td>214.250000</td>\n",
       "      <td>315.208333</td>\n",
       "      <td>224.533333</td>\n",
       "      <td>0.0</td>\n",
       "      <td>28.804168</td>\n",
       "      <td>20.120001</td>\n",
       "      <td>2.341583</td>\n",
       "      <td>0.832583</td>\n",
       "    </tr>\n",
       "    <tr>\n",
       "      <th>25735</th>\n",
       "      <td>77.050000</td>\n",
       "      <td>58.783333</td>\n",
       "      <td>-0.840000</td>\n",
       "      <td>135.750000</td>\n",
       "      <td>98.075000</td>\n",
       "      <td>166.966667</td>\n",
       "      <td>229.750000</td>\n",
       "      <td>0.0</td>\n",
       "      <td>28.187501</td>\n",
       "      <td>18.475002</td>\n",
       "      <td>2.088083</td>\n",
       "      <td>0.907417</td>\n",
       "    </tr>\n",
       "  </tbody>\n",
       "</table>\n",
       "<p>25736 rows × 12 columns</p>\n",
       "</div>"
      ],
      "text/plain": [
       "         aet_mean   def_mean  pdsi_mean    pet_mean    ppt_mean   soil_mean  \\\n",
       "0       60.875000  43.150000  -2.449166  103.941667   64.350000   68.408333   \n",
       "1       70.383333  29.391667  -2.356666   99.733333   76.816667  128.941667   \n",
       "2       65.891667  34.000000  -2.310000   99.841667   69.950000  103.183333   \n",
       "3       66.358333  39.108333  -1.821666  105.491667   72.025000   77.033333   \n",
       "4       52.883333  57.025000  -2.726666  109.816667   55.800000   30.225000   \n",
       "...           ...        ...        ...         ...         ...         ...   \n",
       "25731  111.508333  26.450000  -0.325000  137.908333  213.508333  321.475000   \n",
       "25732   99.416667  41.841667  -0.876666  141.216667  155.133333  258.125000   \n",
       "25733   76.066667  60.083333  -0.878333  136.100000   94.800000  164.350000   \n",
       "25734  112.675000  26.008333  -0.273333  138.700000  214.250000  315.208333   \n",
       "25735   77.050000  58.783333  -0.840000  135.750000   98.075000  166.966667   \n",
       "\n",
       "        srad_mean  swe_mean  tmax_mean  tmin_mean  vap_mean  vpd_mean  \n",
       "0      176.375000       0.0  20.135835  10.256668  1.168917  0.660167  \n",
       "1      176.225000       0.0  19.647502   9.485835  1.138917  0.616833  \n",
       "2      177.283333       0.0  20.195835   9.567501  1.162500  0.645833  \n",
       "3      176.408333       0.0  20.346668   9.895001  1.119667  0.713667  \n",
       "4      177.341667       0.0  20.449168  10.687502  1.184500  0.682000  \n",
       "...           ...       ...        ...        ...       ...       ...  \n",
       "25731  225.058333       0.0  28.579168  19.940835  2.307750  0.828500  \n",
       "25732  228.791667       0.0  29.251668  20.713335  2.415500  0.850083  \n",
       "25733  230.041667       0.0  28.285002  18.569168  2.115250  0.897667  \n",
       "25734  224.533333       0.0  28.804168  20.120001  2.341583  0.832583  \n",
       "25735  229.750000       0.0  28.187501  18.475002  2.088083  0.907417  \n",
       "\n",
       "[25736 rows x 12 columns]"
      ]
     },
     "execution_count": 46,
     "metadata": {},
     "output_type": "execute_result"
    }
   ],
   "source": [
    "#PREDICTOR VARIABLES\n",
    "X"
   ]
  },
  {
   "cell_type": "code",
   "execution_count": 47,
   "id": "a46d51b7",
   "metadata": {
    "scrolled": true
   },
   "outputs": [
    {
     "data": {
      "text/plain": [
       "0       0\n",
       "1       0\n",
       "2       0\n",
       "3       0\n",
       "4       0\n",
       "       ..\n",
       "1490    1\n",
       "1491    1\n",
       "1492    1\n",
       "1493    1\n",
       "1494    1\n",
       "Name: occurrenceStatus, Length: 25736, dtype: int32"
      ]
     },
     "execution_count": 47,
     "metadata": {},
     "output_type": "execute_result"
    }
   ],
   "source": [
    "#TARGET VARIABLES\n",
    "y"
   ]
  },
  {
   "cell_type": "code",
   "execution_count": 48,
   "id": "95418311",
   "metadata": {
    "scrolled": true
   },
   "outputs": [
    {
     "data": {
      "text/plain": [
       "1    12879\n",
       "0    12857\n",
       "Name: occurrenceStatus, dtype: int64"
      ]
     },
     "execution_count": 48,
     "metadata": {},
     "output_type": "execute_result"
    }
   ],
   "source": [
    "y.value_counts()"
   ]
  },
  {
   "cell_type": "code",
   "execution_count": 49,
   "id": "2468f0aa",
   "metadata": {},
   "outputs": [],
   "source": [
    "# example of a standardization\n",
    "from sklearn.preprocessing import StandardScaler\n",
    "# define data\n",
    "data = X\n",
    "# define standard scaler\n",
    "scaler = StandardScaler()\n",
    "# transform data\n",
    "X_scaled = scaler.fit_transform(data)"
   ]
  },
  {
   "cell_type": "code",
   "execution_count": 50,
   "id": "e0f87bba",
   "metadata": {},
   "outputs": [
    {
     "data": {
      "text/plain": [
       "array([[-1.23422993,  0.80512405, -2.15743559, ..., -1.05704626,\n",
       "        -1.0497739 , -1.03418822],\n",
       "       [-0.49123418, -0.47219718, -1.93536848, ..., -1.40404586,\n",
       "        -1.16759748, -1.66806615],\n",
       "       [-0.8422199 , -0.04436033, -1.82333477, ..., -1.3672828 ,\n",
       "        -1.07497507, -1.24385558],\n",
       "       ...,\n",
       "       [-0.0471298 ,  2.37721172,  1.61370311, ...,  2.6849243 ,\n",
       "         2.66690564,  2.43995034],\n",
       "       [ 2.81350153, -0.78630525,  3.06614214, ...,  3.38305023,\n",
       "         3.55581917,  1.48791444],\n",
       "       [ 0.02970938,  2.25651995,  1.70573103, ...,  2.64253422,\n",
       "         2.56020984,  2.58257282]])"
      ]
     },
     "execution_count": 50,
     "metadata": {},
     "output_type": "execute_result"
    }
   ],
   "source": [
    "X_scaled\n"
   ]
  },
  {
   "cell_type": "markdown",
   "id": "5aceb903",
   "metadata": {
    "scrolled": false
   },
   "source": [
    "from imblearn.combine import SMOTETomek\n",
    "from collections import Counter\n",
    "\n",
    "\n",
    "\n",
    "X_balance = X\n",
    "y_balance = y\n",
    "\n",
    "# summarize class distribution\n",
    "print(Counter(y_balance))\n",
    "\n",
    "smt = SMOTETomek(sampling_strategy = 'all')\n",
    "X_res, y_res = smt.fit_resample(X_balance, y_balance)\n",
    "\n",
    "# all_frog_data = pd.concat([X_res, y_res], axis=1)\n",
    "# summarize class distribution\n",
    "print(Counter(y_res))"
   ]
  },
  {
   "cell_type": "markdown",
   "id": "b33458cb",
   "metadata": {},
   "source": [
    "pairplot_data = pd.concat([X_res,y_res], axis=1)"
   ]
  },
  {
   "cell_type": "markdown",
   "id": "89a0e1b5",
   "metadata": {},
   "source": [
    "sns.pairplot(pairplot_data)"
   ]
  },
  {
   "cell_type": "code",
   "execution_count": 51,
   "id": "3f0513aa",
   "metadata": {},
   "outputs": [],
   "source": [
    "X_train, X_test, y_train, y_test = train_test_split(X_scaled, y, test_size=0.10, random_state=1)"
   ]
  },
  {
   "cell_type": "code",
   "execution_count": 52,
   "id": "5871bfc7",
   "metadata": {},
   "outputs": [],
   "source": [
    "# Cross validate model with Kfold stratified cross val\n",
    "kfold = StratifiedKFold(n_splits=5) "
   ]
  },
  {
   "cell_type": "code",
   "execution_count": 53,
   "id": "8a8da803",
   "metadata": {},
   "outputs": [],
   "source": [
    "def report(model):\n",
    "    preds = model.predict(X_test)\n",
    "    print(classification_report(y_test,preds))\n",
    "    plot_confusion_matrix(model,X_test,y_test)\n",
    "    print(f\"F1 Score: {np.mean(f1_score(y_test, preds)).round(2)}\")\n",
    "    print(f\"Accuracy: {np.mean(accuracy_score(y_test, preds)).round(2)}\")"
   ]
  },
  {
   "cell_type": "code",
   "execution_count": 54,
   "id": "732462cc",
   "metadata": {},
   "outputs": [
    {
     "ename": "SyntaxError",
     "evalue": "unexpected EOF while parsing (793512049.py, line 1)",
     "output_type": "error",
     "traceback": [
      "\u001b[1;36m  File \u001b[1;32m\"C:\\Users\\LR996GB\\AppData\\Local\\Temp\\ipykernel_21420\\793512049.py\"\u001b[1;36m, line \u001b[1;32m1\u001b[0m\n\u001b[1;33m    D:(\u001b[0m\n\u001b[1;37m       ^\u001b[0m\n\u001b[1;31mSyntaxError\u001b[0m\u001b[1;31m:\u001b[0m unexpected EOF while parsing\n"
     ]
    }
   ],
   "source": [
    "D:("
   ]
  },
  {
   "cell_type": "code",
   "execution_count": null,
   "id": "fea4e6b1",
   "metadata": {},
   "outputs": [],
   "source": [
    "### Logisitic Regression\n",
    "\n",
    "LR = LogisticRegression()\n",
    "\n",
    "#Parameters\n",
    "solvers = ['newton-cg', 'lbfgs', 'liblinear']\n",
    "penalty = ['l2']\n",
    "c_values = [600, 700, 300, 250]\n",
    "\n",
    "#ParametersGrid\n",
    "lr_param_grid = dict(solver=solvers,penalty=penalty,C=c_values)\n",
    "\n",
    "#GridSearchCV\n",
    "gsLR = GridSearchCV(LR,param_grid = lr_param_grid, cv=kfold, scoring=\"accuracy\", n_jobs= -1, verbose = 1)\n",
    "\n",
    "gsLR.fit(X_train,y_train)"
   ]
  },
  {
   "cell_type": "code",
   "execution_count": null,
   "id": "6a417431",
   "metadata": {},
   "outputs": [],
   "source": [
    "# Summarize the results\n",
    "LR_best = gsLR.best_estimator_\n",
    "print('Best : {}, using {}'.format(gsLR.best_score_,gsLR.best_params_))\n",
    "report(gsLR)"
   ]
  },
  {
   "cell_type": "markdown",
   "id": "1a5ccc72",
   "metadata": {},
   "source": [
    "# Train the model\n",
    "LSVC = LinearSVC()\n",
    "\n",
    "#Parameters\n",
    "class_weight=[None]\n",
    "dual=[True]\n",
    "tol=[1e-3,1e-2]\n",
    "max_iter=[1e5]\n",
    "\n",
    "#ParametersGrid\n",
    "lsvc_param_grid = dict(class_weight=class_weight,dual=dual,tol=tol,max_iter=max_iter)\n",
    "\n",
    "#GridSearchCV\n",
    "gsLSVC = GridSearchCV(LSVC,param_grid = lsvc_param_grid, cv=kfold, scoring=\"accuracy\", n_jobs= -1, verbose = 1)\n",
    "gsLSVC.fit(X_train,y_train)"
   ]
  },
  {
   "cell_type": "markdown",
   "id": "6bcee2df",
   "metadata": {},
   "source": [
    "#Summarize the results\n",
    "LSVC_best = gsLSVC.best_estimator_\n",
    "print('Best : {}, using {}'.format(gsLSVC.best_score_,gsLSVC.best_params_))\n",
    "report(gsLSVC)"
   ]
  },
  {
   "cell_type": "code",
   "execution_count": null,
   "id": "aa55a4c5",
   "metadata": {},
   "outputs": [],
   "source": [
    "# Train the model\n",
    "RFC = RandomForestClassifier()\n",
    "\n",
    "\n",
    "#Parameters\n",
    "rf_param_grid = {\"max_depth\": [13,14,15],\n",
    "              \"bootstrap\": [True, False],\n",
    "              \"n_estimators\" :[36,37,38],\n",
    "              \"criterion\": [\"gini\"]}\n",
    "\n",
    "#GridSearchCV\n",
    "gsRFC = GridSearchCV(RFC,param_grid = rf_param_grid, cv=kfold, scoring=\"accuracy\", n_jobs= -1, verbose = 1)\n",
    "gsRFC.fit(X_train,y_train)"
   ]
  },
  {
   "cell_type": "code",
   "execution_count": null,
   "id": "66f1198c",
   "metadata": {
    "scrolled": false
   },
   "outputs": [],
   "source": [
    "# Summarize the results\n",
    "RFC_best = gsRFC.best_estimator_\n",
    "print('Best : {}, using {}'.format(gsRFC.best_score_,gsRFC.best_params_))\n",
    "report(gsRFC)"
   ]
  },
  {
   "cell_type": "markdown",
   "id": "c94fa308",
   "metadata": {},
   "source": [
    "#ExtraTrees \n",
    "ExtC = ExtraTreesClassifier()\n",
    "\n",
    "\n",
    "## Search grid for optimal parameters\n",
    "ex_param_grid = {\"max_depth\": [None, 10, 20, 50],\n",
    "              \"max_features\": [1, 3, 10],\n",
    "              \"min_samples_split\": [2, 3, 10],\n",
    "              \"min_samples_leaf\": [1, 3, 10],\n",
    "              \"bootstrap\": [False,True],\n",
    "              \"n_estimators\" :[200,300],\n",
    "              \"criterion\": [\"gini\"]}\n",
    "\n",
    "\n",
    "gsExtC = GridSearchCV(ExtC,param_grid = ex_param_grid, cv=kfold, scoring=\"accuracy\", n_jobs= -1, verbose = 1)\n",
    "\n",
    "gsExtC.fit(X_train,y_train)"
   ]
  },
  {
   "cell_type": "markdown",
   "id": "cae58def",
   "metadata": {},
   "source": [
    "# Summarize the results\n",
    "ExtC_best = gsExtC.best_estimator_\n",
    "print('Best : {}, using {}'.format(gsExtC.best_score_,gsExtC.best_params_))\n",
    "report(gsExtC)"
   ]
  },
  {
   "cell_type": "code",
   "execution_count": null,
   "id": "5bc8fec4",
   "metadata": {},
   "outputs": [],
   "source": [
    "### SVC classifier\n",
    "SVMC = SVC(probability=True)\n",
    "svc_param_grid = {'kernel': ['rbf'], \n",
    "                  'gamma': [ 0.0001,0.001, 0.01],\n",
    "                  'C': [100,200,300]}\n",
    "\n",
    "gsSVMC = GridSearchCV(SVMC,param_grid = svc_param_grid, cv=kfold, scoring=\"accuracy\", n_jobs= -1, verbose = 1)\n",
    "\n",
    "gsSVMC.fit(X_train,y_train)"
   ]
  },
  {
   "cell_type": "code",
   "execution_count": null,
   "id": "231279f7",
   "metadata": {},
   "outputs": [],
   "source": [
    "# Summarize the results\n",
    "SVMC_best = gsSVMC.best_estimator_\n",
    "print('Best : {}, using {}'.format(gsSVMC.best_score_,gsSVMC.best_params_))\n",
    "report(gsSVMC)"
   ]
  },
  {
   "cell_type": "code",
   "execution_count": 55,
   "id": "8b0869ef",
   "metadata": {},
   "outputs": [
    {
     "name": "stderr",
     "output_type": "stream",
     "text": [
      "C:\\Users\\LR996GB\\Anaconda3\\envs\\frogs\\lib\\site-packages\\sklearn\\neural_network\\_multilayer_perceptron.py:585: ConvergenceWarning: Stochastic Optimizer: Maximum iterations (200) reached and the optimization hasn't converged yet.\n",
      "  % self.max_iter, ConvergenceWarning)\n"
     ]
    },
    {
     "data": {
      "text/plain": [
       "GridSearchCV(cv=StratifiedKFold(n_splits=5, random_state=None, shuffle=False),\n",
       "             estimator=MLPClassifier(), n_jobs=-1,\n",
       "             param_grid={'activation': ['tanh', 'relu'],\n",
       "                         'alpha': [0.0001, 0.05],\n",
       "                         'hidden_layer_sizes': [(50, 50, 50), (50, 100, 50),\n",
       "                                                (100,), (50, 50), 100],\n",
       "                         'learning_rate': ['constant', 'adaptive'],\n",
       "                         'solver': ['sgd', 'adam']},\n",
       "             scoring='accuracy', verbose=False)"
      ]
     },
     "execution_count": 55,
     "metadata": {},
     "output_type": "execute_result"
    }
   ],
   "source": [
    "#MLP\n",
    "\n",
    "MLP = MLPClassifier(max_iter = 500)\n",
    "\n",
    "# mlp_param_grid = {\n",
    "#     'hidden_layer_sizes': [(50,50),(100)],\n",
    "#     'activation': ['tanh', 'relu'],\n",
    "#     'solver': ['sgd', 'adam'],\n",
    "#     'alpha': [0.0001, 0.05],\n",
    "#     'learning_rate': ['constant','adaptive']}\n",
    "\n",
    "mlp_param_grid = {\n",
    "    'hidden_layer_sizes': [(50,100,50)],\n",
    "    'activation': ['tanh', 'relu'],\n",
    "    'solver': ['sgd', 'adam'],\n",
    "    'alpha': [0.0001],\n",
    "    'learning_rate': ['constant','adaptive']}\n",
    "\n",
    "gsMLP = GridSearchCV(MLP,param_grid = mlp_param_grid, cv=kfold, scoring=\"accuracy\", n_jobs= -1, verbose = False)\n",
    "gsMLP.fit(X,y)"
   ]
  },
  {
   "cell_type": "code",
   "execution_count": 56,
   "id": "75a57024",
   "metadata": {},
   "outputs": [
    {
     "name": "stdout",
     "output_type": "stream",
     "text": [
      "Best : 0.7530865063912229, using {'activation': 'tanh', 'alpha': 0.0001, 'hidden_layer_sizes': (50, 100, 50), 'learning_rate': 'adaptive', 'solver': 'adam'}\n",
      "              precision    recall  f1-score   support\n",
      "\n",
      "           0       0.88      0.58      0.70      1322\n",
      "           1       0.67      0.92      0.78      1252\n",
      "\n",
      "    accuracy                           0.74      2574\n",
      "   macro avg       0.78      0.75      0.74      2574\n",
      "weighted avg       0.78      0.74      0.74      2574\n",
      "\n",
      "F1 Score: 0.78\n",
      "Accuracy: 0.74\n"
     ]
    },
    {
     "data": {
      "image/png": "[encoded data removed]",
      "text/plain": [
       "<Figure size 432x288 with 2 Axes>"
      ]
     },
     "metadata": {
      "needs_background": "light"
     },
     "output_type": "display_data"
    }
   ],
   "source": [
    "# Summarize the results\n",
    "MLP_best = gsMLP.best_estimator_\n",
    "print('Best : {}, using {}'.format(gsMLP.best_score_,gsMLP.best_params_))\n",
    "report(gsMLP)"
   ]
  },
  {
   "cell_type": "code",
   "execution_count": null,
   "id": "0a22b30e",
   "metadata": {},
   "outputs": [],
   "source": [
    "#XGBooster\n",
    "\n",
    "XGB = XGBClassifier()\n",
    "\n",
    "xgb_param_grid = {\"learning_rate\"    : [0.01,0.1,0.2] ,\n",
    "                  \"max_depth\"        : [6,8,9],\n",
    "                  \"gamma\"            : [ 0.0, 0.1, 0.2],\n",
    "                  \"colsample_bytree\" : [ 0.5,0.6 ] }\n",
    "\n",
    "gsXGB = GridSearchCV(XGB,param_grid = xgb_param_grid, cv=kfold, scoring=\"accuracy\", n_jobs= -1, verbose = 1)\n",
    "gsXGB.fit(X_train,y_train)"
   ]
  },
  {
   "cell_type": "code",
   "execution_count": null,
   "id": "e215ccd5",
   "metadata": {},
   "outputs": [],
   "source": [
    "# Summarize the results\n",
    "XGB_Best = gsXGB.best_estimator_\n",
    "print('Best : {}, using {}'.format(gsXGB.best_score_,gsXGB.best_params_))\n",
    "report(gsXGB)"
   ]
  },
  {
   "cell_type": "code",
   "execution_count": 57,
   "id": "95a7dbef",
   "metadata": {},
   "outputs": [
    {
     "data": {
      "text/html": [
       "<div>\n",
       "<style scoped>\n",
       "    .dataframe tbody tr th:only-of-type {\n",
       "        vertical-align: middle;\n",
       "    }\n",
       "\n",
       "    .dataframe tbody tr th {\n",
       "        vertical-align: top;\n",
       "    }\n",
       "\n",
       "    .dataframe thead th {\n",
       "        text-align: right;\n",
       "    }\n",
       "</style>\n",
       "<table border=\"1\" class=\"dataframe\">\n",
       "  <thead>\n",
       "    <tr style=\"text-align: right;\">\n",
       "      <th></th>\n",
       "      <th>id</th>\n",
       "      <th>decimalLatitude</th>\n",
       "      <th>decimalLongitude</th>\n",
       "      <th>occurrenceStatus</th>\n",
       "    </tr>\n",
       "  </thead>\n",
       "  <tbody>\n",
       "    <tr>\n",
       "      <th>0</th>\n",
       "      <td>0</td>\n",
       "      <td>-37.917146</td>\n",
       "      <td>145.207706</td>\n",
       "      <td>NaN</td>\n",
       "    </tr>\n",
       "    <tr>\n",
       "      <th>1</th>\n",
       "      <td>1</td>\n",
       "      <td>-37.750974</td>\n",
       "      <td>144.981501</td>\n",
       "      <td>NaN</td>\n",
       "    </tr>\n",
       "    <tr>\n",
       "      <th>2</th>\n",
       "      <td>2</td>\n",
       "      <td>-37.961600</td>\n",
       "      <td>145.348000</td>\n",
       "      <td>NaN</td>\n",
       "    </tr>\n",
       "    <tr>\n",
       "      <th>3</th>\n",
       "      <td>3</td>\n",
       "      <td>-37.621300</td>\n",
       "      <td>145.003000</td>\n",
       "      <td>NaN</td>\n",
       "    </tr>\n",
       "    <tr>\n",
       "      <th>4</th>\n",
       "      <td>4</td>\n",
       "      <td>-38.498100</td>\n",
       "      <td>145.647000</td>\n",
       "      <td>NaN</td>\n",
       "    </tr>\n",
       "    <tr>\n",
       "      <th>...</th>\n",
       "      <td>...</td>\n",
       "      <td>...</td>\n",
       "      <td>...</td>\n",
       "      <td>...</td>\n",
       "    </tr>\n",
       "    <tr>\n",
       "      <th>4046</th>\n",
       "      <td>4046</td>\n",
       "      <td>-31.884385</td>\n",
       "      <td>116.150192</td>\n",
       "      <td>NaN</td>\n",
       "    </tr>\n",
       "    <tr>\n",
       "      <th>4047</th>\n",
       "      <td>4047</td>\n",
       "      <td>-32.412962</td>\n",
       "      <td>115.779737</td>\n",
       "      <td>NaN</td>\n",
       "    </tr>\n",
       "    <tr>\n",
       "      <th>4048</th>\n",
       "      <td>4048</td>\n",
       "      <td>-32.147959</td>\n",
       "      <td>115.856628</td>\n",
       "      <td>NaN</td>\n",
       "    </tr>\n",
       "    <tr>\n",
       "      <th>4049</th>\n",
       "      <td>4049</td>\n",
       "      <td>-31.827000</td>\n",
       "      <td>116.238000</td>\n",
       "      <td>NaN</td>\n",
       "    </tr>\n",
       "    <tr>\n",
       "      <th>4050</th>\n",
       "      <td>4050</td>\n",
       "      <td>-31.582511</td>\n",
       "      <td>116.073031</td>\n",
       "      <td>NaN</td>\n",
       "    </tr>\n",
       "  </tbody>\n",
       "</table>\n",
       "<p>4051 rows × 4 columns</p>\n",
       "</div>"
      ],
      "text/plain": [
       "        id  decimalLatitude  decimalLongitude  occurrenceStatus\n",
       "0        0       -37.917146        145.207706               NaN\n",
       "1        1       -37.750974        144.981501               NaN\n",
       "2        2       -37.961600        145.348000               NaN\n",
       "3        3       -37.621300        145.003000               NaN\n",
       "4        4       -38.498100        145.647000               NaN\n",
       "...    ...              ...               ...               ...\n",
       "4046  4046       -31.884385        116.150192               NaN\n",
       "4047  4047       -32.412962        115.779737               NaN\n",
       "4048  4048       -32.147959        115.856628               NaN\n",
       "4049  4049       -31.827000        116.238000               NaN\n",
       "4050  4050       -31.582511        116.073031               NaN\n",
       "\n",
       "[4051 rows x 4 columns]"
      ]
     },
     "execution_count": 57,
     "metadata": {},
     "output_type": "execute_result"
    }
   ],
   "source": [
    "df1"
   ]
  },
  {
   "cell_type": "code",
   "execution_count": 58,
   "id": "e3c26fdf",
   "metadata": {},
   "outputs": [
    {
     "data": {
      "text/html": [
       "<div>\n",
       "<style scoped>\n",
       "    .dataframe tbody tr th:only-of-type {\n",
       "        vertical-align: middle;\n",
       "    }\n",
       "\n",
       "    .dataframe tbody tr th {\n",
       "        vertical-align: top;\n",
       "    }\n",
       "\n",
       "    .dataframe thead th {\n",
       "        text-align: right;\n",
       "    }\n",
       "</style>\n",
       "<table border=\"1\" class=\"dataframe\">\n",
       "  <thead>\n",
       "    <tr style=\"text-align: right;\">\n",
       "      <th></th>\n",
       "      <th>id</th>\n",
       "      <th>decimalLatitude</th>\n",
       "      <th>decimalLongitude</th>\n",
       "      <th>occurrenceStatus</th>\n",
       "      <th>aet_mean</th>\n",
       "      <th>def_mean</th>\n",
       "      <th>pdsi_mean</th>\n",
       "      <th>pet_mean</th>\n",
       "      <th>ppt_mean</th>\n",
       "      <th>soil_mean</th>\n",
       "      <th>srad_mean</th>\n",
       "      <th>swe_mean</th>\n",
       "      <th>tmax_mean</th>\n",
       "      <th>tmin_mean</th>\n",
       "      <th>vap_mean</th>\n",
       "      <th>vpd_mean</th>\n",
       "    </tr>\n",
       "  </thead>\n",
       "  <tbody>\n",
       "    <tr>\n",
       "      <th>0</th>\n",
       "      <td>0</td>\n",
       "      <td>-37.917146</td>\n",
       "      <td>145.207706</td>\n",
       "      <td>NaN</td>\n",
       "      <td>68.525000</td>\n",
       "      <td>64.925000</td>\n",
       "      <td>-0.265833</td>\n",
       "      <td>133.400000</td>\n",
       "      <td>80.541667</td>\n",
       "      <td>119.575000</td>\n",
       "      <td>229.908333</td>\n",
       "      <td>0.0</td>\n",
       "      <td>27.413335</td>\n",
       "      <td>16.155002</td>\n",
       "      <td>1.798167</td>\n",
       "      <td>0.977250</td>\n",
       "    </tr>\n",
       "    <tr>\n",
       "      <th>1</th>\n",
       "      <td>1</td>\n",
       "      <td>-37.750974</td>\n",
       "      <td>144.981501</td>\n",
       "      <td>NaN</td>\n",
       "      <td>68.525000</td>\n",
       "      <td>64.925000</td>\n",
       "      <td>-0.265833</td>\n",
       "      <td>133.400000</td>\n",
       "      <td>80.541667</td>\n",
       "      <td>119.575000</td>\n",
       "      <td>229.908333</td>\n",
       "      <td>0.0</td>\n",
       "      <td>27.413335</td>\n",
       "      <td>16.155002</td>\n",
       "      <td>1.798167</td>\n",
       "      <td>0.977250</td>\n",
       "    </tr>\n",
       "    <tr>\n",
       "      <th>2</th>\n",
       "      <td>2</td>\n",
       "      <td>-37.961600</td>\n",
       "      <td>145.348000</td>\n",
       "      <td>NaN</td>\n",
       "      <td>74.758333</td>\n",
       "      <td>56.858333</td>\n",
       "      <td>-0.588333</td>\n",
       "      <td>131.608333</td>\n",
       "      <td>92.391667</td>\n",
       "      <td>161.483333</td>\n",
       "      <td>229.075000</td>\n",
       "      <td>0.0</td>\n",
       "      <td>27.082502</td>\n",
       "      <td>16.005835</td>\n",
       "      <td>1.803000</td>\n",
       "      <td>0.925167</td>\n",
       "    </tr>\n",
       "    <tr>\n",
       "      <th>3</th>\n",
       "      <td>3</td>\n",
       "      <td>-37.621300</td>\n",
       "      <td>145.003000</td>\n",
       "      <td>NaN</td>\n",
       "      <td>68.525000</td>\n",
       "      <td>64.925000</td>\n",
       "      <td>-0.265833</td>\n",
       "      <td>133.400000</td>\n",
       "      <td>80.541667</td>\n",
       "      <td>119.575000</td>\n",
       "      <td>229.908333</td>\n",
       "      <td>0.0</td>\n",
       "      <td>27.413335</td>\n",
       "      <td>16.155002</td>\n",
       "      <td>1.798167</td>\n",
       "      <td>0.977250</td>\n",
       "    </tr>\n",
       "    <tr>\n",
       "      <th>4</th>\n",
       "      <td>4</td>\n",
       "      <td>-38.498100</td>\n",
       "      <td>145.647000</td>\n",
       "      <td>NaN</td>\n",
       "      <td>107.275000</td>\n",
       "      <td>15.000000</td>\n",
       "      <td>0.501667</td>\n",
       "      <td>122.241667</td>\n",
       "      <td>310.308333</td>\n",
       "      <td>403.983333</td>\n",
       "      <td>222.008333</td>\n",
       "      <td>0.0</td>\n",
       "      <td>26.177502</td>\n",
       "      <td>15.965001</td>\n",
       "      <td>1.893417</td>\n",
       "      <td>0.736167</td>\n",
       "    </tr>\n",
       "  </tbody>\n",
       "</table>\n",
       "</div>"
      ],
      "text/plain": [
       "   id  decimalLatitude  decimalLongitude  occurrenceStatus    aet_mean  \\\n",
       "0   0       -37.917146        145.207706               NaN   68.525000   \n",
       "1   1       -37.750974        144.981501               NaN   68.525000   \n",
       "2   2       -37.961600        145.348000               NaN   74.758333   \n",
       "3   3       -37.621300        145.003000               NaN   68.525000   \n",
       "4   4       -38.498100        145.647000               NaN  107.275000   \n",
       "\n",
       "    def_mean  pdsi_mean    pet_mean    ppt_mean   soil_mean   srad_mean  \\\n",
       "0  64.925000  -0.265833  133.400000   80.541667  119.575000  229.908333   \n",
       "1  64.925000  -0.265833  133.400000   80.541667  119.575000  229.908333   \n",
       "2  56.858333  -0.588333  131.608333   92.391667  161.483333  229.075000   \n",
       "3  64.925000  -0.265833  133.400000   80.541667  119.575000  229.908333   \n",
       "4  15.000000   0.501667  122.241667  310.308333  403.983333  222.008333   \n",
       "\n",
       "   swe_mean  tmax_mean  tmin_mean  vap_mean  vpd_mean  \n",
       "0       0.0  27.413335  16.155002  1.798167  0.977250  \n",
       "1       0.0  27.413335  16.155002  1.798167  0.977250  \n",
       "2       0.0  27.082502  16.005835  1.803000  0.925167  \n",
       "3       0.0  27.413335  16.155002  1.798167  0.977250  \n",
       "4       0.0  26.177502  15.965001  1.893417  0.736167  "
      ]
     },
     "execution_count": 58,
     "metadata": {},
     "output_type": "execute_result"
    }
   ],
   "source": [
    "def join_frogs_sub(frogs, data):\n",
    "    \"\"\"Collects the data for each frog location and joins it onto the frog data \n",
    "\n",
    "    Arguments:\n",
    "    frogs -- dataframe containing the response variable along with [\"decimalLongitude\", \"decimalLatitude\", \"key\"]\n",
    "    data -- xarray dataarray of features, indexed with geocoordinates\n",
    "    \"\"\"\n",
    "    return frogs.merge(\n",
    "        (\n",
    "            data\n",
    "            .rename('data')\n",
    "            .sel(\n",
    "                x=xr.DataArray(df1.decimalLongitude, dims=\"id\", coords={\"id\": df1.id}), \n",
    "                y=xr.DataArray(df1.decimalLatitude, dims=\"id\", coords={\"id\": df1.id}),\n",
    "                method=\"nearest\"\n",
    "            )\n",
    "            .to_dataframe()\n",
    "            .assign(val = lambda x: x.iloc[:, -1])\n",
    "            [['val']]\n",
    "            .reset_index()\n",
    "            .drop_duplicates()\n",
    "            .pivot(index=\"id\", columns=\"band\", values=\"val\")\n",
    "            .reset_index()\n",
    "        ),\n",
    "        on = ['id'],\n",
    "        how = 'inner'\n",
    "    )\n",
    "    \n",
    "test_data = join_frogs_sub(df1, weather_data)\n",
    "test_data.head()"
   ]
  },
  {
   "cell_type": "code",
   "execution_count": 59,
   "id": "766372ef",
   "metadata": {},
   "outputs": [],
   "source": [
    "data = test_data.iloc[:,-12:]\n",
    "# define standard scaler\n",
    "scaler = StandardScaler()\n",
    "# transform data\n",
    "test_Scaled = scaler.fit_transform(data)"
   ]
  },
  {
   "cell_type": "code",
   "execution_count": 60,
   "id": "fe421440",
   "metadata": {},
   "outputs": [
    {
     "data": {
      "text/plain": [
       "array([[-1.06767625,  1.08438054, -0.75807516, ..., -0.81092689,\n",
       "        -0.93171492,  1.05973087],\n",
       "       [-1.06767625,  1.08438054, -0.75807516, ..., -0.81092689,\n",
       "        -0.93171492,  1.05973087],\n",
       "       [-0.80213158,  0.75946619, -2.02994568, ..., -0.90036541,\n",
       "        -0.90801335,  0.46876516],\n",
       "       ...,\n",
       "       [-1.06767625,  1.08438054, -0.75807516, ..., -0.81092689,\n",
       "        -0.93171492,  1.05973087],\n",
       "       [-1.06767625,  1.08438054, -0.75807516, ..., -0.81092689,\n",
       "        -0.93171492,  1.05973087],\n",
       "       [-1.06767625,  1.08438054, -0.75807516, ..., -0.81092689,\n",
       "        -0.93171492,  1.05973087]])"
      ]
     },
     "execution_count": 60,
     "metadata": {},
     "output_type": "execute_result"
    }
   ],
   "source": [
    "test_Scaled"
   ]
  },
  {
   "cell_type": "code",
   "execution_count": 61,
   "id": "18591698",
   "metadata": {},
   "outputs": [],
   "source": [
    "def get_result(model,test_Scaled):\n",
    "    test_result = model.predict(test_Scaled)\n",
    "    df1.occurrenceStatus = test_result\n",
    "    print(df1.occurrenceStatus.value_counts())\n",
    "    "
   ]
  },
  {
   "cell_type": "code",
   "execution_count": null,
   "id": "4810cea6",
   "metadata": {
    "scrolled": true
   },
   "outputs": [],
   "source": [
    "get_result(gsLR, test_Scaled)"
   ]
  },
  {
   "cell_type": "code",
   "execution_count": null,
   "id": "d9e5b683",
   "metadata": {},
   "outputs": [],
   "source": [
    "get_result(gsRFC, test_Scaled)"
   ]
  },
  {
   "cell_type": "markdown",
   "id": "92b7b3f2",
   "metadata": {},
   "source": [
    "get_result(gsExtC, test_Scaled)"
   ]
  },
  {
   "cell_type": "code",
   "execution_count": null,
   "id": "b836d7b9",
   "metadata": {},
   "outputs": [],
   "source": [
    "get_result(gsSVMC, test_Scaled)"
   ]
  },
  {
   "cell_type": "code",
   "execution_count": 63,
   "id": "6a7de640",
   "metadata": {},
   "outputs": [
    {
     "name": "stdout",
     "output_type": "stream",
     "text": [
      "0    2078\n",
      "1    1973\n",
      "Name: occurrenceStatus, dtype: int64\n"
     ]
    }
   ],
   "source": [
    "get_result(gsMLP, test_Scaled)"
   ]
  },
  {
   "cell_type": "code",
   "execution_count": null,
   "id": "7cf8eba4",
   "metadata": {},
   "outputs": [],
   "source": [
    "get_result(gsXGB, test_Scaled)"
   ]
  },
  {
   "cell_type": "code",
   "execution_count": 64,
   "id": "03ed4854",
   "metadata": {},
   "outputs": [],
   "source": [
    "df1.to_csv('gsMLP.csv')\n"
   ]
  },
  {
   "cell_type": "code",
   "execution_count": null,
   "id": "bea7f5c6",
   "metadata": {},
   "outputs": [],
   "source": []
  }
 ],
 "metadata": {
  "kernelspec": {
   "display_name": "Python [conda env:frogs]",
   "language": "python",
   "name": "conda-env-frogs-py"
  },
  "language_info": {
   "codemirror_mode": {
    "name": "ipython",
    "version": 3
   },
   "file_extension": ".py",
   "mimetype": "text/x-python",
   "name": "python",
   "nbconvert_exporter": "python",
   "pygments_lexer": "ipython3",
   "version": "3.7.11"
  }
 },
 "nbformat": 4,
 "nbformat_minor": 5
}
