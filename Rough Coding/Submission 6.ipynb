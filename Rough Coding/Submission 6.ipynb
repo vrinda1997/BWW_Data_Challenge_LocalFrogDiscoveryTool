{
 "cells": [
  {
   "cell_type": "code",
   "execution_count": 51,
   "id": "b33429f3",
   "metadata": {},
   "outputs": [],
   "source": [
    "#Basic Libraries\n",
    "import pandas as pd\n",
    "import numpy as np\n",
    "import datetime as dt\n",
    "\n",
    "\n",
    "#Visualizations\n",
    "import matplotlib.pyplot as plt\n",
    "import matplotlib.patches as mpatches\n",
    "import seaborn as sns\n",
    "\n",
    "\n",
    "# ML Matrix + Performance params\n",
    "from sklearn.metrics import f1_score, accuracy_score, ConfusionMatrixDisplay\n",
    "from sklearn.model_selection import StratifiedKFold\n",
    "from sklearn.model_selection import train_test_split\n",
    "from sklearn.metrics import confusion_matrix,classification_report,plot_confusion_matrix\n",
    "\n",
    "#Fixing Balancing\n",
    "from imblearn.over_sampling import SMOTE\n",
    "from imblearn.under_sampling import RandomUnderSampler\n",
    "from imblearn.combine import SMOTETomek\n",
    "from collections import Counter\n",
    "from imblearn.pipeline import Pipeline\n",
    "\n",
    "\n",
    "#Load the ML Algos\n",
    "from sklearn.ensemble import RandomForestClassifier, AdaBoostClassifier, GradientBoostingClassifier, ExtraTreesClassifier, VotingClassifier\n",
    "from sklearn.discriminant_analysis import LinearDiscriminantAnalysis\n",
    "from sklearn.linear_model import LogisticRegression\n",
    "from sklearn.neighbors import KNeighborsClassifier\n",
    "from sklearn.tree import DecisionTreeClassifier\n",
    "from sklearn.neural_network import MLPClassifier\n",
    "from sklearn.svm import SVC\n",
    "from sklearn.svm import LinearSVC\n",
    "from xgboost import XGBClassifier\n",
    "from sklearn.model_selection import GridSearchCV, cross_val_score, StratifiedKFold\n",
    "from sklearn.cluster import DBSCAN\n",
    "#For Naive Bayes\n",
    "from sklearn.naive_bayes import MultinomialNB\n",
    "\n",
    "# Geospatial\n",
    "import contextily as cx\n",
    "from shapely.geometry import Point, Polygon\n",
    "import xarray as xr\n",
    "import rasterio.features\n",
    "import rasterio as rio\n",
    "import fsspec\n",
    "\n",
    "# API\n",
    "import requests\n",
    "import json\n",
    "\n",
    "# Import Planetary Computer\n",
    "# import stackstac\n",
    "import pystac\n",
    "import pystac_client\n",
    "import planetary_computer\n",
    "\n",
    "# Other\n",
    "import os\n",
    "from itertools import cycle"
   ]
  },
  {
   "cell_type": "code",
   "execution_count": 7,
   "id": "014eea14",
   "metadata": {},
   "outputs": [],
   "source": [
    "bbox_coordinates =  {'0' : (144.8,-38.5,145.8,-37.5),\n",
    "                     '1' : (150.7,-33.5,151.7,-32.5),\n",
    "                     '2' : (152.6,-29.0,153.6,-28.0),\n",
    "                     '3' : (145.0,-17.7,146.0,-16.7),\n",
    "                     '4' : (115.7,-32.5,116.7,-31.5)}"
   ]
  },
  {
   "cell_type": "code",
   "execution_count": 8,
   "id": "0a7324da",
   "metadata": {},
   "outputs": [
    {
     "data": {
      "text/html": [
       "<div>\n",
       "<style scoped>\n",
       "    .dataframe tbody tr th:only-of-type {\n",
       "        vertical-align: middle;\n",
       "    }\n",
       "\n",
       "    .dataframe tbody tr th {\n",
       "        vertical-align: top;\n",
       "    }\n",
       "\n",
       "    .dataframe thead th {\n",
       "        text-align: right;\n",
       "    }\n",
       "</style>\n",
       "<table border=\"1\" class=\"dataframe\">\n",
       "  <thead>\n",
       "    <tr style=\"text-align: right;\">\n",
       "      <th></th>\n",
       "      <th>decimalLatitude</th>\n",
       "      <th>decimalLongitude</th>\n",
       "      <th>cluster</th>\n",
       "      <th>occurrenceStatus</th>\n",
       "    </tr>\n",
       "  </thead>\n",
       "  <tbody>\n",
       "    <tr>\n",
       "      <th>0</th>\n",
       "      <td>-38.369245</td>\n",
       "      <td>144.979495</td>\n",
       "      <td>0</td>\n",
       "      <td>0</td>\n",
       "    </tr>\n",
       "    <tr>\n",
       "      <th>1</th>\n",
       "      <td>-38.322200</td>\n",
       "      <td>145.190000</td>\n",
       "      <td>0</td>\n",
       "      <td>0</td>\n",
       "    </tr>\n",
       "    <tr>\n",
       "      <th>2</th>\n",
       "      <td>-37.718300</td>\n",
       "      <td>145.053000</td>\n",
       "      <td>0</td>\n",
       "      <td>0</td>\n",
       "    </tr>\n",
       "    <tr>\n",
       "      <th>3</th>\n",
       "      <td>-37.733000</td>\n",
       "      <td>144.973000</td>\n",
       "      <td>0</td>\n",
       "      <td>0</td>\n",
       "    </tr>\n",
       "    <tr>\n",
       "      <th>4</th>\n",
       "      <td>-37.796300</td>\n",
       "      <td>145.112000</td>\n",
       "      <td>0</td>\n",
       "      <td>0</td>\n",
       "    </tr>\n",
       "    <tr>\n",
       "      <th>...</th>\n",
       "      <td>...</td>\n",
       "      <td>...</td>\n",
       "      <td>...</td>\n",
       "      <td>...</td>\n",
       "    </tr>\n",
       "    <tr>\n",
       "      <th>19770</th>\n",
       "      <td>-31.947500</td>\n",
       "      <td>115.891000</td>\n",
       "      <td>4</td>\n",
       "      <td>0</td>\n",
       "    </tr>\n",
       "    <tr>\n",
       "      <th>19771</th>\n",
       "      <td>-31.879395</td>\n",
       "      <td>116.194904</td>\n",
       "      <td>4</td>\n",
       "      <td>0</td>\n",
       "    </tr>\n",
       "    <tr>\n",
       "      <th>19772</th>\n",
       "      <td>-32.119700</td>\n",
       "      <td>116.102869</td>\n",
       "      <td>4</td>\n",
       "      <td>0</td>\n",
       "    </tr>\n",
       "    <tr>\n",
       "      <th>19773</th>\n",
       "      <td>-31.771600</td>\n",
       "      <td>115.988000</td>\n",
       "      <td>4</td>\n",
       "      <td>0</td>\n",
       "    </tr>\n",
       "    <tr>\n",
       "      <th>19774</th>\n",
       "      <td>-31.770800</td>\n",
       "      <td>115.988000</td>\n",
       "      <td>4</td>\n",
       "      <td>0</td>\n",
       "    </tr>\n",
       "  </tbody>\n",
       "</table>\n",
       "<p>19775 rows × 4 columns</p>\n",
       "</div>"
      ],
      "text/plain": [
       "       decimalLatitude  decimalLongitude  cluster  occurrenceStatus\n",
       "0           -38.369245        144.979495        0                 0\n",
       "1           -38.322200        145.190000        0                 0\n",
       "2           -37.718300        145.053000        0                 0\n",
       "3           -37.733000        144.973000        0                 0\n",
       "4           -37.796300        145.112000        0                 0\n",
       "...                ...               ...      ...               ...\n",
       "19770       -31.947500        115.891000        4                 0\n",
       "19771       -31.879395        116.194904        4                 0\n",
       "19772       -32.119700        116.102869        4                 0\n",
       "19773       -31.771600        115.988000        4                 0\n",
       "19774       -31.770800        115.988000        4                 0\n",
       "\n",
       "[19775 rows x 4 columns]"
      ]
     },
     "execution_count": 8,
     "metadata": {},
     "output_type": "execute_result"
    }
   ],
   "source": [
    "#final_frog_data.to_csv('final_cluster_frog.csv')\n",
    "final_data = pd.read_csv('final_cluster_frog.csv').drop('Unnamed: 0', axis=1)\n",
    "final_data"
   ]
  },
  {
   "cell_type": "code",
   "execution_count": 9,
   "id": "6529286b",
   "metadata": {
    "scrolled": true
   },
   "outputs": [],
   "source": [
    "\n",
    "\n",
    "# X_balance = final_data[[ 'decimalLatitude', 'decimalLongitude','cluster']]\n",
    "# y_balance = final_data['occurrenceStatus']\n",
    "\n",
    "# # summarize class distribution\n",
    "# print(Counter(y_balance))\n",
    "\n",
    "# #define pipeline\n",
    "# smt = SMOTETomek(sampling_strategy = 'auto')\n",
    "# X_res, y_res = smt.fit_resample(X_balance, y_balance)\n",
    "\n",
    "\n",
    "\n",
    "# # # define undersample strategy\n",
    "# # undersample = RandomUnderSampler(sampling_strategy=1)\n",
    "# # X_res, y_res = undersample.fit_resample(X_balance, y_balance)\n",
    "\n",
    "\n",
    "# all_frog_data = pd.concat([X_res, y_res], axis=1)\n",
    "# # summarize class distribution\n",
    "# print(Counter(y_res))\n",
    "all_frog_data = final_data.copy()\n"
   ]
  },
  {
   "cell_type": "code",
   "execution_count": 10,
   "id": "105437e6",
   "metadata": {},
   "outputs": [
    {
     "data": {
      "text/plain": [
       "19775"
      ]
     },
     "execution_count": 10,
     "metadata": {},
     "output_type": "execute_result"
    }
   ],
   "source": [
    "len(all_frog_data)"
   ]
  },
  {
   "cell_type": "code",
   "execution_count": 11,
   "id": "ba59b911",
   "metadata": {
    "scrolled": true
   },
   "outputs": [
    {
     "data": {
      "text/html": [
       "<div>\n",
       "<style scoped>\n",
       "    .dataframe tbody tr th:only-of-type {\n",
       "        vertical-align: middle;\n",
       "    }\n",
       "\n",
       "    .dataframe tbody tr th {\n",
       "        vertical-align: top;\n",
       "    }\n",
       "\n",
       "    .dataframe thead th {\n",
       "        text-align: right;\n",
       "    }\n",
       "</style>\n",
       "<table border=\"1\" class=\"dataframe\">\n",
       "  <thead>\n",
       "    <tr style=\"text-align: right;\">\n",
       "      <th></th>\n",
       "      <th>decimalLatitude</th>\n",
       "      <th>decimalLongitude</th>\n",
       "      <th>cluster</th>\n",
       "      <th>occurrenceStatus</th>\n",
       "      <th>key</th>\n",
       "    </tr>\n",
       "  </thead>\n",
       "  <tbody>\n",
       "    <tr>\n",
       "      <th>0</th>\n",
       "      <td>-38.369245</td>\n",
       "      <td>144.979495</td>\n",
       "      <td>0</td>\n",
       "      <td>0</td>\n",
       "      <td>0</td>\n",
       "    </tr>\n",
       "    <tr>\n",
       "      <th>1</th>\n",
       "      <td>-38.322200</td>\n",
       "      <td>145.190000</td>\n",
       "      <td>0</td>\n",
       "      <td>0</td>\n",
       "      <td>1</td>\n",
       "    </tr>\n",
       "    <tr>\n",
       "      <th>2</th>\n",
       "      <td>-37.718300</td>\n",
       "      <td>145.053000</td>\n",
       "      <td>0</td>\n",
       "      <td>0</td>\n",
       "      <td>2</td>\n",
       "    </tr>\n",
       "    <tr>\n",
       "      <th>3</th>\n",
       "      <td>-37.733000</td>\n",
       "      <td>144.973000</td>\n",
       "      <td>0</td>\n",
       "      <td>0</td>\n",
       "      <td>3</td>\n",
       "    </tr>\n",
       "    <tr>\n",
       "      <th>4</th>\n",
       "      <td>-37.796300</td>\n",
       "      <td>145.112000</td>\n",
       "      <td>0</td>\n",
       "      <td>0</td>\n",
       "      <td>4</td>\n",
       "    </tr>\n",
       "    <tr>\n",
       "      <th>...</th>\n",
       "      <td>...</td>\n",
       "      <td>...</td>\n",
       "      <td>...</td>\n",
       "      <td>...</td>\n",
       "      <td>...</td>\n",
       "    </tr>\n",
       "    <tr>\n",
       "      <th>19770</th>\n",
       "      <td>-31.947500</td>\n",
       "      <td>115.891000</td>\n",
       "      <td>4</td>\n",
       "      <td>0</td>\n",
       "      <td>19770</td>\n",
       "    </tr>\n",
       "    <tr>\n",
       "      <th>19771</th>\n",
       "      <td>-31.879395</td>\n",
       "      <td>116.194904</td>\n",
       "      <td>4</td>\n",
       "      <td>0</td>\n",
       "      <td>19771</td>\n",
       "    </tr>\n",
       "    <tr>\n",
       "      <th>19772</th>\n",
       "      <td>-32.119700</td>\n",
       "      <td>116.102869</td>\n",
       "      <td>4</td>\n",
       "      <td>0</td>\n",
       "      <td>19772</td>\n",
       "    </tr>\n",
       "    <tr>\n",
       "      <th>19773</th>\n",
       "      <td>-31.771600</td>\n",
       "      <td>115.988000</td>\n",
       "      <td>4</td>\n",
       "      <td>0</td>\n",
       "      <td>19773</td>\n",
       "    </tr>\n",
       "    <tr>\n",
       "      <th>19774</th>\n",
       "      <td>-31.770800</td>\n",
       "      <td>115.988000</td>\n",
       "      <td>4</td>\n",
       "      <td>0</td>\n",
       "      <td>19774</td>\n",
       "    </tr>\n",
       "  </tbody>\n",
       "</table>\n",
       "<p>19775 rows × 5 columns</p>\n",
       "</div>"
      ],
      "text/plain": [
       "       decimalLatitude  decimalLongitude  cluster  occurrenceStatus    key\n",
       "0           -38.369245        144.979495        0                 0      0\n",
       "1           -38.322200        145.190000        0                 0      1\n",
       "2           -37.718300        145.053000        0                 0      2\n",
       "3           -37.733000        144.973000        0                 0      3\n",
       "4           -37.796300        145.112000        0                 0      4\n",
       "...                ...               ...      ...               ...    ...\n",
       "19770       -31.947500        115.891000        4                 0  19770\n",
       "19771       -31.879395        116.194904        4                 0  19771\n",
       "19772       -32.119700        116.102869        4                 0  19772\n",
       "19773       -31.771600        115.988000        4                 0  19773\n",
       "19774       -31.770800        115.988000        4                 0  19774\n",
       "\n",
       "[19775 rows x 5 columns]"
      ]
     },
     "execution_count": 11,
     "metadata": {},
     "output_type": "execute_result"
    }
   ],
   "source": [
    "all_frog_data = (\n",
    "    all_frog_data.reset_index(drop=True).assign(key= lambda x: x.index))\n",
    "all_frog_data.cluster = all_frog_data.cluster.astype(int)\n",
    "all_frog_data"
   ]
  },
  {
   "cell_type": "code",
   "execution_count": 12,
   "id": "70a06c23",
   "metadata": {},
   "outputs": [
    {
     "data": {
      "text/plain": [
       "cluster  occurrenceStatus\n",
       "0        0                    445\n",
       "         1                    156\n",
       "1        0                   7899\n",
       "         1                   7701\n",
       "2        0                    784\n",
       "         1                   1120\n",
       "3        0                    206\n",
       "         1                    457\n",
       "4        0                   1007\n",
       "Name: key, dtype: int64"
      ]
     },
     "execution_count": 12,
     "metadata": {},
     "output_type": "execute_result"
    }
   ],
   "source": [
    "all_frog_data.groupby(['cluster','occurrenceStatus']).count()['key']"
   ]
  },
  {
   "cell_type": "code",
   "execution_count": 13,
   "id": "4d87eb2a",
   "metadata": {
    "scrolled": true
   },
   "outputs": [
    {
     "name": "stdout",
     "output_type": "stream",
     "text": [
      "(144.8, -38.5, 145.8, -37.5)\n",
      "(150.7, -33.5, 151.7, -32.5)\n",
      "(152.6, -29.0, 153.6, -28.0)\n",
      "(145.0, -17.7, 146.0, -16.7)\n",
      "(115.7, -32.5, 116.7, -31.5)\n"
     ]
    }
   ],
   "source": [
    "for bbox_num in range(len(bbox_coordinates)):\n",
    "    print(list(bbox_coordinates.values())[bbox_num])"
   ]
  },
  {
   "cell_type": "code",
   "execution_count": 15,
   "id": "71f909b7",
   "metadata": {},
   "outputs": [],
   "source": [
    "def get_terraclimate(bbox, metrics, time_slice=None, assets=None, features=None, interp_dims=None, verbose=True):\n",
    "    \"\"\"Returns terraclimate metrics for a given area, allowing results to be interpolated onto a larger image.\n",
    "    \n",
    "    Attributes:\n",
    "    bbox -- Tuple of (min_lon, min_lat, max_lon, max_lat) to define area\n",
    "    metrics -- Nested dictionary in the form {<metric_name>:{'fn':<metric_function>,'params':<metric_kwargs_dict>}, ... }\n",
    "    time_slice -- Tuple of datetime strings to select data between, e.g. ('2015-01-01','2019-12-31')\n",
    "    assets -- list of terraclimate assets to take\n",
    "    features -- list of asset metrics to take, specified by strings in the form '<asset_name>_<metric_name>'\n",
    "    interp_dims -- Tuple of dimensions (n, m) to interpolate results to\n",
    "    \"\"\"\n",
    "    min_lon, min_lat, max_lon, max_lat = bbox\n",
    "    \n",
    "    collection = pystac.read_file(\"https://planetarycomputer.microsoft.com/api/stac/v1/collections/terraclimate\")\n",
    "    asset = collection.assets[\"zarr-https\"]\n",
    "    store = fsspec.get_mapper(asset.href)\n",
    "    data = xr.open_zarr(store, **asset.extra_fields[\"xarray:open_kwargs\"])\n",
    "    \n",
    "    # Select datapoints that overlap region\n",
    "    if time_slice is not None:\n",
    "        data = data.sel(lon=slice(min_lon,max_lon),lat=slice(max_lat,min_lat),time=slice(time_slice[0],time_slice[1]))\n",
    "    else:\n",
    "        data = data.sel(lon=slice(min_lon,max_lon),lat=slice(max_lat,min_lat))\n",
    "    if assets is not None:\n",
    "        data = data[assets]\n",
    "    print('Loading data') if verbose else None\n",
    "    data = data.rename(lat='y', lon='x').to_array().compute()\n",
    "        \n",
    "    # Calculate metrics\n",
    "    combined_values = []\n",
    "    combined_bands = []\n",
    "    for name, metric in metrics.items():\n",
    "        print(f'Calculating {name}') if verbose else None\n",
    "        sum_data = xr.apply_ufunc(\n",
    "            metric['fn'], data, input_core_dims=[[\"time\"]], kwargs=metric['params'], dask = 'allowed', vectorize = True\n",
    "        ).rename(variable='band')\n",
    "        xcoords = sum_data.x\n",
    "        ycoords = sum_data.y\n",
    "        dims = sum_data.dims\n",
    "        combined_values.append(sum_data.values)\n",
    "        for band in sum_data.band.values:\n",
    "            combined_bands.append(band+'_'+name)\n",
    "        \n",
    "    # Combine metrics\n",
    "    combined_values = np.concatenate(\n",
    "        combined_values,\n",
    "        axis=0\n",
    "    )\n",
    "    combined_data = xr.DataArray(\n",
    "        data=combined_values,\n",
    "        dims=dims,\n",
    "        coords=dict(\n",
    "            band=combined_bands,\n",
    "            y=ycoords,\n",
    "            x=xcoords\n",
    "        )\n",
    "    )    \n",
    "\n",
    "    # Take relevant bands:\n",
    "    combined_data = combined_data.sel(band=features)\n",
    "    \n",
    "    if interp_dims is not None:\n",
    "        print(f'Interpolating image') if verbose else None\n",
    "        interp_coords = (np.linspace(bbox[0], bbox[2], interp_dims[0]), np.linspace(bbox[1], bbox[3], interp_dims[1]))\n",
    "        combined_data = combined_data.interp(x=interp_coords[0], y=interp_coords[1], method='nearest', kwargs={\"fill_value\": \"extrapolate\"})\n",
    "    \n",
    "    return combined_data"
   ]
  },
  {
   "cell_type": "code",
   "execution_count": 16,
   "id": "43142352",
   "metadata": {},
   "outputs": [],
   "source": [
    "def join_frogs(frogs, data):\n",
    "    \"\"\"Collects the data for each frog location and joins it onto the frog data \n",
    "\n",
    "    Arguments:\n",
    "    frogs -- dataframe containing the response variable along with [\"decimalLongitude\", \"decimalLatitude\", \"key\"]\n",
    "    data -- xarray dataarray of features, indexed with geocoordinates\n",
    "    \"\"\"\n",
    "    return frogs.merge(\n",
    "        (\n",
    "            data\n",
    "            .rename('data')\n",
    "            .sel(\n",
    "                x=xr.DataArray(frogs.decimalLongitude, dims=\"key\", coords={\"key\": frogs.key}), \n",
    "                y=xr.DataArray(frogs.decimalLatitude, dims=\"key\", coords={\"key\": frogs.key}),\n",
    "                method=\"nearest\"\n",
    "            )\n",
    "            .to_dataframe()\n",
    "            .assign(val = lambda x: x.iloc[:, -1])\n",
    "            [['val']]\n",
    "            .reset_index()\n",
    "            .drop_duplicates()\n",
    "            .pivot_table(index=\"key\", columns=\"band\", values=\"val\")\n",
    "            .reset_index()\n",
    "        ),\n",
    "        on = ['key'],\n",
    "        how = 'inner'\n",
    "    )"
   ]
  },
  {
   "cell_type": "code",
   "execution_count": 37,
   "id": "dc60b2ae",
   "metadata": {
    "scrolled": true
   },
   "outputs": [
    {
     "name": "stdout",
     "output_type": "stream",
     "text": [
      "Loading data\n",
      "Calculating mean\n"
     ]
    },
    {
     "name": "stderr",
     "output_type": "stream",
     "text": [
      "C:\\Users\\LR996GB\\Anaconda3\\envs\\frogs\\lib\\site-packages\\numpy\\lib\\function_base.py:2277: RuntimeWarning: Mean of empty slice\n",
      "  results = func(*(arg[index] for arg in args))\n"
     ]
    },
    {
     "name": "stdout",
     "output_type": "stream",
     "text": [
      "Calculating min\n",
      "Calculating max\n",
      "Interpolating image\n"
     ]
    },
    {
     "name": "stderr",
     "output_type": "stream",
     "text": [
      "C:\\Users\\LR996GB\\Anaconda3\\envs\\frogs\\lib\\site-packages\\numpy\\lib\\function_base.py:2277: RuntimeWarning: All-NaN slice encountered\n",
      "  results = func(*(arg[index] for arg in args))\n"
     ]
    },
    {
     "data": {
      "text/plain": [
       "array(['tmax_mean', 'tmin_mean', 'ppt_mean', 'soil_mean', 'aet_mean',\n",
       "       'def_mean', 'pet_mean', 'vap_mean', 'vpd_mean', 'pdsi_mean',\n",
       "       'srad_mean'], dtype='<U9')"
      ]
     },
     "metadata": {},
     "output_type": "display_data"
    },
    {
     "name": "stdout",
     "output_type": "stream",
     "text": [
      "Loading data\n",
      "Calculating mean\n"
     ]
    },
    {
     "name": "stderr",
     "output_type": "stream",
     "text": [
      "C:\\Users\\LR996GB\\Anaconda3\\envs\\frogs\\lib\\site-packages\\numpy\\lib\\function_base.py:2277: RuntimeWarning: Mean of empty slice\n",
      "  results = func(*(arg[index] for arg in args))\n"
     ]
    },
    {
     "name": "stdout",
     "output_type": "stream",
     "text": [
      "Calculating min\n",
      "Calculating max\n",
      "Interpolating image\n"
     ]
    },
    {
     "name": "stderr",
     "output_type": "stream",
     "text": [
      "C:\\Users\\LR996GB\\Anaconda3\\envs\\frogs\\lib\\site-packages\\numpy\\lib\\function_base.py:2277: RuntimeWarning: All-NaN slice encountered\n",
      "  results = func(*(arg[index] for arg in args))\n"
     ]
    },
    {
     "data": {
      "text/plain": [
       "array(['tmax_mean', 'tmin_mean', 'ppt_mean', 'soil_mean', 'aet_mean',\n",
       "       'def_mean', 'pet_mean', 'vap_mean', 'vpd_mean', 'pdsi_mean',\n",
       "       'srad_mean'], dtype='<U9')"
      ]
     },
     "metadata": {},
     "output_type": "display_data"
    },
    {
     "name": "stdout",
     "output_type": "stream",
     "text": [
      "Loading data\n",
      "Calculating mean\n"
     ]
    },
    {
     "name": "stderr",
     "output_type": "stream",
     "text": [
      "C:\\Users\\LR996GB\\Anaconda3\\envs\\frogs\\lib\\site-packages\\numpy\\lib\\function_base.py:2277: RuntimeWarning: Mean of empty slice\n",
      "  results = func(*(arg[index] for arg in args))\n",
      "C:\\Users\\LR996GB\\Anaconda3\\envs\\frogs\\lib\\site-packages\\numpy\\lib\\function_base.py:2277: RuntimeWarning: All-NaN slice encountered\n",
      "  results = func(*(arg[index] for arg in args))\n"
     ]
    },
    {
     "name": "stdout",
     "output_type": "stream",
     "text": [
      "Calculating min\n",
      "Calculating max\n",
      "Interpolating image\n"
     ]
    },
    {
     "data": {
      "text/plain": [
       "array(['tmax_mean', 'tmin_mean', 'ppt_mean', 'soil_mean', 'aet_mean',\n",
       "       'def_mean', 'pet_mean', 'vap_mean', 'vpd_mean', 'pdsi_mean',\n",
       "       'srad_mean'], dtype='<U9')"
      ]
     },
     "metadata": {},
     "output_type": "display_data"
    },
    {
     "name": "stdout",
     "output_type": "stream",
     "text": [
      "Loading data\n",
      "Calculating mean\n"
     ]
    },
    {
     "name": "stderr",
     "output_type": "stream",
     "text": [
      "C:\\Users\\LR996GB\\Anaconda3\\envs\\frogs\\lib\\site-packages\\numpy\\lib\\function_base.py:2277: RuntimeWarning: Mean of empty slice\n",
      "  results = func(*(arg[index] for arg in args))\n"
     ]
    },
    {
     "name": "stdout",
     "output_type": "stream",
     "text": [
      "Calculating min\n"
     ]
    },
    {
     "name": "stderr",
     "output_type": "stream",
     "text": [
      "C:\\Users\\LR996GB\\Anaconda3\\envs\\frogs\\lib\\site-packages\\numpy\\lib\\function_base.py:2277: RuntimeWarning: All-NaN slice encountered\n",
      "  results = func(*(arg[index] for arg in args))\n"
     ]
    },
    {
     "name": "stdout",
     "output_type": "stream",
     "text": [
      "Calculating max\n",
      "Interpolating image\n"
     ]
    },
    {
     "data": {
      "text/plain": [
       "array(['tmax_mean', 'tmin_mean', 'ppt_mean', 'soil_mean', 'aet_mean',\n",
       "       'def_mean', 'pet_mean', 'vap_mean', 'vpd_mean', 'pdsi_mean',\n",
       "       'srad_mean'], dtype='<U9')"
      ]
     },
     "metadata": {},
     "output_type": "display_data"
    },
    {
     "name": "stdout",
     "output_type": "stream",
     "text": [
      "Loading data\n",
      "Calculating mean\n"
     ]
    },
    {
     "name": "stderr",
     "output_type": "stream",
     "text": [
      "C:\\Users\\LR996GB\\Anaconda3\\envs\\frogs\\lib\\site-packages\\numpy\\lib\\function_base.py:2277: RuntimeWarning: Mean of empty slice\n",
      "  results = func(*(arg[index] for arg in args))\n"
     ]
    },
    {
     "name": "stdout",
     "output_type": "stream",
     "text": [
      "Calculating min\n"
     ]
    },
    {
     "name": "stderr",
     "output_type": "stream",
     "text": [
      "C:\\Users\\LR996GB\\Anaconda3\\envs\\frogs\\lib\\site-packages\\numpy\\lib\\function_base.py:2277: RuntimeWarning: All-NaN slice encountered\n",
      "  results = func(*(arg[index] for arg in args))\n"
     ]
    },
    {
     "name": "stdout",
     "output_type": "stream",
     "text": [
      "Calculating max\n",
      "Interpolating image\n"
     ]
    },
    {
     "data": {
      "text/plain": [
       "array(['tmax_mean', 'tmin_mean', 'ppt_mean', 'soil_mean', 'aet_mean',\n",
       "       'def_mean', 'pet_mean', 'vap_mean', 'vpd_mean', 'pdsi_mean',\n",
       "       'srad_mean'], dtype='<U9')"
      ]
     },
     "metadata": {},
     "output_type": "display_data"
    }
   ],
   "source": [
    "# Metrics to measure over time dimension\n",
    "tc_metrics = {\n",
    "    'mean':{\n",
    "        'fn':np.nanmean,\n",
    "        'params':{}\n",
    "    },\n",
    "    'min':{\n",
    "        'fn':np.nanmin,\n",
    "        'params':{}\n",
    "    },\n",
    "    'max':{\n",
    "        'fn':np.nanmax,\n",
    "        'params':{}\n",
    "    }\n",
    "}\n",
    "\n",
    "# Date range to take\n",
    "time_slice = ('2000-01-01','2021-12-31')\n",
    "\n",
    "# Measurements to take\n",
    "assets=['tmax', 'tmin', 'ppt', 'soil',\n",
    "       'aet', \n",
    "        'def', \n",
    "        'pet', \n",
    "        'vap', \n",
    "        'vpd', \n",
    "        'pdsi', \n",
    "        'srad']\n",
    "\n",
    "# Features to take, in form '<asset>_<metric>'\n",
    "features=['tmax_mean', 'tmin_mean', 'ppt_mean', 'soil_mean', \n",
    "          'aet_mean', \n",
    "          'def_mean', \n",
    "          'pet_mean',\n",
    "          'vap_mean', \n",
    "          'vpd_mean', \n",
    "          'pdsi_mean', \n",
    "          'srad_mean']\n",
    "\n",
    "# Interpolate values to a 512x512 image\n",
    "interp_dims = (512, 512)\n",
    "\n",
    "\n",
    "model_data = pd.DataFrame()\n",
    "\n",
    "for bbox_num in range(len(bbox_coordinates)):\n",
    "    \n",
    "    bbox = list(bbox_coordinates.values())[bbox_num]\n",
    "    \n",
    "    frog_data_temp = all_frog_data.loc[all_frog_data.cluster == bbox_num]\n",
    "    \n",
    "    weather_data = get_terraclimate(bbox, tc_metrics, time_slice=time_slice, assets=assets, features=features, interp_dims=interp_dims)\n",
    "    display(weather_data.band.values)\n",
    "    \n",
    "    model_temp = join_frogs(frog_data_temp, weather_data)\n",
    "    \n",
    "    model_data = pd.concat([model_data,model_temp])"
   ]
  },
  {
   "cell_type": "code",
   "execution_count": 38,
   "id": "6a0e2626",
   "metadata": {},
   "outputs": [
    {
     "data": {
      "text/html": [
       "<div>\n",
       "<style scoped>\n",
       "    .dataframe tbody tr th:only-of-type {\n",
       "        vertical-align: middle;\n",
       "    }\n",
       "\n",
       "    .dataframe tbody tr th {\n",
       "        vertical-align: top;\n",
       "    }\n",
       "\n",
       "    .dataframe thead th {\n",
       "        text-align: right;\n",
       "    }\n",
       "</style>\n",
       "<table border=\"1\" class=\"dataframe\">\n",
       "  <thead>\n",
       "    <tr style=\"text-align: right;\">\n",
       "      <th></th>\n",
       "      <th>decimalLatitude</th>\n",
       "      <th>decimalLongitude</th>\n",
       "      <th>cluster</th>\n",
       "      <th>occurrenceStatus</th>\n",
       "      <th>key</th>\n",
       "      <th>aet_mean</th>\n",
       "      <th>def_mean</th>\n",
       "      <th>pdsi_mean</th>\n",
       "      <th>pet_mean</th>\n",
       "      <th>ppt_mean</th>\n",
       "      <th>soil_mean</th>\n",
       "      <th>srad_mean</th>\n",
       "      <th>tmax_mean</th>\n",
       "      <th>tmin_mean</th>\n",
       "      <th>vap_mean</th>\n",
       "      <th>vpd_mean</th>\n",
       "    </tr>\n",
       "  </thead>\n",
       "  <tbody>\n",
       "    <tr>\n",
       "      <th>1002</th>\n",
       "      <td>-31.947500</td>\n",
       "      <td>115.891000</td>\n",
       "      <td>4</td>\n",
       "      <td>0</td>\n",
       "      <td>19770</td>\n",
       "      <td>49.916668</td>\n",
       "      <td>92.229164</td>\n",
       "      <td>-2.093750</td>\n",
       "      <td>142.108337</td>\n",
       "      <td>54.462502</td>\n",
       "      <td>58.495834</td>\n",
       "      <td>232.899994</td>\n",
       "      <td>24.615835</td>\n",
       "      <td>13.185419</td>\n",
       "      <td>1.324500</td>\n",
       "      <td>1.062833</td>\n",
       "    </tr>\n",
       "    <tr>\n",
       "      <th>1003</th>\n",
       "      <td>-31.879395</td>\n",
       "      <td>116.194904</td>\n",
       "      <td>4</td>\n",
       "      <td>0</td>\n",
       "      <td>19771</td>\n",
       "      <td>49.000000</td>\n",
       "      <td>81.824997</td>\n",
       "      <td>-1.217500</td>\n",
       "      <td>130.824997</td>\n",
       "      <td>67.033333</td>\n",
       "      <td>53.987499</td>\n",
       "      <td>231.512497</td>\n",
       "      <td>23.118753</td>\n",
       "      <td>10.332501</td>\n",
       "      <td>1.135708</td>\n",
       "      <td>1.000167</td>\n",
       "    </tr>\n",
       "    <tr>\n",
       "      <th>1004</th>\n",
       "      <td>-32.119700</td>\n",
       "      <td>116.102869</td>\n",
       "      <td>4</td>\n",
       "      <td>0</td>\n",
       "      <td>19772</td>\n",
       "      <td>53.062500</td>\n",
       "      <td>76.050003</td>\n",
       "      <td>-1.493750</td>\n",
       "      <td>129.120834</td>\n",
       "      <td>77.266670</td>\n",
       "      <td>66.079170</td>\n",
       "      <td>231.070831</td>\n",
       "      <td>22.762918</td>\n",
       "      <td>10.581252</td>\n",
       "      <td>1.161458</td>\n",
       "      <td>0.952500</td>\n",
       "    </tr>\n",
       "    <tr>\n",
       "      <th>1005</th>\n",
       "      <td>-31.771600</td>\n",
       "      <td>115.988000</td>\n",
       "      <td>4</td>\n",
       "      <td>0</td>\n",
       "      <td>19773</td>\n",
       "      <td>47.091667</td>\n",
       "      <td>93.679169</td>\n",
       "      <td>-1.676666</td>\n",
       "      <td>140.766663</td>\n",
       "      <td>53.795834</td>\n",
       "      <td>49.404167</td>\n",
       "      <td>233.633331</td>\n",
       "      <td>24.751253</td>\n",
       "      <td>12.317919</td>\n",
       "      <td>1.283958</td>\n",
       "      <td>1.088125</td>\n",
       "    </tr>\n",
       "    <tr>\n",
       "      <th>1006</th>\n",
       "      <td>-31.770800</td>\n",
       "      <td>115.988000</td>\n",
       "      <td>4</td>\n",
       "      <td>0</td>\n",
       "      <td>19774</td>\n",
       "      <td>47.091667</td>\n",
       "      <td>93.679169</td>\n",
       "      <td>-1.676666</td>\n",
       "      <td>140.766663</td>\n",
       "      <td>53.795834</td>\n",
       "      <td>49.404167</td>\n",
       "      <td>233.633331</td>\n",
       "      <td>24.751253</td>\n",
       "      <td>12.317919</td>\n",
       "      <td>1.283958</td>\n",
       "      <td>1.088125</td>\n",
       "    </tr>\n",
       "  </tbody>\n",
       "</table>\n",
       "</div>"
      ],
      "text/plain": [
       "      decimalLatitude  decimalLongitude  cluster  occurrenceStatus    key  \\\n",
       "1002       -31.947500        115.891000        4                 0  19770   \n",
       "1003       -31.879395        116.194904        4                 0  19771   \n",
       "1004       -32.119700        116.102869        4                 0  19772   \n",
       "1005       -31.771600        115.988000        4                 0  19773   \n",
       "1006       -31.770800        115.988000        4                 0  19774   \n",
       "\n",
       "       aet_mean   def_mean  pdsi_mean    pet_mean   ppt_mean  soil_mean  \\\n",
       "1002  49.916668  92.229164  -2.093750  142.108337  54.462502  58.495834   \n",
       "1003  49.000000  81.824997  -1.217500  130.824997  67.033333  53.987499   \n",
       "1004  53.062500  76.050003  -1.493750  129.120834  77.266670  66.079170   \n",
       "1005  47.091667  93.679169  -1.676666  140.766663  53.795834  49.404167   \n",
       "1006  47.091667  93.679169  -1.676666  140.766663  53.795834  49.404167   \n",
       "\n",
       "       srad_mean  tmax_mean  tmin_mean  vap_mean  vpd_mean  \n",
       "1002  232.899994  24.615835  13.185419  1.324500  1.062833  \n",
       "1003  231.512497  23.118753  10.332501  1.135708  1.000167  \n",
       "1004  231.070831  22.762918  10.581252  1.161458  0.952500  \n",
       "1005  233.633331  24.751253  12.317919  1.283958  1.088125  \n",
       "1006  233.633331  24.751253  12.317919  1.283958  1.088125  "
      ]
     },
     "execution_count": 38,
     "metadata": {},
     "output_type": "execute_result"
    }
   ],
   "source": [
    "model_data.tail()"
   ]
  },
  {
   "cell_type": "code",
   "execution_count": 39,
   "id": "940a7e1e",
   "metadata": {
    "scrolled": false
   },
   "outputs": [
    {
     "name": "stdout",
     "output_type": "stream",
     "text": [
      "<class 'pandas.core.frame.DataFrame'>\n",
      "Int64Index: 19735 entries, 0 to 1006\n",
      "Data columns (total 16 columns):\n",
      " #   Column            Non-Null Count  Dtype  \n",
      "---  ------            --------------  -----  \n",
      " 0   decimalLatitude   19735 non-null  float64\n",
      " 1   decimalLongitude  19735 non-null  float64\n",
      " 2   cluster           19735 non-null  int32  \n",
      " 3   occurrenceStatus  19735 non-null  int64  \n",
      " 4   key               19735 non-null  int64  \n",
      " 5   aet_mean          19735 non-null  float32\n",
      " 6   def_mean          19735 non-null  float32\n",
      " 7   pdsi_mean         19735 non-null  float32\n",
      " 8   pet_mean          19735 non-null  float32\n",
      " 9   ppt_mean          19735 non-null  float32\n",
      " 10  soil_mean         19735 non-null  float32\n",
      " 11  srad_mean         19735 non-null  float32\n",
      " 12  tmax_mean         19735 non-null  float32\n",
      " 13  tmin_mean         19735 non-null  float32\n",
      " 14  vap_mean          19735 non-null  float32\n",
      " 15  vpd_mean          19735 non-null  float32\n",
      "dtypes: float32(11), float64(2), int32(1), int64(2)\n",
      "memory usage: 1.7 MB\n"
     ]
    }
   ],
   "source": [
    "model_data.info()"
   ]
  },
  {
   "cell_type": "code",
   "execution_count": 41,
   "id": "0a450ded",
   "metadata": {},
   "outputs": [],
   "source": [
    "model_data.to_csv('terraclimate2000_2021_10_features2000_2021.csv')"
   ]
  },
  {
   "cell_type": "code",
   "execution_count": 20,
   "id": "51152675",
   "metadata": {},
   "outputs": [],
   "source": [
    "#model_data = pd.read_csv('terraclimate2000_2021_10_features.csv').drop('Unnamed: 0',axis=1)"
   ]
  },
  {
   "cell_type": "code",
   "execution_count": 42,
   "id": "120c0ba4",
   "metadata": {},
   "outputs": [
    {
     "data": {
      "text/html": [
       "<div>\n",
       "<style scoped>\n",
       "    .dataframe tbody tr th:only-of-type {\n",
       "        vertical-align: middle;\n",
       "    }\n",
       "\n",
       "    .dataframe tbody tr th {\n",
       "        vertical-align: top;\n",
       "    }\n",
       "\n",
       "    .dataframe thead th {\n",
       "        text-align: right;\n",
       "    }\n",
       "</style>\n",
       "<table border=\"1\" class=\"dataframe\">\n",
       "  <thead>\n",
       "    <tr style=\"text-align: right;\">\n",
       "      <th></th>\n",
       "      <th>decimalLatitude</th>\n",
       "      <th>decimalLongitude</th>\n",
       "      <th>cluster</th>\n",
       "      <th>occurrenceStatus</th>\n",
       "      <th>key</th>\n",
       "      <th>aet_mean</th>\n",
       "      <th>def_mean</th>\n",
       "      <th>pdsi_mean</th>\n",
       "      <th>pet_mean</th>\n",
       "      <th>ppt_mean</th>\n",
       "      <th>soil_mean</th>\n",
       "      <th>srad_mean</th>\n",
       "      <th>tmax_mean</th>\n",
       "      <th>tmin_mean</th>\n",
       "      <th>vap_mean</th>\n",
       "      <th>vpd_mean</th>\n",
       "    </tr>\n",
       "  </thead>\n",
       "  <tbody>\n",
       "    <tr>\n",
       "      <th>count</th>\n",
       "      <td>19735.000000</td>\n",
       "      <td>19735.000000</td>\n",
       "      <td>19735.000000</td>\n",
       "      <td>19735.000000</td>\n",
       "      <td>19735.000000</td>\n",
       "      <td>19735.000000</td>\n",
       "      <td>19735.000000</td>\n",
       "      <td>19735.000000</td>\n",
       "      <td>19735.000000</td>\n",
       "      <td>19735.000000</td>\n",
       "      <td>19735.000000</td>\n",
       "      <td>19735.000000</td>\n",
       "      <td>19735.000000</td>\n",
       "      <td>19735.000000</td>\n",
       "      <td>19735.000000</td>\n",
       "      <td>19735.000000</td>\n",
       "    </tr>\n",
       "    <tr>\n",
       "      <th>mean</th>\n",
       "      <td>-32.268299</td>\n",
       "      <td>149.386061</td>\n",
       "      <td>1.286243</td>\n",
       "      <td>0.477578</td>\n",
       "      <td>9894.313707</td>\n",
       "      <td>76.634140</td>\n",
       "      <td>35.687546</td>\n",
       "      <td>-1.813909</td>\n",
       "      <td>112.289444</td>\n",
       "      <td>90.551682</td>\n",
       "      <td>83.774002</td>\n",
       "      <td>199.328995</td>\n",
       "      <td>23.545721</td>\n",
       "      <td>12.801207</td>\n",
       "      <td>1.465370</td>\n",
       "      <td>0.768800</td>\n",
       "    </tr>\n",
       "    <tr>\n",
       "      <th>std</th>\n",
       "      <td>3.307221</td>\n",
       "      <td>7.928176</td>\n",
       "      <td>0.799121</td>\n",
       "      <td>0.499510</td>\n",
       "      <td>5709.570984</td>\n",
       "      <td>11.791684</td>\n",
       "      <td>15.690877</td>\n",
       "      <td>0.323310</td>\n",
       "      <td>8.689060</td>\n",
       "      <td>22.193590</td>\n",
       "      <td>45.556618</td>\n",
       "      <td>10.593624</td>\n",
       "      <td>1.273565</td>\n",
       "      <td>1.508682</td>\n",
       "      <td>0.174254</td>\n",
       "      <td>0.089478</td>\n",
       "    </tr>\n",
       "    <tr>\n",
       "      <th>min</th>\n",
       "      <td>-38.498100</td>\n",
       "      <td>115.707234</td>\n",
       "      <td>0.000000</td>\n",
       "      <td>0.000000</td>\n",
       "      <td>0.000000</td>\n",
       "      <td>38.508335</td>\n",
       "      <td>12.725000</td>\n",
       "      <td>-3.705416</td>\n",
       "      <td>90.387497</td>\n",
       "      <td>40.537498</td>\n",
       "      <td>5.400000</td>\n",
       "      <td>176.120834</td>\n",
       "      <td>17.325003</td>\n",
       "      <td>6.448751</td>\n",
       "      <td>0.980958</td>\n",
       "      <td>0.518375</td>\n",
       "    </tr>\n",
       "    <tr>\n",
       "      <th>25%</th>\n",
       "      <td>-33.324900</td>\n",
       "      <td>151.351598</td>\n",
       "      <td>1.000000</td>\n",
       "      <td>0.000000</td>\n",
       "      <td>4950.500000</td>\n",
       "      <td>73.695831</td>\n",
       "      <td>28.145834</td>\n",
       "      <td>-1.867916</td>\n",
       "      <td>107.566666</td>\n",
       "      <td>80.941666</td>\n",
       "      <td>71.479164</td>\n",
       "      <td>194.629166</td>\n",
       "      <td>22.940002</td>\n",
       "      <td>12.382502</td>\n",
       "      <td>1.426958</td>\n",
       "      <td>0.721292</td>\n",
       "    </tr>\n",
       "    <tr>\n",
       "      <th>50%</th>\n",
       "      <td>-33.277588</td>\n",
       "      <td>151.365000</td>\n",
       "      <td>1.000000</td>\n",
       "      <td>0.000000</td>\n",
       "      <td>9904.000000</td>\n",
       "      <td>79.441666</td>\n",
       "      <td>28.758333</td>\n",
       "      <td>-1.865000</td>\n",
       "      <td>110.045830</td>\n",
       "      <td>93.687500</td>\n",
       "      <td>77.537498</td>\n",
       "      <td>195.812500</td>\n",
       "      <td>23.179167</td>\n",
       "      <td>12.382502</td>\n",
       "      <td>1.426958</td>\n",
       "      <td>0.734250</td>\n",
       "    </tr>\n",
       "    <tr>\n",
       "      <th>75%</th>\n",
       "      <td>-32.798841</td>\n",
       "      <td>151.481000</td>\n",
       "      <td>1.000000</td>\n",
       "      <td>1.000000</td>\n",
       "      <td>14838.500000</td>\n",
       "      <td>80.587502</td>\n",
       "      <td>37.462502</td>\n",
       "      <td>-1.717500</td>\n",
       "      <td>113.400002</td>\n",
       "      <td>94.654167</td>\n",
       "      <td>82.837502</td>\n",
       "      <td>197.962494</td>\n",
       "      <td>23.910835</td>\n",
       "      <td>13.185419</td>\n",
       "      <td>1.475667</td>\n",
       "      <td>0.768958</td>\n",
       "    </tr>\n",
       "    <tr>\n",
       "      <th>max</th>\n",
       "      <td>-16.739402</td>\n",
       "      <td>153.599672</td>\n",
       "      <td>4.000000</td>\n",
       "      <td>1.000000</td>\n",
       "      <td>19774.000000</td>\n",
       "      <td>116.820831</td>\n",
       "      <td>95.958336</td>\n",
       "      <td>0.195417</td>\n",
       "      <td>144.250000</td>\n",
       "      <td>297.283325</td>\n",
       "      <td>403.029175</td>\n",
       "      <td>235.012497</td>\n",
       "      <td>29.426668</td>\n",
       "      <td>20.836670</td>\n",
       "      <td>2.424583</td>\n",
       "      <td>1.129917</td>\n",
       "    </tr>\n",
       "  </tbody>\n",
       "</table>\n",
       "</div>"
      ],
      "text/plain": [
       "       decimalLatitude  decimalLongitude       cluster  occurrenceStatus  \\\n",
       "count     19735.000000      19735.000000  19735.000000      19735.000000   \n",
       "mean        -32.268299        149.386061      1.286243          0.477578   \n",
       "std           3.307221          7.928176      0.799121          0.499510   \n",
       "min         -38.498100        115.707234      0.000000          0.000000   \n",
       "25%         -33.324900        151.351598      1.000000          0.000000   \n",
       "50%         -33.277588        151.365000      1.000000          0.000000   \n",
       "75%         -32.798841        151.481000      1.000000          1.000000   \n",
       "max         -16.739402        153.599672      4.000000          1.000000   \n",
       "\n",
       "                key      aet_mean      def_mean     pdsi_mean      pet_mean  \\\n",
       "count  19735.000000  19735.000000  19735.000000  19735.000000  19735.000000   \n",
       "mean    9894.313707     76.634140     35.687546     -1.813909    112.289444   \n",
       "std     5709.570984     11.791684     15.690877      0.323310      8.689060   \n",
       "min        0.000000     38.508335     12.725000     -3.705416     90.387497   \n",
       "25%     4950.500000     73.695831     28.145834     -1.867916    107.566666   \n",
       "50%     9904.000000     79.441666     28.758333     -1.865000    110.045830   \n",
       "75%    14838.500000     80.587502     37.462502     -1.717500    113.400002   \n",
       "max    19774.000000    116.820831     95.958336      0.195417    144.250000   \n",
       "\n",
       "           ppt_mean     soil_mean     srad_mean     tmax_mean     tmin_mean  \\\n",
       "count  19735.000000  19735.000000  19735.000000  19735.000000  19735.000000   \n",
       "mean      90.551682     83.774002    199.328995     23.545721     12.801207   \n",
       "std       22.193590     45.556618     10.593624      1.273565      1.508682   \n",
       "min       40.537498      5.400000    176.120834     17.325003      6.448751   \n",
       "25%       80.941666     71.479164    194.629166     22.940002     12.382502   \n",
       "50%       93.687500     77.537498    195.812500     23.179167     12.382502   \n",
       "75%       94.654167     82.837502    197.962494     23.910835     13.185419   \n",
       "max      297.283325    403.029175    235.012497     29.426668     20.836670   \n",
       "\n",
       "           vap_mean      vpd_mean  \n",
       "count  19735.000000  19735.000000  \n",
       "mean       1.465370      0.768800  \n",
       "std        0.174254      0.089478  \n",
       "min        0.980958      0.518375  \n",
       "25%        1.426958      0.721292  \n",
       "50%        1.426958      0.734250  \n",
       "75%        1.475667      0.768958  \n",
       "max        2.424583      1.129917  "
      ]
     },
     "execution_count": 42,
     "metadata": {},
     "output_type": "execute_result"
    }
   ],
   "source": [
    "model_data.describe()"
   ]
  },
  {
   "cell_type": "code",
   "execution_count": 43,
   "id": "b56bb211",
   "metadata": {},
   "outputs": [
    {
     "name": "stderr",
     "output_type": "stream",
     "text": [
      "C:\\Users\\LR996GB\\Anaconda3\\envs\\frogs\\lib\\site-packages\\ipykernel_launcher.py:4: FutureWarning: In a future version of pandas all arguments of DataFrame.drop except for the argument 'labels' will be keyword-only\n",
      "  after removing the cwd from sys.path.\n"
     ]
    }
   ],
   "source": [
    "# Separate the predictor variables from the response\n",
    "X = (\n",
    "    model_data\n",
    "    .drop(['decimalLatitude', 'decimalLongitude', 'occurrenceStatus', 'key','cluster'], 1).reset_index(drop=True)\n",
    ")\n",
    "y = model_data.occurrenceStatus.astype(int)"
   ]
  },
  {
   "cell_type": "code",
   "execution_count": 61,
   "id": "10d58aa7",
   "metadata": {
    "scrolled": false
   },
   "outputs": [
    {
     "data": {
      "text/html": [
       "<div>\n",
       "<style scoped>\n",
       "    .dataframe tbody tr th:only-of-type {\n",
       "        vertical-align: middle;\n",
       "    }\n",
       "\n",
       "    .dataframe tbody tr th {\n",
       "        vertical-align: top;\n",
       "    }\n",
       "\n",
       "    .dataframe thead th {\n",
       "        text-align: right;\n",
       "    }\n",
       "</style>\n",
       "<table border=\"1\" class=\"dataframe\">\n",
       "  <thead>\n",
       "    <tr style=\"text-align: right;\">\n",
       "      <th></th>\n",
       "      <th>aet_mean</th>\n",
       "      <th>def_mean</th>\n",
       "      <th>pdsi_mean</th>\n",
       "      <th>pet_mean</th>\n",
       "      <th>ppt_mean</th>\n",
       "      <th>soil_mean</th>\n",
       "      <th>srad_mean</th>\n",
       "      <th>tmax_mean</th>\n",
       "      <th>tmin_mean</th>\n",
       "      <th>vap_mean</th>\n",
       "      <th>vpd_mean</th>\n",
       "    </tr>\n",
       "  </thead>\n",
       "  <tbody>\n",
       "    <tr>\n",
       "      <th>0</th>\n",
       "      <td>57.349998</td>\n",
       "      <td>37.020832</td>\n",
       "      <td>-2.745000</td>\n",
       "      <td>94.287498</td>\n",
       "      <td>63.779167</td>\n",
       "      <td>55.966667</td>\n",
       "      <td>176.204163</td>\n",
       "      <td>18.239588</td>\n",
       "      <td>10.112501</td>\n",
       "      <td>1.173500</td>\n",
       "      <td>0.518375</td>\n",
       "    </tr>\n",
       "    <tr>\n",
       "      <th>1</th>\n",
       "      <td>55.075001</td>\n",
       "      <td>44.933334</td>\n",
       "      <td>-3.302917</td>\n",
       "      <td>99.974998</td>\n",
       "      <td>58.470833</td>\n",
       "      <td>53.091667</td>\n",
       "      <td>177.887497</td>\n",
       "      <td>19.442921</td>\n",
       "      <td>10.526251</td>\n",
       "      <td>1.211417</td>\n",
       "      <td>0.586833</td>\n",
       "    </tr>\n",
       "    <tr>\n",
       "      <th>2</th>\n",
       "      <td>51.862499</td>\n",
       "      <td>57.745834</td>\n",
       "      <td>-2.907916</td>\n",
       "      <td>109.558334</td>\n",
       "      <td>54.608334</td>\n",
       "      <td>24.887501</td>\n",
       "      <td>179.033340</td>\n",
       "      <td>20.685835</td>\n",
       "      <td>10.147502</td>\n",
       "      <td>1.149333</td>\n",
       "      <td>0.738208</td>\n",
       "    </tr>\n",
       "    <tr>\n",
       "      <th>3</th>\n",
       "      <td>46.799999</td>\n",
       "      <td>62.987499</td>\n",
       "      <td>-2.806249</td>\n",
       "      <td>109.704170</td>\n",
       "      <td>49.241665</td>\n",
       "      <td>15.220834</td>\n",
       "      <td>178.625000</td>\n",
       "      <td>20.606668</td>\n",
       "      <td>10.179585</td>\n",
       "      <td>1.158167</td>\n",
       "      <td>0.720208</td>\n",
       "    </tr>\n",
       "    <tr>\n",
       "      <th>4</th>\n",
       "      <td>55.424999</td>\n",
       "      <td>54.179165</td>\n",
       "      <td>-3.036666</td>\n",
       "      <td>109.562500</td>\n",
       "      <td>58.387501</td>\n",
       "      <td>32.445835</td>\n",
       "      <td>178.795837</td>\n",
       "      <td>20.659586</td>\n",
       "      <td>10.347918</td>\n",
       "      <td>1.153167</td>\n",
       "      <td>0.737917</td>\n",
       "    </tr>\n",
       "    <tr>\n",
       "      <th>...</th>\n",
       "      <td>...</td>\n",
       "      <td>...</td>\n",
       "      <td>...</td>\n",
       "      <td>...</td>\n",
       "      <td>...</td>\n",
       "      <td>...</td>\n",
       "      <td>...</td>\n",
       "      <td>...</td>\n",
       "      <td>...</td>\n",
       "      <td>...</td>\n",
       "      <td>...</td>\n",
       "    </tr>\n",
       "    <tr>\n",
       "      <th>19730</th>\n",
       "      <td>49.916668</td>\n",
       "      <td>92.229164</td>\n",
       "      <td>-2.093750</td>\n",
       "      <td>142.108337</td>\n",
       "      <td>54.462502</td>\n",
       "      <td>58.495834</td>\n",
       "      <td>232.899994</td>\n",
       "      <td>24.615835</td>\n",
       "      <td>13.185419</td>\n",
       "      <td>1.324500</td>\n",
       "      <td>1.062833</td>\n",
       "    </tr>\n",
       "    <tr>\n",
       "      <th>19731</th>\n",
       "      <td>49.000000</td>\n",
       "      <td>81.824997</td>\n",
       "      <td>-1.217500</td>\n",
       "      <td>130.824997</td>\n",
       "      <td>67.033333</td>\n",
       "      <td>53.987499</td>\n",
       "      <td>231.512497</td>\n",
       "      <td>23.118753</td>\n",
       "      <td>10.332501</td>\n",
       "      <td>1.135708</td>\n",
       "      <td>1.000167</td>\n",
       "    </tr>\n",
       "    <tr>\n",
       "      <th>19732</th>\n",
       "      <td>53.062500</td>\n",
       "      <td>76.050003</td>\n",
       "      <td>-1.493750</td>\n",
       "      <td>129.120834</td>\n",
       "      <td>77.266670</td>\n",
       "      <td>66.079170</td>\n",
       "      <td>231.070831</td>\n",
       "      <td>22.762918</td>\n",
       "      <td>10.581252</td>\n",
       "      <td>1.161458</td>\n",
       "      <td>0.952500</td>\n",
       "    </tr>\n",
       "    <tr>\n",
       "      <th>19733</th>\n",
       "      <td>47.091667</td>\n",
       "      <td>93.679169</td>\n",
       "      <td>-1.676666</td>\n",
       "      <td>140.766663</td>\n",
       "      <td>53.795834</td>\n",
       "      <td>49.404167</td>\n",
       "      <td>233.633331</td>\n",
       "      <td>24.751253</td>\n",
       "      <td>12.317919</td>\n",
       "      <td>1.283958</td>\n",
       "      <td>1.088125</td>\n",
       "    </tr>\n",
       "    <tr>\n",
       "      <th>19734</th>\n",
       "      <td>47.091667</td>\n",
       "      <td>93.679169</td>\n",
       "      <td>-1.676666</td>\n",
       "      <td>140.766663</td>\n",
       "      <td>53.795834</td>\n",
       "      <td>49.404167</td>\n",
       "      <td>233.633331</td>\n",
       "      <td>24.751253</td>\n",
       "      <td>12.317919</td>\n",
       "      <td>1.283958</td>\n",
       "      <td>1.088125</td>\n",
       "    </tr>\n",
       "  </tbody>\n",
       "</table>\n",
       "<p>19735 rows × 11 columns</p>\n",
       "</div>"
      ],
      "text/plain": [
       "        aet_mean   def_mean  pdsi_mean    pet_mean   ppt_mean  soil_mean  \\\n",
       "0      57.349998  37.020832  -2.745000   94.287498  63.779167  55.966667   \n",
       "1      55.075001  44.933334  -3.302917   99.974998  58.470833  53.091667   \n",
       "2      51.862499  57.745834  -2.907916  109.558334  54.608334  24.887501   \n",
       "3      46.799999  62.987499  -2.806249  109.704170  49.241665  15.220834   \n",
       "4      55.424999  54.179165  -3.036666  109.562500  58.387501  32.445835   \n",
       "...          ...        ...        ...         ...        ...        ...   \n",
       "19730  49.916668  92.229164  -2.093750  142.108337  54.462502  58.495834   \n",
       "19731  49.000000  81.824997  -1.217500  130.824997  67.033333  53.987499   \n",
       "19732  53.062500  76.050003  -1.493750  129.120834  77.266670  66.079170   \n",
       "19733  47.091667  93.679169  -1.676666  140.766663  53.795834  49.404167   \n",
       "19734  47.091667  93.679169  -1.676666  140.766663  53.795834  49.404167   \n",
       "\n",
       "        srad_mean  tmax_mean  tmin_mean  vap_mean  vpd_mean  \n",
       "0      176.204163  18.239588  10.112501  1.173500  0.518375  \n",
       "1      177.887497  19.442921  10.526251  1.211417  0.586833  \n",
       "2      179.033340  20.685835  10.147502  1.149333  0.738208  \n",
       "3      178.625000  20.606668  10.179585  1.158167  0.720208  \n",
       "4      178.795837  20.659586  10.347918  1.153167  0.737917  \n",
       "...           ...        ...        ...       ...       ...  \n",
       "19730  232.899994  24.615835  13.185419  1.324500  1.062833  \n",
       "19731  231.512497  23.118753  10.332501  1.135708  1.000167  \n",
       "19732  231.070831  22.762918  10.581252  1.161458  0.952500  \n",
       "19733  233.633331  24.751253  12.317919  1.283958  1.088125  \n",
       "19734  233.633331  24.751253  12.317919  1.283958  1.088125  \n",
       "\n",
       "[19735 rows x 11 columns]"
      ]
     },
     "execution_count": 61,
     "metadata": {},
     "output_type": "execute_result"
    }
   ],
   "source": [
    "#PREDICTOR VARIABLES\n",
    "X"
   ]
  },
  {
   "cell_type": "code",
   "execution_count": 62,
   "id": "a46d51b7",
   "metadata": {
    "scrolled": true
   },
   "outputs": [
    {
     "data": {
      "text/plain": [
       "0       0\n",
       "1       0\n",
       "2       0\n",
       "3       0\n",
       "4       0\n",
       "       ..\n",
       "1002    0\n",
       "1003    0\n",
       "1004    0\n",
       "1005    0\n",
       "1006    0\n",
       "Name: occurrenceStatus, Length: 19735, dtype: int32"
      ]
     },
     "execution_count": 62,
     "metadata": {},
     "output_type": "execute_result"
    }
   ],
   "source": [
    "#TARGET VARIABLES\n",
    "y"
   ]
  },
  {
   "cell_type": "code",
   "execution_count": 46,
   "id": "95418311",
   "metadata": {
    "scrolled": true
   },
   "outputs": [
    {
     "data": {
      "text/plain": [
       "0    10310\n",
       "1     9425\n",
       "Name: occurrenceStatus, dtype: int64"
      ]
     },
     "execution_count": 46,
     "metadata": {},
     "output_type": "execute_result"
    }
   ],
   "source": [
    "y.value_counts()"
   ]
  },
  {
   "cell_type": "markdown",
   "id": "c240f262",
   "metadata": {},
   "source": [
    "# example of a standardization\n",
    "from sklearn.preprocessing import StandardScaler\n",
    "# define data\n",
    "data = X\n",
    "# define standard scaler\n",
    "scaler = StandardScaler()\n",
    "# transform data\n",
    "X_scaled = scaler.fit_transform(data)"
   ]
  },
  {
   "cell_type": "code",
   "execution_count": 64,
   "id": "9b5bba9f",
   "metadata": {},
   "outputs": [
    {
     "name": "stdout",
     "output_type": "stream",
     "text": [
      "[[0.24059585 0.29190028 0.24620807 ... 0.2546407  0.13337368 0.        ]\n",
      " [0.21154562 0.38696432 0.10318303 ... 0.28339744 0.15963858 0.11194378]\n",
      " [0.17052403 0.54089904 0.20444351 ... 0.25707334 0.11663347 0.35947388]\n",
      " ...\n",
      " [0.18584725 0.760813   0.56697285 ... 0.28722018 0.12503248 0.70988625]\n",
      " [0.10960361 0.9726171  0.52008116 ... 0.40792328 0.20988828 0.9316618 ]\n",
      " [0.10960361 0.9726171  0.52008116 ... 0.40792328 0.20988828 0.9316618 ]]\n"
     ]
    }
   ],
   "source": [
    "# example of a normalization\n",
    "from sklearn.preprocessing import MinMaxScaler\n",
    "# define data\n",
    "data = X\n",
    "# define min max scaler\n",
    "scaler = MinMaxScaler()\n",
    "# transform data\n",
    "X_scaled = scaler.fit_transform(data)\n",
    "print(X_scaled)"
   ]
  },
  {
   "cell_type": "markdown",
   "id": "01d5bf5f",
   "metadata": {},
   "source": [
    "X_scaled = X\n"
   ]
  },
  {
   "cell_type": "markdown",
   "id": "5aceb903",
   "metadata": {
    "scrolled": false
   },
   "source": [
    "from imblearn.combine import SMOTETomek\n",
    "from collections import Counter\n",
    "\n",
    "\n",
    "\n",
    "X_balance = X\n",
    "y_balance = y\n",
    "\n",
    "# summarize class distribution\n",
    "print(Counter(y_balance))\n",
    "\n",
    "smt = SMOTETomek(sampling_strategy = 'all')\n",
    "X_res, y_res = smt.fit_resample(X_balance, y_balance)\n",
    "\n",
    "# all_frog_data = pd.concat([X_res, y_res], axis=1)\n",
    "# summarize class distribution\n",
    "print(Counter(y_res))"
   ]
  },
  {
   "cell_type": "markdown",
   "id": "b33458cb",
   "metadata": {},
   "source": [
    "pairplot_data = pd.concat([X_res,y_res], axis=1)"
   ]
  },
  {
   "cell_type": "markdown",
   "id": "89a0e1b5",
   "metadata": {},
   "source": [
    "sns.pairplot(pairplot_data)"
   ]
  },
  {
   "cell_type": "code",
   "execution_count": 78,
   "id": "1a0061ee",
   "metadata": {},
   "outputs": [],
   "source": [
    "y = y.astype('category')"
   ]
  },
  {
   "cell_type": "code",
   "execution_count": 79,
   "id": "3f0513aa",
   "metadata": {},
   "outputs": [],
   "source": [
    "X_train, X_test, y_train, y_test = train_test_split(X_scaled, y, test_size=0.10, random_state=1)"
   ]
  },
  {
   "cell_type": "code",
   "execution_count": 80,
   "id": "5871bfc7",
   "metadata": {},
   "outputs": [],
   "source": [
    "# Cross validate model with Kfold stratified cross val\n",
    "kfold = StratifiedKFold(n_splits=5) "
   ]
  },
  {
   "cell_type": "code",
   "execution_count": 81,
   "id": "8a8da803",
   "metadata": {},
   "outputs": [],
   "source": [
    "def report(model):\n",
    "    preds = model.predict(X_test)\n",
    "    print(classification_report(y_test,preds))\n",
    "    plot_confusion_matrix(model,X_test,y_test)\n",
    "    print(f\"F1 Score: {np.mean(f1_score(y_test, preds)).round(2)}\")\n",
    "    print(f\"Accuracy: {np.mean(accuracy_score(y_test, preds)).round(2)}\")"
   ]
  },
  {
   "cell_type": "markdown",
   "id": "381834b7",
   "metadata": {},
   "source": [
    "### Logisitic Regression\n",
    "\n",
    "LR = LogisticRegression()\n",
    "\n",
    "#Parameters\n",
    "solvers = ['newton-cg', 'lbfgs']\n",
    "penalty = ['l2']\n",
    "c_values = [300, 250,200,100]\n",
    "\n",
    "#ParametersGrid\n",
    "lr_param_grid = dict(solver=solvers,penalty=penalty,C=c_values)\n",
    "\n",
    "#GridSearchCV\n",
    "gsLR = GridSearchCV(LR,param_grid = lr_param_grid, cv=kfold, scoring=\"accuracy\", n_jobs= -1, verbose = 1)\n",
    "\n",
    "gsLR.fit(X_train,y_train)"
   ]
  },
  {
   "cell_type": "markdown",
   "id": "fbdfcf6c",
   "metadata": {},
   "source": [
    "# Summarize the results\n",
    "LR_best = gsLR.best_estimator_\n",
    "print('Best : {}, using {}'.format(gsLR.best_score_,gsLR.best_params_))\n",
    "report(gsLR)"
   ]
  },
  {
   "cell_type": "markdown",
   "id": "1a5ccc72",
   "metadata": {},
   "source": [
    "# Train the model\n",
    "LSVC = LinearSVC()\n",
    "\n",
    "#Parameters\n",
    "class_weight=[None]\n",
    "dual=[True]\n",
    "tol=[1e-3,1e-2]\n",
    "max_iter=[1e5]\n",
    "\n",
    "#ParametersGrid\n",
    "lsvc_param_grid = dict(class_weight=class_weight,dual=dual,tol=tol,max_iter=max_iter)\n",
    "\n",
    "#GridSearchCV\n",
    "gsLSVC = GridSearchCV(LSVC,param_grid = lsvc_param_grid, cv=kfold, scoring=\"accuracy\", n_jobs= -1, verbose = 1)\n",
    "gsLSVC.fit(X_train,y_train)"
   ]
  },
  {
   "cell_type": "markdown",
   "id": "6bcee2df",
   "metadata": {},
   "source": [
    "#Summarize the results\n",
    "LSVC_best = gsLSVC.best_estimator_\n",
    "print('Best : {}, using {}'.format(gsLSVC.best_score_,gsLSVC.best_params_))\n",
    "report(gsLSVC)"
   ]
  },
  {
   "cell_type": "markdown",
   "id": "72afd613",
   "metadata": {},
   "source": [
    "RFC = RandomForestClassifier()\n",
    "RFC.get_params().keys()"
   ]
  },
  {
   "cell_type": "markdown",
   "id": "389b147f",
   "metadata": {},
   "source": [
    "##### Train the model\n",
    "RFC = RandomForestClassifier()\n",
    "\n",
    "\n",
    "#Parameters\n",
    "rf_param_grid = {\"max_depth\": [20,40,55],\n",
    "              \"bootstrap\": [True],\n",
    "              \"n_estimators\" :[10,15,20,100],\n",
    "              \"criterion\": [\"gini\",\"entropy\"],\n",
    "                 \"class_weight\" : [\"balanced\"],            \n",
    "                \"max_leaf_nodes\":[None, 5, 10, 20,100]}\n",
    "\n",
    "# n_estimators=1000,criterion='conf',conf=[0.95,0.95]\n",
    "\n",
    "#GridSearchCV\n",
    "gsRFC = GridSearchCV(RFC,param_grid = rf_param_grid, cv=kfold, scoring=\"accuracy\", n_jobs= -1, verbose = 2)\n",
    "gsRFC.fit(X_train,y_train)"
   ]
  },
  {
   "cell_type": "markdown",
   "id": "4b204e6a",
   "metadata": {
    "scrolled": false
   },
   "source": [
    "# Summarize the results\n",
    "RFC_best = gsRFC.best_estimator_\n",
    "print('Best : {}, using {}'.format(gsRFC.best_score_,gsRFC.best_params_))\n",
    "report(gsRFC)"
   ]
  },
  {
   "cell_type": "markdown",
   "id": "24f77c82",
   "metadata": {},
   "source": [
    "#ExtraTrees \n",
    "ExtC = ExtraTreesClassifier()\n",
    "\n",
    "\n",
    "## Search grid for optimal parameters\n",
    "ex_param_grid = {\"max_depth\": [None, 10, 20, 50],\n",
    "              \"max_features\": [1, 3, 10],\n",
    "              \"min_samples_split\": [2, 3, 10],\n",
    "              \"min_samples_leaf\": [1, 3, 10],\n",
    "              \"bootstrap\": [False,True],\n",
    "              \"n_estimators\" :[200,300],\n",
    "              \"criterion\": [\"gini\"]}\n",
    "\n",
    "\n",
    "gsExtC = GridSearchCV(ExtC,param_grid = ex_param_grid, cv=kfold, scoring=\"accuracy\", n_jobs= -1, verbose = 1)\n",
    "\n",
    "gsExtC.fit(X_train,y_train)"
   ]
  },
  {
   "cell_type": "markdown",
   "id": "9b8c14da",
   "metadata": {},
   "source": [
    "# Summarize the results\n",
    "ExtC_best = gsExtC.best_estimator_\n",
    "print('Best : {}, using {}'.format(gsExtC.best_score_,gsExtC.best_params_))\n",
    "report(gsExtC)"
   ]
  },
  {
   "cell_type": "markdown",
   "id": "ace21bd3",
   "metadata": {},
   "source": [
    "### SVC classifier\n",
    "SVMC = SVC(probability=True)\n",
    "svc_param_grid = {'kernel': ['rbf','linear','poly','sigmoid'], \n",
    "                  'gamma': ['scale','auto'],\n",
    "                  'C': [1,100,300,500]}\n",
    "\n",
    "gsSVMC = GridSearchCV(SVMC,param_grid = svc_param_grid, cv=kfold, scoring=\"accuracy\", n_jobs= -1, verbose = 2)\n",
    "\n",
    "gsSVMC.fit(X_train,y_train)"
   ]
  },
  {
   "cell_type": "markdown",
   "id": "e5883cbc",
   "metadata": {},
   "source": [
    "# Summarize the results\n",
    "SVMC_best = gsSVMC.best_estimator_\n",
    "print('Best : {}, using {}'.format(gsSVMC.best_score_,gsSVMC.best_params_))\n",
    "report(gsSVMC)"
   ]
  },
  {
   "cell_type": "code",
   "execution_count": 93,
   "id": "8b0869ef",
   "metadata": {},
   "outputs": [
    {
     "name": "stdout",
     "output_type": "stream",
     "text": [
      "Fitting 5 folds for each of 48 candidates, totalling 240 fits\n"
     ]
    },
    {
     "name": "stderr",
     "output_type": "stream",
     "text": [
      "[Parallel(n_jobs=-1)]: Using backend LokyBackend with 8 concurrent workers.\n",
      "[Parallel(n_jobs=-1)]: Done  34 tasks      | elapsed:  5.6min\n",
      "[Parallel(n_jobs=-1)]: Done 184 tasks      | elapsed: 36.6min\n",
      "[Parallel(n_jobs=-1)]: Done 240 out of 240 | elapsed: 51.1min finished\n"
     ]
    },
    {
     "data": {
      "text/plain": [
       "GridSearchCV(cv=StratifiedKFold(n_splits=5, random_state=None, shuffle=False),\n",
       "             estimator=MLPClassifier(max_iter=500), n_jobs=-1,\n",
       "             param_grid={'activation': ['tanh', 'relu'],\n",
       "                         'alpha': [0.0001, 0.001, 0.05],\n",
       "                         'hidden_layer_sizes': [(50, 50, 50), (50, 100, 50)],\n",
       "                         'learning_rate': ['constant', 'adaptive'],\n",
       "                         'solver': ['sgd', 'adam']},\n",
       "             scoring='accuracy', verbose=True)"
      ]
     },
     "execution_count": 93,
     "metadata": {},
     "output_type": "execute_result"
    }
   ],
   "source": [
    "#MLP\n",
    "\n",
    "MLP = MLPClassifier(max_iter=500)\n",
    "\n",
    "# mlp_param_grid = {\n",
    "#     'hidden_layer_sizes': [(50,50),(100)],\n",
    "#     'activation': ['tanh', 'relu'],\n",
    "#     'solver': ['sgd', 'adam'],\n",
    "#     'alpha': [0.0001, 0.05],\n",
    "#     'learning_rate': ['constant','adaptive']}\n",
    "\n",
    "mlp_param_grid = {\n",
    "    'hidden_layer_sizes': [(50,50,50), (50,100,50)],\n",
    "    'activation': ['tanh', 'relu'],\n",
    "    'solver': ['sgd', 'adam'],\n",
    "    'alpha': [0.0001,0.001, 0.05],\n",
    "    'learning_rate': ['constant','adaptive']}\n",
    "\n",
    "gsMLP = GridSearchCV(MLP,param_grid = mlp_param_grid, cv=kfold, scoring=\"accuracy\", n_jobs= -1, verbose = True)\n",
    "gsMLP.fit(X_train,y_train)"
   ]
  },
  {
   "cell_type": "code",
   "execution_count": 94,
   "id": "75a57024",
   "metadata": {},
   "outputs": [
    {
     "name": "stdout",
     "output_type": "stream",
     "text": [
      "Best : 0.6341423343551826, using {'activation': 'relu', 'alpha': 0.0001, 'hidden_layer_sizes': (50, 100, 50), 'learning_rate': 'constant', 'solver': 'adam'}\n",
      "              precision    recall  f1-score   support\n",
      "\n",
      "           0       0.72      0.50      0.59      1052\n",
      "           1       0.58      0.78      0.66       922\n",
      "\n",
      "    accuracy                           0.63      1974\n",
      "   macro avg       0.65      0.64      0.63      1974\n",
      "weighted avg       0.66      0.63      0.63      1974\n",
      "\n",
      "F1 Score: 0.66\n",
      "Accuracy: 0.63\n"
     ]
    },
    {
     "data": {
      "image/png": "[encoded data removed]",
      "text/plain": [
       "<Figure size 432x288 with 2 Axes>"
      ]
     },
     "metadata": {
      "needs_background": "light"
     },
     "output_type": "display_data"
    }
   ],
   "source": [
    "# Summarize the results\n",
    "MLP_best = gsMLP.best_estimator_\n",
    "print('Best : {}, using {}'.format(gsMLP.best_score_,gsMLP.best_params_))\n",
    "report(gsMLP)"
   ]
  },
  {
   "cell_type": "code",
   "execution_count": null,
   "id": "d15c22d9",
   "metadata": {},
   "outputs": [],
   "source": []
  },
  {
   "cell_type": "code",
   "execution_count": null,
   "id": "858a1e48",
   "metadata": {},
   "outputs": [],
   "source": []
  },
  {
   "cell_type": "code",
   "execution_count": null,
   "id": "081140e6",
   "metadata": {},
   "outputs": [],
   "source": []
  },
  {
   "cell_type": "code",
   "execution_count": 73,
   "id": "0a22b30e",
   "metadata": {},
   "outputs": [
    {
     "name": "stdout",
     "output_type": "stream",
     "text": [
      "Fitting 5 folds for each of 9 candidates, totalling 45 fits\n"
     ]
    },
    {
     "name": "stderr",
     "output_type": "stream",
     "text": [
      "[Parallel(n_jobs=-1)]: Using backend LokyBackend with 8 concurrent workers.\n",
      "[Parallel(n_jobs=-1)]: Done  45 out of  45 | elapsed: 16.8min finished\n",
      "C:\\Users\\LR996GB\\Anaconda3\\envs\\frogs\\lib\\site-packages\\xgboost\\sklearn.py:1224: UserWarning: The use of label encoder in XGBClassifier is deprecated and will be removed in a future release. To remove this warning, do the following: 1) Pass option use_label_encoder=False when constructing XGBClassifier object; and 2) Encode your labels (y) as integers starting with 0, i.e. 0, 1, 2, ..., [num_class - 1].\n",
      "  warnings.warn(label_encoder_deprecation_msg, UserWarning)\n"
     ]
    },
    {
     "name": "stdout",
     "output_type": "stream",
     "text": [
      "[11:21:31] WARNING: C:/Users/Administrator/workspace/xgboost-win64_release_1.5.1/src/learner.cc:1115: Starting in XGBoost 1.3.0, the default evaluation metric used with the objective 'binary:logistic' was changed from 'error' to 'logloss'. Explicitly set eval_metric if you'd like to restore the old behavior.\n"
     ]
    },
    {
     "data": {
      "text/plain": [
       "GridSearchCV(cv=StratifiedKFold(n_splits=5, random_state=None, shuffle=False),\n",
       "             estimator=XGBClassifier(base_score=None, booster=None,\n",
       "                                     colsample_bylevel=None,\n",
       "                                     colsample_bynode=None,\n",
       "                                     colsample_bytree=None,\n",
       "                                     enable_categorical=False, gamma=None,\n",
       "                                     gpu_id=None, importance_type=None,\n",
       "                                     interaction_constraints=None,\n",
       "                                     learning_rate=None, max_delta_step=None,\n",
       "                                     max_depth=None, mi...e,\n",
       "                                     missing=nan, monotone_constraints=None,\n",
       "                                     n_estimators=100, n_jobs=None,\n",
       "                                     num_parallel_tree=None, predictor=None,\n",
       "                                     random_state=None, reg_alpha=None,\n",
       "                                     reg_lambda=None, scale_pos_weight=None,\n",
       "                                     subsample=None, tree_method=None,\n",
       "                                     validate_parameters=None, verbosity=None),\n",
       "             n_jobs=-1,\n",
       "             param_grid={'max_depth': [4, 5, 6], 'min_child_weight': [4, 5, 6]},\n",
       "             scoring='accuracy', verbose=1)"
      ]
     },
     "execution_count": 73,
     "metadata": {},
     "output_type": "execute_result"
    }
   ],
   "source": [
    "#XGBooster\n",
    "\n",
    "XGB = XGBClassifier()\n",
    "\n",
    "xgb_param_grid = {\n",
    "                    \"learning_rate\"    : [0.01] ,\n",
    "                  \"min_child_weight\" : [4,5,6],\n",
    "                  \"max_depth\"        : [4,5,6]\n",
    "#                   \"gamma\"            : [ 0.0, 0.1, 0.2],\n",
    "#                   \"colsample_bytree\" : [ 0.5,0.6 ]\n",
    "}\n",
    "\n",
    "gsXGB = GridSearchCV(XGB,param_grid = xgb_param_grid, cv=kfold, scoring=\"accuracy\", n_jobs= -1, verbose = 1)\n",
    "gsXGB.fit(X_train,y_train)"
   ]
  },
  {
   "cell_type": "code",
   "execution_count": 74,
   "id": "e215ccd5",
   "metadata": {},
   "outputs": [
    {
     "name": "stdout",
     "output_type": "stream",
     "text": [
      "Best : 0.6583527148736127, using {'max_depth': 4, 'min_child_weight': 4}\n",
      "              precision    recall  f1-score   support\n",
      "\n",
      "           0       0.73      0.56      0.63      1052\n",
      "           1       0.60      0.77      0.68       922\n",
      "\n",
      "    accuracy                           0.66      1974\n",
      "   macro avg       0.67      0.66      0.65      1974\n",
      "weighted avg       0.67      0.66      0.65      1974\n",
      "\n",
      "F1 Score: 0.68\n",
      "Accuracy: 0.66\n"
     ]
    },
    {
     "data": {
      "image/png": "[encoded data removed]",
      "text/plain": [
       "<Figure size 432x288 with 2 Axes>"
      ]
     },
     "metadata": {
      "needs_background": "light"
     },
     "output_type": "display_data"
    }
   ],
   "source": [
    "# Summarize the results\n",
    "XGB_Best = gsXGB.best_estimator_\n",
    "print('Best : {}, using {}'.format(gsXGB.best_score_,gsXGB.best_params_))\n",
    "report(gsXGB)"
   ]
  },
  {
   "cell_type": "code",
   "execution_count": 54,
   "id": "95a7dbef",
   "metadata": {},
   "outputs": [],
   "source": [
    "df1 = pd.read_csv('Level_1_challenge_1_submission_template.csv')"
   ]
  },
  {
   "cell_type": "code",
   "execution_count": 55,
   "id": "e3c26fdf",
   "metadata": {},
   "outputs": [
    {
     "data": {
      "text/html": [
       "<div>\n",
       "<style scoped>\n",
       "    .dataframe tbody tr th:only-of-type {\n",
       "        vertical-align: middle;\n",
       "    }\n",
       "\n",
       "    .dataframe tbody tr th {\n",
       "        vertical-align: top;\n",
       "    }\n",
       "\n",
       "    .dataframe thead th {\n",
       "        text-align: right;\n",
       "    }\n",
       "</style>\n",
       "<table border=\"1\" class=\"dataframe\">\n",
       "  <thead>\n",
       "    <tr style=\"text-align: right;\">\n",
       "      <th></th>\n",
       "      <th>id</th>\n",
       "      <th>decimalLatitude</th>\n",
       "      <th>decimalLongitude</th>\n",
       "      <th>occurrenceStatus</th>\n",
       "      <th>aet_mean</th>\n",
       "      <th>def_mean</th>\n",
       "      <th>pdsi_mean</th>\n",
       "      <th>pet_mean</th>\n",
       "      <th>ppt_mean</th>\n",
       "      <th>soil_mean</th>\n",
       "      <th>srad_mean</th>\n",
       "      <th>tmax_mean</th>\n",
       "      <th>tmin_mean</th>\n",
       "      <th>vap_mean</th>\n",
       "      <th>vpd_mean</th>\n",
       "    </tr>\n",
       "  </thead>\n",
       "  <tbody>\n",
       "    <tr>\n",
       "      <th>0</th>\n",
       "      <td>0</td>\n",
       "      <td>-37.917146</td>\n",
       "      <td>145.207706</td>\n",
       "      <td>NaN</td>\n",
       "      <td>34.262501</td>\n",
       "      <td>94.183334</td>\n",
       "      <td>-1.266666</td>\n",
       "      <td>128.458328</td>\n",
       "      <td>40.008335</td>\n",
       "      <td>19.329166</td>\n",
       "      <td>227.787506</td>\n",
       "      <td>23.28417</td>\n",
       "      <td>9.011668</td>\n",
       "      <td>1.065542</td>\n",
       "      <td>1.043167</td>\n",
       "    </tr>\n",
       "    <tr>\n",
       "      <th>1</th>\n",
       "      <td>1</td>\n",
       "      <td>-37.750974</td>\n",
       "      <td>144.981501</td>\n",
       "      <td>NaN</td>\n",
       "      <td>34.262501</td>\n",
       "      <td>94.183334</td>\n",
       "      <td>-1.266666</td>\n",
       "      <td>128.458328</td>\n",
       "      <td>40.008335</td>\n",
       "      <td>19.329166</td>\n",
       "      <td>227.787506</td>\n",
       "      <td>23.28417</td>\n",
       "      <td>9.011668</td>\n",
       "      <td>1.065542</td>\n",
       "      <td>1.043167</td>\n",
       "    </tr>\n",
       "    <tr>\n",
       "      <th>2</th>\n",
       "      <td>2</td>\n",
       "      <td>-37.961600</td>\n",
       "      <td>145.348000</td>\n",
       "      <td>NaN</td>\n",
       "      <td>34.262501</td>\n",
       "      <td>94.183334</td>\n",
       "      <td>-1.266666</td>\n",
       "      <td>128.458328</td>\n",
       "      <td>40.008335</td>\n",
       "      <td>19.329166</td>\n",
       "      <td>227.787506</td>\n",
       "      <td>23.28417</td>\n",
       "      <td>9.011668</td>\n",
       "      <td>1.065542</td>\n",
       "      <td>1.043167</td>\n",
       "    </tr>\n",
       "    <tr>\n",
       "      <th>3</th>\n",
       "      <td>3</td>\n",
       "      <td>-37.621300</td>\n",
       "      <td>145.003000</td>\n",
       "      <td>NaN</td>\n",
       "      <td>34.262501</td>\n",
       "      <td>94.183334</td>\n",
       "      <td>-1.266666</td>\n",
       "      <td>128.458328</td>\n",
       "      <td>40.008335</td>\n",
       "      <td>19.329166</td>\n",
       "      <td>227.787506</td>\n",
       "      <td>23.28417</td>\n",
       "      <td>9.011668</td>\n",
       "      <td>1.065542</td>\n",
       "      <td>1.043167</td>\n",
       "    </tr>\n",
       "    <tr>\n",
       "      <th>4</th>\n",
       "      <td>4</td>\n",
       "      <td>-38.498100</td>\n",
       "      <td>145.647000</td>\n",
       "      <td>NaN</td>\n",
       "      <td>34.262501</td>\n",
       "      <td>94.183334</td>\n",
       "      <td>-1.266666</td>\n",
       "      <td>128.458328</td>\n",
       "      <td>40.008335</td>\n",
       "      <td>19.329166</td>\n",
       "      <td>227.787506</td>\n",
       "      <td>23.28417</td>\n",
       "      <td>9.011668</td>\n",
       "      <td>1.065542</td>\n",
       "      <td>1.043167</td>\n",
       "    </tr>\n",
       "  </tbody>\n",
       "</table>\n",
       "</div>"
      ],
      "text/plain": [
       "   id  decimalLatitude  decimalLongitude  occurrenceStatus   aet_mean  \\\n",
       "0   0       -37.917146        145.207706               NaN  34.262501   \n",
       "1   1       -37.750974        144.981501               NaN  34.262501   \n",
       "2   2       -37.961600        145.348000               NaN  34.262501   \n",
       "3   3       -37.621300        145.003000               NaN  34.262501   \n",
       "4   4       -38.498100        145.647000               NaN  34.262501   \n",
       "\n",
       "    def_mean  pdsi_mean    pet_mean   ppt_mean  soil_mean   srad_mean  \\\n",
       "0  94.183334  -1.266666  128.458328  40.008335  19.329166  227.787506   \n",
       "1  94.183334  -1.266666  128.458328  40.008335  19.329166  227.787506   \n",
       "2  94.183334  -1.266666  128.458328  40.008335  19.329166  227.787506   \n",
       "3  94.183334  -1.266666  128.458328  40.008335  19.329166  227.787506   \n",
       "4  94.183334  -1.266666  128.458328  40.008335  19.329166  227.787506   \n",
       "\n",
       "   tmax_mean  tmin_mean  vap_mean  vpd_mean  \n",
       "0   23.28417   9.011668  1.065542  1.043167  \n",
       "1   23.28417   9.011668  1.065542  1.043167  \n",
       "2   23.28417   9.011668  1.065542  1.043167  \n",
       "3   23.28417   9.011668  1.065542  1.043167  \n",
       "4   23.28417   9.011668  1.065542  1.043167  "
      ]
     },
     "execution_count": 55,
     "metadata": {},
     "output_type": "execute_result"
    }
   ],
   "source": [
    "def join_frogs_sub(frogs, data):\n",
    "    \"\"\"Collects the data for each frog location and joins it onto the frog data \n",
    "\n",
    "    Arguments:\n",
    "    frogs -- dataframe containing the response variable along with [\"decimalLongitude\", \"decimalLatitude\", \"key\"]\n",
    "    data -- xarray dataarray of features, indexed with geocoordinates\n",
    "    \"\"\"\n",
    "    return frogs.merge(\n",
    "        (\n",
    "            data\n",
    "            .rename('data')\n",
    "            .sel(\n",
    "                x=xr.DataArray(df1.decimalLongitude, dims=\"id\", coords={\"id\": df1.id}), \n",
    "                y=xr.DataArray(df1.decimalLatitude, dims=\"id\", coords={\"id\": df1.id}),\n",
    "                method=\"nearest\"\n",
    "            )\n",
    "            .to_dataframe()\n",
    "            .assign(val = lambda x: x.iloc[:, -1])\n",
    "            [['val']]\n",
    "            .reset_index()\n",
    "            .drop_duplicates()\n",
    "            .pivot(index=\"id\", columns=\"band\", values=\"val\")\n",
    "            .reset_index()\n",
    "        ),\n",
    "        on = ['id'],\n",
    "        how = 'inner'\n",
    "    )\n",
    "    \n",
    "test_data = join_frogs_sub(df1, weather_data)\n",
    "test_data.head()"
   ]
  },
  {
   "cell_type": "code",
   "execution_count": 69,
   "id": "766372ef",
   "metadata": {},
   "outputs": [],
   "source": [
    "data = test_data.iloc[:,4:]\n",
    "\n",
    "# define min max scaler\n",
    "scaler = MinMaxScaler()\n",
    "\n",
    "# transform data\n",
    "test_Scaled = scaler.fit_transform(data)"
   ]
  },
  {
   "cell_type": "code",
   "execution_count": 70,
   "id": "fe421440",
   "metadata": {},
   "outputs": [
    {
     "data": {
      "text/plain": [
       "array([[0.21700251, 0.45815337, 0.84201777, ..., 0.        , 0.        ,\n",
       "        0.24422169],\n",
       "       [0.21700251, 0.45815337, 0.84201777, ..., 0.        , 0.        ,\n",
       "        0.24422169],\n",
       "       [0.21700251, 0.45815337, 0.84201777, ..., 0.        , 0.        ,\n",
       "        0.24422169],\n",
       "       ...,\n",
       "       [0.825428  , 0.34150946, 0.15687358, ..., 0.88615537, 0.8842983 ,\n",
       "        0.12742901],\n",
       "       [0.6531292 , 0.27160752, 0.96202886, ..., 0.33507943, 0.24279404,\n",
       "        0.2710166 ],\n",
       "       [0.63085306, 0.46036422, 0.9079823 , ..., 0.5964453 , 0.42025805,\n",
       "        0.48936367]], dtype=float32)"
      ]
     },
     "execution_count": 70,
     "metadata": {},
     "output_type": "execute_result"
    }
   ],
   "source": [
    "test_Scaled"
   ]
  },
  {
   "cell_type": "code",
   "execution_count": 59,
   "id": "18591698",
   "metadata": {},
   "outputs": [],
   "source": [
    "def get_result(model,test_Scaled):\n",
    "    test_result = model.predict(test_Scaled)\n",
    "    df1.occurrenceStatus = test_result\n",
    "    print(df1.occurrenceStatus.value_counts())\n",
    "    "
   ]
  },
  {
   "cell_type": "code",
   "execution_count": null,
   "id": "4810cea6",
   "metadata": {
    "scrolled": true
   },
   "outputs": [],
   "source": [
    "get_result(gsLR, test_Scaled)"
   ]
  },
  {
   "cell_type": "code",
   "execution_count": null,
   "id": "d9e5b683",
   "metadata": {},
   "outputs": [],
   "source": [
    "get_result(gsRFC, test_Scaled)"
   ]
  },
  {
   "cell_type": "markdown",
   "id": "653c1514",
   "metadata": {},
   "source": [
    "get_result(gsExtC, test_Scaled)"
   ]
  },
  {
   "cell_type": "code",
   "execution_count": null,
   "id": "b836d7b9",
   "metadata": {},
   "outputs": [],
   "source": [
    "get_result(gsSVMC, test_Scaled)"
   ]
  },
  {
   "cell_type": "code",
   "execution_count": 95,
   "id": "6a7de640",
   "metadata": {},
   "outputs": [
    {
     "name": "stdout",
     "output_type": "stream",
     "text": [
      "0    2985\n",
      "1    1066\n",
      "Name: occurrenceStatus, dtype: int64\n"
     ]
    }
   ],
   "source": [
    "get_result(gsMLP, test_Scaled)"
   ]
  },
  {
   "cell_type": "code",
   "execution_count": 88,
   "id": "7cf8eba4",
   "metadata": {},
   "outputs": [
    {
     "name": "stdout",
     "output_type": "stream",
     "text": [
      "0    3625\n",
      "1     426\n",
      "Name: occurrenceStatus, dtype: int64\n"
     ]
    }
   ],
   "source": [
    "get_result(gsXGB, test_Scaled)"
   ]
  },
  {
   "cell_type": "code",
   "execution_count": 96,
   "id": "a2caf5fe",
   "metadata": {},
   "outputs": [],
   "source": [
    "df1.to_csv('fine_tunedMLP.csv')\n"
   ]
  },
  {
   "cell_type": "code",
   "execution_count": null,
   "id": "4628b6f9",
   "metadata": {},
   "outputs": [],
   "source": []
  }
 ],
 "metadata": {
  "kernelspec": {
   "display_name": "Python [conda env:frogs]",
   "language": "python",
   "name": "conda-env-frogs-py"
  },
  "language_info": {
   "codemirror_mode": {
    "name": "ipython",
    "version": 3
   },
   "file_extension": ".py",
   "mimetype": "text/x-python",
   "name": "python",
   "nbconvert_exporter": "python",
   "pygments_lexer": "ipython3",
   "version": "3.7.11"
  }
 },
 "nbformat": 4,
 "nbformat_minor": 5
}
